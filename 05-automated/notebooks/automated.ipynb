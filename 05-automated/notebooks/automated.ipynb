{
 "cells": [
  {
   "cell_type": "markdown",
   "metadata": {},
   "source": [
    "# Time Series Automated Methods\n",
    "\n",
    "## Import Libraries and Data\n"
   ]
  },
  {
   "cell_type": "code",
   "execution_count": 2,
   "metadata": {},
   "outputs": [],
   "source": [
    "import pandas as pd\n",
    "from greykite.framework.templates.autogen.forecast_config import ForecastConfig\n",
    "from greykite.framework.templates.forecaster import Forecaster\n",
    "from greykite.framework.templates.autogen.forecast_config import *\n",
    "from greykite.framework.templates.forecaster import Forecaster\n",
    "from greykite.framework.templates.model_templates import ModelTemplateEnum\n",
    "from greykite.common.features.timeseries_features import *\n",
    "from greykite.common.evaluation import EvaluationMetricEnum\n",
    "from greykite.framework.utils.result_summary import summarize_grid_search_results\n",
    "from sklearn.metrics import mean_squared_error\n",
    "from sklearn.metrics import (\n",
    "    mean_absolute_error,\n",
    "    root_mean_squared_error,\n",
    "    mean_absolute_percentage_error,\n",
    ")\n",
    "\n",
    "t_df = pd.read_csv(\"../data/t.csv\")\n",
    "v_df = pd.read_csv(\"../data/v.csv\")"
   ]
  },
  {
   "cell_type": "code",
   "execution_count": 3,
   "metadata": {},
   "outputs": [
    {
     "data": {
      "text/html": [
       "<div>\n",
       "<style scoped>\n",
       "    .dataframe tbody tr th:only-of-type {\n",
       "        vertical-align: middle;\n",
       "    }\n",
       "\n",
       "    .dataframe tbody tr th {\n",
       "        vertical-align: top;\n",
       "    }\n",
       "\n",
       "    .dataframe thead th {\n",
       "        text-align: right;\n",
       "    }\n",
       "</style>\n",
       "<table border=\"1\" class=\"dataframe\">\n",
       "  <thead>\n",
       "    <tr style=\"text-align: right;\">\n",
       "      <th></th>\n",
       "      <th>timestamp</th>\n",
       "      <th>open</th>\n",
       "      <th>high</th>\n",
       "      <th>low</th>\n",
       "      <th>close</th>\n",
       "      <th>volume</th>\n",
       "    </tr>\n",
       "  </thead>\n",
       "  <tbody>\n",
       "    <tr>\n",
       "      <th>0</th>\n",
       "      <td>2019-01-02</td>\n",
       "      <td>28.50</td>\n",
       "      <td>29.59</td>\n",
       "      <td>28.30</td>\n",
       "      <td>29.54</td>\n",
       "      <td>39293953</td>\n",
       "    </tr>\n",
       "    <tr>\n",
       "      <th>1</th>\n",
       "      <td>2019-01-03</td>\n",
       "      <td>29.52</td>\n",
       "      <td>29.81</td>\n",
       "      <td>29.21</td>\n",
       "      <td>29.58</td>\n",
       "      <td>37603571</td>\n",
       "    </tr>\n",
       "    <tr>\n",
       "      <th>2</th>\n",
       "      <td>2019-01-04</td>\n",
       "      <td>29.96</td>\n",
       "      <td>30.38</td>\n",
       "      <td>29.89</td>\n",
       "      <td>30.34</td>\n",
       "      <td>42072388</td>\n",
       "    </tr>\n",
       "    <tr>\n",
       "      <th>3</th>\n",
       "      <td>2019-01-07</td>\n",
       "      <td>30.73</td>\n",
       "      <td>31.27</td>\n",
       "      <td>30.42</td>\n",
       "      <td>30.89</td>\n",
       "      <td>41070898</td>\n",
       "    </tr>\n",
       "    <tr>\n",
       "      <th>4</th>\n",
       "      <td>2019-01-08</td>\n",
       "      <td>31.31</td>\n",
       "      <td>31.38</td>\n",
       "      <td>31.03</td>\n",
       "      <td>31.28</td>\n",
       "      <td>43567261</td>\n",
       "    </tr>\n",
       "  </tbody>\n",
       "</table>\n",
       "</div>"
      ],
      "text/plain": [
       "    timestamp   open   high    low  close    volume\n",
       "0  2019-01-02  28.50  29.59  28.30  29.54  39293953\n",
       "1  2019-01-03  29.52  29.81  29.21  29.58  37603571\n",
       "2  2019-01-04  29.96  30.38  29.89  30.34  42072388\n",
       "3  2019-01-07  30.73  31.27  30.42  30.89  41070898\n",
       "4  2019-01-08  31.31  31.38  31.03  31.28  43567261"
      ]
     },
     "execution_count": 3,
     "metadata": {},
     "output_type": "execute_result"
    }
   ],
   "source": [
    "t_df.head()"
   ]
  },
  {
   "cell_type": "code",
   "execution_count": 4,
   "metadata": {},
   "outputs": [
    {
     "data": {
      "text/html": [
       "<div>\n",
       "<style scoped>\n",
       "    .dataframe tbody tr th:only-of-type {\n",
       "        vertical-align: middle;\n",
       "    }\n",
       "\n",
       "    .dataframe tbody tr th {\n",
       "        vertical-align: top;\n",
       "    }\n",
       "\n",
       "    .dataframe thead th {\n",
       "        text-align: right;\n",
       "    }\n",
       "</style>\n",
       "<table border=\"1\" class=\"dataframe\">\n",
       "  <thead>\n",
       "    <tr style=\"text-align: right;\">\n",
       "      <th></th>\n",
       "      <th>timestamp</th>\n",
       "      <th>open</th>\n",
       "      <th>high</th>\n",
       "      <th>low</th>\n",
       "      <th>close</th>\n",
       "      <th>volume</th>\n",
       "    </tr>\n",
       "  </thead>\n",
       "  <tbody>\n",
       "    <tr>\n",
       "      <th>573</th>\n",
       "      <td>2021-04-13</td>\n",
       "      <td>29.86</td>\n",
       "      <td>29.860</td>\n",
       "      <td>29.510</td>\n",
       "      <td>29.63</td>\n",
       "      <td>41385404</td>\n",
       "    </tr>\n",
       "    <tr>\n",
       "      <th>574</th>\n",
       "      <td>2021-04-14</td>\n",
       "      <td>29.60</td>\n",
       "      <td>29.795</td>\n",
       "      <td>29.300</td>\n",
       "      <td>29.73</td>\n",
       "      <td>31287888</td>\n",
       "    </tr>\n",
       "    <tr>\n",
       "      <th>575</th>\n",
       "      <td>2021-04-15</td>\n",
       "      <td>29.78</td>\n",
       "      <td>29.840</td>\n",
       "      <td>29.680</td>\n",
       "      <td>29.75</td>\n",
       "      <td>26490820</td>\n",
       "    </tr>\n",
       "    <tr>\n",
       "      <th>576</th>\n",
       "      <td>2021-04-16</td>\n",
       "      <td>29.91</td>\n",
       "      <td>30.030</td>\n",
       "      <td>29.840</td>\n",
       "      <td>29.95</td>\n",
       "      <td>30163100</td>\n",
       "    </tr>\n",
       "    <tr>\n",
       "      <th>577</th>\n",
       "      <td>2021-04-19</td>\n",
       "      <td>30.00</td>\n",
       "      <td>30.075</td>\n",
       "      <td>29.810</td>\n",
       "      <td>29.99</td>\n",
       "      <td>29788532</td>\n",
       "    </tr>\n",
       "    <tr>\n",
       "      <th>578</th>\n",
       "      <td>2021-04-20</td>\n",
       "      <td>29.97</td>\n",
       "      <td>30.020</td>\n",
       "      <td>29.850</td>\n",
       "      <td>29.89</td>\n",
       "      <td>27038675</td>\n",
       "    </tr>\n",
       "    <tr>\n",
       "      <th>579</th>\n",
       "      <td>2021-04-21</td>\n",
       "      <td>29.96</td>\n",
       "      <td>30.235</td>\n",
       "      <td>29.905</td>\n",
       "      <td>30.11</td>\n",
       "      <td>34357370</td>\n",
       "    </tr>\n",
       "    <tr>\n",
       "      <th>580</th>\n",
       "      <td>2021-04-22</td>\n",
       "      <td>31.30</td>\n",
       "      <td>31.890</td>\n",
       "      <td>31.150</td>\n",
       "      <td>31.36</td>\n",
       "      <td>108523112</td>\n",
       "    </tr>\n",
       "    <tr>\n",
       "      <th>581</th>\n",
       "      <td>2021-04-23</td>\n",
       "      <td>31.48</td>\n",
       "      <td>31.710</td>\n",
       "      <td>31.400</td>\n",
       "      <td>31.40</td>\n",
       "      <td>40369340</td>\n",
       "    </tr>\n",
       "    <tr>\n",
       "      <th>582</th>\n",
       "      <td>2021-04-26</td>\n",
       "      <td>31.38</td>\n",
       "      <td>31.380</td>\n",
       "      <td>30.890</td>\n",
       "      <td>30.91</td>\n",
       "      <td>45461322</td>\n",
       "    </tr>\n",
       "    <tr>\n",
       "      <th>583</th>\n",
       "      <td>2021-04-27</td>\n",
       "      <td>30.84</td>\n",
       "      <td>30.880</td>\n",
       "      <td>30.630</td>\n",
       "      <td>30.77</td>\n",
       "      <td>33392195</td>\n",
       "    </tr>\n",
       "    <tr>\n",
       "      <th>584</th>\n",
       "      <td>2021-04-28</td>\n",
       "      <td>30.97</td>\n",
       "      <td>31.150</td>\n",
       "      <td>30.900</td>\n",
       "      <td>30.96</td>\n",
       "      <td>28091351</td>\n",
       "    </tr>\n",
       "    <tr>\n",
       "      <th>585</th>\n",
       "      <td>2021-04-29</td>\n",
       "      <td>31.13</td>\n",
       "      <td>31.530</td>\n",
       "      <td>31.110</td>\n",
       "      <td>31.34</td>\n",
       "      <td>38477920</td>\n",
       "    </tr>\n",
       "    <tr>\n",
       "      <th>586</th>\n",
       "      <td>2021-04-30</td>\n",
       "      <td>31.36</td>\n",
       "      <td>31.430</td>\n",
       "      <td>31.050</td>\n",
       "      <td>31.41</td>\n",
       "      <td>31332606</td>\n",
       "    </tr>\n",
       "    <tr>\n",
       "      <th>587</th>\n",
       "      <td>2021-05-03</td>\n",
       "      <td>31.78</td>\n",
       "      <td>31.850</td>\n",
       "      <td>31.465</td>\n",
       "      <td>31.50</td>\n",
       "      <td>37454107</td>\n",
       "    </tr>\n",
       "    <tr>\n",
       "      <th>588</th>\n",
       "      <td>2021-05-04</td>\n",
       "      <td>31.60</td>\n",
       "      <td>32.080</td>\n",
       "      <td>31.550</td>\n",
       "      <td>32.02</td>\n",
       "      <td>51888680</td>\n",
       "    </tr>\n",
       "    <tr>\n",
       "      <th>589</th>\n",
       "      <td>2021-05-05</td>\n",
       "      <td>32.01</td>\n",
       "      <td>32.095</td>\n",
       "      <td>31.880</td>\n",
       "      <td>32.03</td>\n",
       "      <td>20836259</td>\n",
       "    </tr>\n",
       "    <tr>\n",
       "      <th>590</th>\n",
       "      <td>2021-05-06</td>\n",
       "      <td>32.04</td>\n",
       "      <td>32.420</td>\n",
       "      <td>31.710</td>\n",
       "      <td>32.41</td>\n",
       "      <td>29120865</td>\n",
       "    </tr>\n",
       "    <tr>\n",
       "      <th>591</th>\n",
       "      <td>2021-05-07</td>\n",
       "      <td>32.20</td>\n",
       "      <td>32.360</td>\n",
       "      <td>32.060</td>\n",
       "      <td>32.16</td>\n",
       "      <td>28950204</td>\n",
       "    </tr>\n",
       "    <tr>\n",
       "      <th>592</th>\n",
       "      <td>2021-05-10</td>\n",
       "      <td>32.33</td>\n",
       "      <td>32.900</td>\n",
       "      <td>32.260</td>\n",
       "      <td>32.63</td>\n",
       "      <td>40983553</td>\n",
       "    </tr>\n",
       "    <tr>\n",
       "      <th>593</th>\n",
       "      <td>2021-05-11</td>\n",
       "      <td>32.49</td>\n",
       "      <td>32.670</td>\n",
       "      <td>32.080</td>\n",
       "      <td>32.26</td>\n",
       "      <td>33399776</td>\n",
       "    </tr>\n",
       "    <tr>\n",
       "      <th>594</th>\n",
       "      <td>2021-05-12</td>\n",
       "      <td>32.15</td>\n",
       "      <td>32.295</td>\n",
       "      <td>31.930</td>\n",
       "      <td>31.97</td>\n",
       "      <td>31482144</td>\n",
       "    </tr>\n",
       "    <tr>\n",
       "      <th>595</th>\n",
       "      <td>2021-05-13</td>\n",
       "      <td>31.83</td>\n",
       "      <td>32.355</td>\n",
       "      <td>31.660</td>\n",
       "      <td>32.21</td>\n",
       "      <td>27068405</td>\n",
       "    </tr>\n",
       "    <tr>\n",
       "      <th>596</th>\n",
       "      <td>2021-05-14</td>\n",
       "      <td>32.33</td>\n",
       "      <td>32.550</td>\n",
       "      <td>32.220</td>\n",
       "      <td>32.24</td>\n",
       "      <td>21181778</td>\n",
       "    </tr>\n",
       "    <tr>\n",
       "      <th>597</th>\n",
       "      <td>2021-05-17</td>\n",
       "      <td>33.51</td>\n",
       "      <td>33.880</td>\n",
       "      <td>31.240</td>\n",
       "      <td>31.37</td>\n",
       "      <td>171457883</td>\n",
       "    </tr>\n",
       "    <tr>\n",
       "      <th>598</th>\n",
       "      <td>2021-05-18</td>\n",
       "      <td>29.88</td>\n",
       "      <td>30.000</td>\n",
       "      <td>28.890</td>\n",
       "      <td>29.55</td>\n",
       "      <td>247052434</td>\n",
       "    </tr>\n",
       "    <tr>\n",
       "      <th>599</th>\n",
       "      <td>2021-05-19</td>\n",
       "      <td>29.05</td>\n",
       "      <td>29.180</td>\n",
       "      <td>28.670</td>\n",
       "      <td>28.96</td>\n",
       "      <td>122635900</td>\n",
       "    </tr>\n",
       "    <tr>\n",
       "      <th>600</th>\n",
       "      <td>2021-05-20</td>\n",
       "      <td>29.01</td>\n",
       "      <td>29.700</td>\n",
       "      <td>28.910</td>\n",
       "      <td>29.64</td>\n",
       "      <td>81940197</td>\n",
       "    </tr>\n",
       "    <tr>\n",
       "      <th>601</th>\n",
       "      <td>2021-05-21</td>\n",
       "      <td>30.01</td>\n",
       "      <td>30.240</td>\n",
       "      <td>29.860</td>\n",
       "      <td>30.01</td>\n",
       "      <td>74587869</td>\n",
       "    </tr>\n",
       "    <tr>\n",
       "      <th>602</th>\n",
       "      <td>2021-05-24</td>\n",
       "      <td>30.05</td>\n",
       "      <td>30.160</td>\n",
       "      <td>29.730</td>\n",
       "      <td>29.75</td>\n",
       "      <td>47598374</td>\n",
       "    </tr>\n",
       "    <tr>\n",
       "      <th>603</th>\n",
       "      <td>2021-05-25</td>\n",
       "      <td>29.71</td>\n",
       "      <td>29.750</td>\n",
       "      <td>29.230</td>\n",
       "      <td>29.52</td>\n",
       "      <td>58376815</td>\n",
       "    </tr>\n",
       "    <tr>\n",
       "      <th>604</th>\n",
       "      <td>2021-05-26</td>\n",
       "      <td>29.50</td>\n",
       "      <td>29.640</td>\n",
       "      <td>29.380</td>\n",
       "      <td>29.55</td>\n",
       "      <td>33055738</td>\n",
       "    </tr>\n",
       "    <tr>\n",
       "      <th>605</th>\n",
       "      <td>2021-05-27</td>\n",
       "      <td>29.65</td>\n",
       "      <td>29.900</td>\n",
       "      <td>29.570</td>\n",
       "      <td>29.71</td>\n",
       "      <td>47450089</td>\n",
       "    </tr>\n",
       "    <tr>\n",
       "      <th>606</th>\n",
       "      <td>2021-05-28</td>\n",
       "      <td>29.71</td>\n",
       "      <td>29.710</td>\n",
       "      <td>29.370</td>\n",
       "      <td>29.43</td>\n",
       "      <td>40929988</td>\n",
       "    </tr>\n",
       "    <tr>\n",
       "      <th>607</th>\n",
       "      <td>2021-06-01</td>\n",
       "      <td>29.46</td>\n",
       "      <td>29.525</td>\n",
       "      <td>29.220</td>\n",
       "      <td>29.32</td>\n",
       "      <td>39397487</td>\n",
       "    </tr>\n",
       "  </tbody>\n",
       "</table>\n",
       "</div>"
      ],
      "text/plain": [
       "      timestamp   open    high     low  close     volume\n",
       "573  2021-04-13  29.86  29.860  29.510  29.63   41385404\n",
       "574  2021-04-14  29.60  29.795  29.300  29.73   31287888\n",
       "575  2021-04-15  29.78  29.840  29.680  29.75   26490820\n",
       "576  2021-04-16  29.91  30.030  29.840  29.95   30163100\n",
       "577  2021-04-19  30.00  30.075  29.810  29.99   29788532\n",
       "578  2021-04-20  29.97  30.020  29.850  29.89   27038675\n",
       "579  2021-04-21  29.96  30.235  29.905  30.11   34357370\n",
       "580  2021-04-22  31.30  31.890  31.150  31.36  108523112\n",
       "581  2021-04-23  31.48  31.710  31.400  31.40   40369340\n",
       "582  2021-04-26  31.38  31.380  30.890  30.91   45461322\n",
       "583  2021-04-27  30.84  30.880  30.630  30.77   33392195\n",
       "584  2021-04-28  30.97  31.150  30.900  30.96   28091351\n",
       "585  2021-04-29  31.13  31.530  31.110  31.34   38477920\n",
       "586  2021-04-30  31.36  31.430  31.050  31.41   31332606\n",
       "587  2021-05-03  31.78  31.850  31.465  31.50   37454107\n",
       "588  2021-05-04  31.60  32.080  31.550  32.02   51888680\n",
       "589  2021-05-05  32.01  32.095  31.880  32.03   20836259\n",
       "590  2021-05-06  32.04  32.420  31.710  32.41   29120865\n",
       "591  2021-05-07  32.20  32.360  32.060  32.16   28950204\n",
       "592  2021-05-10  32.33  32.900  32.260  32.63   40983553\n",
       "593  2021-05-11  32.49  32.670  32.080  32.26   33399776\n",
       "594  2021-05-12  32.15  32.295  31.930  31.97   31482144\n",
       "595  2021-05-13  31.83  32.355  31.660  32.21   27068405\n",
       "596  2021-05-14  32.33  32.550  32.220  32.24   21181778\n",
       "597  2021-05-17  33.51  33.880  31.240  31.37  171457883\n",
       "598  2021-05-18  29.88  30.000  28.890  29.55  247052434\n",
       "599  2021-05-19  29.05  29.180  28.670  28.96  122635900\n",
       "600  2021-05-20  29.01  29.700  28.910  29.64   81940197\n",
       "601  2021-05-21  30.01  30.240  29.860  30.01   74587869\n",
       "602  2021-05-24  30.05  30.160  29.730  29.75   47598374\n",
       "603  2021-05-25  29.71  29.750  29.230  29.52   58376815\n",
       "604  2021-05-26  29.50  29.640  29.380  29.55   33055738\n",
       "605  2021-05-27  29.65  29.900  29.570  29.71   47450089\n",
       "606  2021-05-28  29.71  29.710  29.370  29.43   40929988\n",
       "607  2021-06-01  29.46  29.525  29.220  29.32   39397487"
      ]
     },
     "execution_count": 4,
     "metadata": {},
     "output_type": "execute_result"
    }
   ],
   "source": [
    "t_df.tail(35)"
   ]
  },
  {
   "cell_type": "markdown",
   "metadata": {},
   "source": [
    "## Silverkite\n"
   ]
  },
  {
   "cell_type": "code",
   "execution_count": 5,
   "metadata": {},
   "outputs": [
    {
     "data": {
      "text/plain": [
       "MetadataParam(anomaly_info=None, date_format=None, freq='D', time_col='timestamp', train_end_date='2021-04-30', value_col='close')"
      ]
     },
     "execution_count": 5,
     "metadata": {},
     "output_type": "execute_result"
    }
   ],
   "source": [
    "# Specify the time series data with 2021-04-30 as the training end date\n",
    "metadata = MetadataParam(\n",
    "    time_col=\"timestamp\", value_col=\"close\", freq=\"D\", train_end_date=\"2021-04-30\"\n",
    ")\n",
    "metadata"
   ]
  },
  {
   "cell_type": "code",
   "execution_count": 6,
   "metadata": {},
   "outputs": [
    {
     "data": {
      "text/plain": [
       "{'growth_term': ['linear', 'quadratic', 'sqrt']}"
      ]
     },
     "execution_count": 6,
     "metadata": {},
     "output_type": "execute_result"
    }
   ],
   "source": [
    "# Define the growth terms\n",
    "growth = dict(growth_term=[\"linear\", \"quadratic\", \"sqrt\"])\n",
    "growth"
   ]
  },
  {
   "cell_type": "code",
   "execution_count": 7,
   "metadata": {},
   "outputs": [
    {
     "data": {
      "text/plain": [
       "{'yearly_seasonality': 'auto',\n",
       " 'quarterly_seasonality': 'auto',\n",
       " 'monthly_seasonality': 'auto',\n",
       " 'weekly_seasonality': 'auto',\n",
       " 'daily_seasonality': 'auto'}"
      ]
     },
     "execution_count": 7,
     "metadata": {},
     "output_type": "execute_result"
    }
   ],
   "source": [
    "# Define the seasonality terms\n",
    "seasonality = dict(\n",
    "    yearly_seasonality=\"auto\",\n",
    "    quarterly_seasonality=\"auto\",\n",
    "    monthly_seasonality=\"auto\",\n",
    "    weekly_seasonality=\"auto\",\n",
    "    daily_seasonality=\"auto\",\n",
    ")\n",
    "seasonality"
   ]
  },
  {
   "cell_type": "code",
   "execution_count": 8,
   "metadata": {},
   "outputs": [
    {
     "data": {
      "text/plain": [
       "['Christmas Day',\n",
       " 'Christmas Day (Observed)',\n",
       " 'Columbus Day',\n",
       " 'Halloween',\n",
       " 'Independence Day',\n",
       " 'Independence Day (Observed)',\n",
       " 'Juneteenth National Independence Day',\n",
       " 'Juneteenth National Independence Day (Observed)',\n",
       " 'Labor Day',\n",
       " 'Martin Luther King Jr. Day',\n",
       " 'Memorial Day',\n",
       " \"New Year's Day\",\n",
       " \"New Year's Day (Observed)\",\n",
       " 'Thanksgiving',\n",
       " 'Veterans Day',\n",
       " 'Veterans Day (Observed)',\n",
       " \"Washington's Birthday\"]"
      ]
     },
     "execution_count": 8,
     "metadata": {},
     "output_type": "execute_result"
    }
   ],
   "source": [
    "get_available_holiday_lookup_countries([\"US\"])\n",
    "get_available_holidays_across_countries(\n",
    "    countries=[\"US\"], year_start=2015, year_end=2021\n",
    ")"
   ]
  },
  {
   "cell_type": "code",
   "execution_count": 9,
   "metadata": {},
   "outputs": [
    {
     "data": {
      "text/plain": [
       "{'holiday_lookup_countries': ['US'],\n",
       " 'holiday_pre_num_days': 2,\n",
       " 'holiday_post_num_days': 2}"
      ]
     },
     "execution_count": 9,
     "metadata": {},
     "output_type": "execute_result"
    }
   ],
   "source": [
    "# Specifying events\n",
    "events = dict(\n",
    "    holiday_lookup_countries=[\"US\"], holiday_pre_num_days=2, holiday_post_num_days=2\n",
    ")\n",
    "events"
   ]
  },
  {
   "cell_type": "code",
   "execution_count": 10,
   "metadata": {},
   "outputs": [
    {
     "data": {
      "text/plain": [
       "{'changepoints_dict': {'method': 'auto'}}"
      ]
     },
     "execution_count": 10,
     "metadata": {},
     "output_type": "execute_result"
    }
   ],
   "source": [
    "# Specifying changepoints\n",
    "changepoints = dict(changepoints_dict=dict(method=\"auto\"))\n",
    "changepoints"
   ]
  },
  {
   "cell_type": "code",
   "execution_count": 11,
   "metadata": {},
   "outputs": [
    {
     "data": {
      "text/plain": [
       "{'regressor_cols': ['open', 'high', 'low', 'volume']}"
      ]
     },
     "execution_count": 11,
     "metadata": {},
     "output_type": "execute_result"
    }
   ],
   "source": [
    "# Regressors\n",
    "regressors = dict(regressor_cols=[\"open\", \"high\", \"low\", \"volume\"])\n",
    "regressors"
   ]
  },
  {
   "cell_type": "code",
   "execution_count": 12,
   "metadata": {},
   "outputs": [
    {
     "data": {
      "text/plain": [
       "{'lagged_regressor_dict': {'open': 'auto',\n",
       "  'high': 'auto',\n",
       "  'low': 'auto',\n",
       "  'volume': 'auto'}}"
      ]
     },
     "execution_count": 12,
     "metadata": {},
     "output_type": "execute_result"
    }
   ],
   "source": [
    "# Lagged Regressors\n",
    "lagged_regressors = dict(\n",
    "    lagged_regressor_dict={\n",
    "        \"open\": \"auto\",\n",
    "        \"high\": \"auto\",\n",
    "        \"low\": \"auto\",\n",
    "        \"volume\": \"auto\",\n",
    "    }\n",
    ")\n",
    "lagged_regressors"
   ]
  },
  {
   "cell_type": "code",
   "execution_count": 13,
   "metadata": {},
   "outputs": [
    {
     "data": {
      "text/plain": [
       "{'autoreg_dict': 'auto'}"
      ]
     },
     "execution_count": 13,
     "metadata": {},
     "output_type": "execute_result"
    }
   ],
   "source": [
    "# Autoregression\n",
    "autoregression = dict(autoreg_dict=\"auto\")\n",
    "autoregression"
   ]
  },
  {
   "cell_type": "code",
   "execution_count": 14,
   "metadata": {},
   "outputs": [
    {
     "data": {
      "text/plain": [
       "{'fit_algorithm_dict': [{'fit_algorithm': 'linear'},\n",
       "  {'fit_algorithm': 'ridge'},\n",
       "  {'fit_algorithm': 'rf'},\n",
       "  {'fit_algorithm': 'gradient_boosting'}]}"
      ]
     },
     "execution_count": 14,
     "metadata": {},
     "output_type": "execute_result"
    }
   ],
   "source": [
    "# Fitting algorithms\n",
    "custom = dict(\n",
    "    fit_algorithm_dict=[\n",
    "        dict(fit_algorithm=\"linear\"),\n",
    "        dict(fit_algorithm=\"ridge\"),\n",
    "        dict(fit_algorithm=\"rf\"),\n",
    "        dict(fit_algorithm=\"gradient_boosting\"),\n",
    "    ]\n",
    ")\n",
    "custom"
   ]
  },
  {
   "cell_type": "code",
   "execution_count": 15,
   "metadata": {},
   "outputs": [],
   "source": [
    "# Build the model\n",
    "model_components = ModelComponentsParam(\n",
    "    growth=growth,\n",
    "    seasonality=seasonality,\n",
    "    events=events,\n",
    "    changepoints=changepoints,\n",
    "    regressors=regressors,\n",
    "    lagged_regressors=lagged_regressors,\n",
    "    autoregression=autoregression,\n",
    "    custom=custom,\n",
    ")"
   ]
  },
  {
   "cell_type": "code",
   "execution_count": 31,
   "metadata": {},
   "outputs": [],
   "source": [
    "# Cross-validation\n",
    "evaluation_period = EvaluationPeriodParam(\n",
    "    cv_min_train_periods=t_df.shape[0] - 60, cv_expanding_window=True\n",
    ")\n",
    "\n",
    "# Evaluation metric\n",
    "evaluation_metric = EvaluationMetricParam(\n",
    "    cv_selection_metric=EvaluationMetricEnum.RootMeanSquaredError.name\n",
    ")"
   ]
  },
  {
   "cell_type": "code",
   "execution_count": 36,
   "metadata": {},
   "outputs": [],
   "source": [
    "# Configuration\n",
    "config = ForecastConfig(\n",
    "    model_template=ModelTemplateEnum.AUTO.name,\n",
    "    forecast_horizon=30,\n",
    "    metadata_param=metadata,\n",
    "    model_components_param=model_components,\n",
    "    evaluation_period_param=evaluation_period,\n",
    "    evaluation_metric_param=evaluation_metric\n",
    ")"
   ]
  },
  {
   "cell_type": "code",
   "execution_count": 37,
   "metadata": {},
   "outputs": [
    {
     "name": "stdout",
     "output_type": "stream",
     "text": [
      "Fitting 3 folds for each of 12 candidates, totalling 36 fits\n"
     ]
    },
    {
     "name": "stderr",
     "output_type": "stream",
     "text": [
      "/opt/miniconda3/envs/timeseries310/lib/python3.10/site-packages/greykite/common/time_properties.py:361: UserWarning:\n",
      "\n",
      "Provided frequency 'D' does not match inferred frequency 'B'. Using 'D'.\n",
      "\n",
      "/opt/miniconda3/envs/timeseries310/lib/python3.10/site-packages/greykite/common/time_properties.py:361: UserWarning:\n",
      "\n",
      "Provided frequency 'D' does not match inferred frequency 'B'. Using 'D'.\n",
      "\n"
     ]
    },
    {
     "ename": "ValueError",
     "evalue": "\nAll the 36 fits failed.\nIt is very likely that your model is misconfigured.\nYou can try to debug the error by setting error_score='raise'.\n\nBelow are more details about the failures:\n--------------------------------------------------------------------------------\n36 fits failed with the following error:\nTraceback (most recent call last):\n  File \"/opt/miniconda3/envs/timeseries310/lib/python3.10/site-packages/sklearn/model_selection/_validation.py\", line 866, in _fit_and_score\n    estimator.fit(X_train, y_train, **fit_params)\n  File \"/opt/miniconda3/envs/timeseries310/lib/python3.10/site-packages/sklearn/base.py\", line 1389, in wrapper\n    return fit_method(estimator, *args, **kwargs)\n  File \"/opt/miniconda3/envs/timeseries310/lib/python3.10/site-packages/sklearn/pipeline.py\", line 654, in fit\n    Xt = self._fit(X, y, routed_params, raw_params=params)\n  File \"/opt/miniconda3/envs/timeseries310/lib/python3.10/site-packages/sklearn/pipeline.py\", line 588, in _fit\n    X, fitted_transformer = fit_transform_one_cached(\n  File \"/opt/miniconda3/envs/timeseries310/lib/python3.10/site-packages/joblib/memory.py\", line 312, in __call__\n    return self.func(*args, **kwargs)\n  File \"/opt/miniconda3/envs/timeseries310/lib/python3.10/site-packages/sklearn/pipeline.py\", line 1551, in _fit_transform_one\n    res = transformer.fit_transform(X, y, **params.get(\"fit_transform\", {}))\n  File \"/opt/miniconda3/envs/timeseries310/lib/python3.10/site-packages/sklearn/utils/_set_output.py\", line 319, in wrapped\n    data_to_wrap = f(self, X, *args, **kwargs)\n  File \"/opt/miniconda3/envs/timeseries310/lib/python3.10/site-packages/greykite/sklearn/transform/pandas_feature_union.py\", line 97, in fit_transform\n    results = self._parallel_func(X, y, fit_params, _fit_transform_one)\n  File \"/opt/miniconda3/envs/timeseries310/lib/python3.10/site-packages/sklearn/pipeline.py\", line 1996, in _parallel_func\n    return Parallel(n_jobs=self.n_jobs)(\n  File \"/opt/miniconda3/envs/timeseries310/lib/python3.10/site-packages/sklearn/utils/parallel.py\", line 77, in __call__\n    return super().__call__(iterable_with_config)\n  File \"/opt/miniconda3/envs/timeseries310/lib/python3.10/site-packages/joblib/parallel.py\", line 1918, in __call__\n    return output if self.return_generator else list(output)\n  File \"/opt/miniconda3/envs/timeseries310/lib/python3.10/site-packages/joblib/parallel.py\", line 1844, in _get_sequential_output\n    for func, args, kwargs in iterable:\n  File \"/opt/miniconda3/envs/timeseries310/lib/python3.10/site-packages/sklearn/utils/parallel.py\", line 73, in <genexpr>\n    iterable_with_config = (\n  File \"/opt/miniconda3/envs/timeseries310/lib/python3.10/site-packages/sklearn/pipeline.py\", line 2004, in <genexpr>\n    params=routed_params[name],\nTypeError: 'function' object is not subscriptable\n",
     "output_type": "error",
     "traceback": [
      "\u001b[0;31m---------------------------------------------------------------------------\u001b[0m",
      "\u001b[0;31mValueError\u001b[0m                                Traceback (most recent call last)",
      "Cell \u001b[0;32mIn[37], line 3\u001b[0m\n\u001b[1;32m      1\u001b[0m \u001b[38;5;66;03m# Forecasting\u001b[39;00m\n\u001b[1;32m      2\u001b[0m forecaster \u001b[38;5;241m=\u001b[39m Forecaster()\n\u001b[0;32m----> 3\u001b[0m result \u001b[38;5;241m=\u001b[39m \u001b[43mforecaster\u001b[49m\u001b[38;5;241;43m.\u001b[39;49m\u001b[43mrun_forecast_config\u001b[49m\u001b[43m(\u001b[49m\u001b[43mdf\u001b[49m\u001b[38;5;241;43m=\u001b[39;49m\u001b[43mt_df\u001b[49m\u001b[43m,\u001b[49m\u001b[43m \u001b[49m\u001b[43mconfig\u001b[49m\u001b[38;5;241;43m=\u001b[39;49m\u001b[43mconfig\u001b[49m\u001b[43m)\u001b[49m\n",
      "File \u001b[0;32m/opt/miniconda3/envs/timeseries310/lib/python3.10/site-packages/greykite/framework/templates/forecaster.py:378\u001b[0m, in \u001b[0;36mForecaster.run_forecast_config\u001b[0;34m(self, df, config)\u001b[0m\n\u001b[1;32m    353\u001b[0m \u001b[38;5;250m\u001b[39m\u001b[38;5;124;03m\"\"\"Creates a forecast from input data and config.\u001b[39;00m\n\u001b[1;32m    354\u001b[0m \u001b[38;5;124;03mThe result is also stored as ``self.forecast_result``.\u001b[39;00m\n\u001b[1;32m    355\u001b[0m \n\u001b[0;32m   (...)\u001b[0m\n\u001b[1;32m    373\u001b[0m \u001b[38;5;124;03m    according to the ``df`` and ``config`` configuration parameters.\u001b[39;00m\n\u001b[1;32m    374\u001b[0m \u001b[38;5;124;03m\"\"\"\u001b[39;00m\n\u001b[1;32m    375\u001b[0m pipeline_parameters \u001b[38;5;241m=\u001b[39m \u001b[38;5;28mself\u001b[39m\u001b[38;5;241m.\u001b[39mapply_forecast_config(\n\u001b[1;32m    376\u001b[0m     df\u001b[38;5;241m=\u001b[39mdf,\n\u001b[1;32m    377\u001b[0m     config\u001b[38;5;241m=\u001b[39mconfig)\n\u001b[0;32m--> 378\u001b[0m \u001b[38;5;28mself\u001b[39m\u001b[38;5;241m.\u001b[39mforecast_result \u001b[38;5;241m=\u001b[39m \u001b[43mforecast_pipeline\u001b[49m\u001b[43m(\u001b[49m\u001b[38;5;241;43m*\u001b[39;49m\u001b[38;5;241;43m*\u001b[39;49m\u001b[43mpipeline_parameters\u001b[49m\u001b[43m)\u001b[49m\n\u001b[1;32m    379\u001b[0m \u001b[38;5;28;01mreturn\u001b[39;00m \u001b[38;5;28mself\u001b[39m\u001b[38;5;241m.\u001b[39mforecast_result\n",
      "File \u001b[0;32m/opt/miniconda3/envs/timeseries310/lib/python3.10/site-packages/greykite/framework/pipeline/pipeline.py:209\u001b[0m, in \u001b[0;36mvalidate_pipeline_input.<locals>.pipeline_wrapper\u001b[0;34m(df, time_col, value_col, date_format, tz, freq, train_end_date, anomaly_info, pipeline, regressor_cols, lagged_regressor_cols, estimator, hyperparameter_grid, hyperparameter_budget, n_jobs, verbose, forecast_horizon, coverage, test_horizon, periods_between_train_test, agg_periods, agg_func, score_func, score_func_greater_is_better, cv_report_metrics, null_model_params, relative_error_tolerance, cv_horizon, cv_min_train_periods, cv_expanding_window, cv_use_most_recent_splits, cv_periods_between_splits, cv_periods_between_train_test, cv_max_splits)\u001b[0m\n\u001b[1;32m    206\u001b[0m log_message(\u001b[38;5;124mf\u001b[39m\u001b[38;5;124m\"\u001b[39m\u001b[38;5;124mtest_horizon: \u001b[39m\u001b[38;5;132;01m{\u001b[39;00mtest_horizon\u001b[38;5;132;01m}\u001b[39;00m\u001b[38;5;124m\"\u001b[39m, LoggingLevelEnum\u001b[38;5;241m.\u001b[39mINFO)\n\u001b[1;32m    207\u001b[0m log_message(\u001b[38;5;124mf\u001b[39m\u001b[38;5;124m\"\u001b[39m\u001b[38;5;124mcv_horizon: \u001b[39m\u001b[38;5;132;01m{\u001b[39;00mcv_horizon\u001b[38;5;132;01m}\u001b[39;00m\u001b[38;5;124m\"\u001b[39m, LoggingLevelEnum\u001b[38;5;241m.\u001b[39mINFO)\n\u001b[0;32m--> 209\u001b[0m \u001b[38;5;28;01mreturn\u001b[39;00m \u001b[43mpipeline_function\u001b[49m\u001b[43m(\u001b[49m\n\u001b[1;32m    210\u001b[0m \u001b[43m    \u001b[49m\u001b[43mdf\u001b[49m\u001b[43m,\u001b[49m\n\u001b[1;32m    211\u001b[0m \u001b[43m    \u001b[49m\u001b[43mtime_col\u001b[49m\u001b[38;5;241;43m=\u001b[39;49m\u001b[43mtime_col\u001b[49m\u001b[43m,\u001b[49m\n\u001b[1;32m    212\u001b[0m \u001b[43m    \u001b[49m\u001b[43mvalue_col\u001b[49m\u001b[38;5;241;43m=\u001b[39;49m\u001b[43mvalue_col\u001b[49m\u001b[43m,\u001b[49m\n\u001b[1;32m    213\u001b[0m \u001b[43m    \u001b[49m\u001b[43mdate_format\u001b[49m\u001b[38;5;241;43m=\u001b[39;49m\u001b[43mdate_format\u001b[49m\u001b[43m,\u001b[49m\n\u001b[1;32m    214\u001b[0m \u001b[43m    \u001b[49m\u001b[43mtz\u001b[49m\u001b[38;5;241;43m=\u001b[39;49m\u001b[43mtz\u001b[49m\u001b[43m,\u001b[49m\n\u001b[1;32m    215\u001b[0m \u001b[43m    \u001b[49m\u001b[43mfreq\u001b[49m\u001b[38;5;241;43m=\u001b[39;49m\u001b[43mfreq\u001b[49m\u001b[43m,\u001b[49m\n\u001b[1;32m    216\u001b[0m \u001b[43m    \u001b[49m\u001b[43mtrain_end_date\u001b[49m\u001b[38;5;241;43m=\u001b[39;49m\u001b[43mtrain_end_date\u001b[49m\u001b[43m,\u001b[49m\n\u001b[1;32m    217\u001b[0m \u001b[43m    \u001b[49m\u001b[43manomaly_info\u001b[49m\u001b[38;5;241;43m=\u001b[39;49m\u001b[43manomaly_info\u001b[49m\u001b[43m,\u001b[49m\n\u001b[1;32m    218\u001b[0m \u001b[43m    \u001b[49m\u001b[43mpipeline\u001b[49m\u001b[38;5;241;43m=\u001b[39;49m\u001b[43mpipeline\u001b[49m\u001b[43m,\u001b[49m\n\u001b[1;32m    219\u001b[0m \u001b[43m    \u001b[49m\u001b[43mregressor_cols\u001b[49m\u001b[38;5;241;43m=\u001b[39;49m\u001b[43mregressor_cols\u001b[49m\u001b[43m,\u001b[49m\n\u001b[1;32m    220\u001b[0m \u001b[43m    \u001b[49m\u001b[43mlagged_regressor_cols\u001b[49m\u001b[38;5;241;43m=\u001b[39;49m\u001b[43mlagged_regressor_cols\u001b[49m\u001b[43m,\u001b[49m\n\u001b[1;32m    221\u001b[0m \u001b[43m    \u001b[49m\u001b[43mestimator\u001b[49m\u001b[38;5;241;43m=\u001b[39;49m\u001b[43mestimator\u001b[49m\u001b[43m,\u001b[49m\n\u001b[1;32m    222\u001b[0m \u001b[43m    \u001b[49m\u001b[43mhyperparameter_grid\u001b[49m\u001b[38;5;241;43m=\u001b[39;49m\u001b[43mhyperparameter_grid\u001b[49m\u001b[43m,\u001b[49m\n\u001b[1;32m    223\u001b[0m \u001b[43m    \u001b[49m\u001b[43mhyperparameter_budget\u001b[49m\u001b[38;5;241;43m=\u001b[39;49m\u001b[43mhyperparameter_budget\u001b[49m\u001b[43m,\u001b[49m\n\u001b[1;32m    224\u001b[0m \u001b[43m    \u001b[49m\u001b[43mn_jobs\u001b[49m\u001b[38;5;241;43m=\u001b[39;49m\u001b[43mn_jobs\u001b[49m\u001b[43m,\u001b[49m\n\u001b[1;32m    225\u001b[0m \u001b[43m    \u001b[49m\u001b[43mverbose\u001b[49m\u001b[38;5;241;43m=\u001b[39;49m\u001b[43mverbose\u001b[49m\u001b[43m,\u001b[49m\n\u001b[1;32m    226\u001b[0m \u001b[43m    \u001b[49m\u001b[43mforecast_horizon\u001b[49m\u001b[38;5;241;43m=\u001b[39;49m\u001b[43mforecast_horizon\u001b[49m\u001b[43m,\u001b[49m\n\u001b[1;32m    227\u001b[0m \u001b[43m    \u001b[49m\u001b[43mcoverage\u001b[49m\u001b[38;5;241;43m=\u001b[39;49m\u001b[43mcoverage\u001b[49m\u001b[43m,\u001b[49m\n\u001b[1;32m    228\u001b[0m \u001b[43m    \u001b[49m\u001b[43mtest_horizon\u001b[49m\u001b[38;5;241;43m=\u001b[39;49m\u001b[43mtest_horizon\u001b[49m\u001b[43m,\u001b[49m\n\u001b[1;32m    229\u001b[0m \u001b[43m    \u001b[49m\u001b[43mperiods_between_train_test\u001b[49m\u001b[38;5;241;43m=\u001b[39;49m\u001b[43mperiods_between_train_test\u001b[49m\u001b[43m,\u001b[49m\n\u001b[1;32m    230\u001b[0m \u001b[43m    \u001b[49m\u001b[43magg_periods\u001b[49m\u001b[38;5;241;43m=\u001b[39;49m\u001b[43magg_periods\u001b[49m\u001b[43m,\u001b[49m\n\u001b[1;32m    231\u001b[0m \u001b[43m    \u001b[49m\u001b[43magg_func\u001b[49m\u001b[38;5;241;43m=\u001b[39;49m\u001b[43magg_func\u001b[49m\u001b[43m,\u001b[49m\n\u001b[1;32m    232\u001b[0m \u001b[43m    \u001b[49m\u001b[43mscore_func\u001b[49m\u001b[38;5;241;43m=\u001b[39;49m\u001b[43mscore_func\u001b[49m\u001b[43m,\u001b[49m\n\u001b[1;32m    233\u001b[0m \u001b[43m    \u001b[49m\u001b[43mscore_func_greater_is_better\u001b[49m\u001b[38;5;241;43m=\u001b[39;49m\u001b[43mscore_func_greater_is_better\u001b[49m\u001b[43m,\u001b[49m\n\u001b[1;32m    234\u001b[0m \u001b[43m    \u001b[49m\u001b[43mcv_report_metrics\u001b[49m\u001b[38;5;241;43m=\u001b[39;49m\u001b[43mcv_report_metrics\u001b[49m\u001b[43m,\u001b[49m\n\u001b[1;32m    235\u001b[0m \u001b[43m    \u001b[49m\u001b[43mnull_model_params\u001b[49m\u001b[38;5;241;43m=\u001b[39;49m\u001b[43mnull_model_params\u001b[49m\u001b[43m,\u001b[49m\n\u001b[1;32m    236\u001b[0m \u001b[43m    \u001b[49m\u001b[43mrelative_error_tolerance\u001b[49m\u001b[38;5;241;43m=\u001b[39;49m\u001b[43mrelative_error_tolerance\u001b[49m\u001b[43m,\u001b[49m\n\u001b[1;32m    237\u001b[0m \u001b[43m    \u001b[49m\u001b[43mcv_horizon\u001b[49m\u001b[38;5;241;43m=\u001b[39;49m\u001b[43mcv_horizon\u001b[49m\u001b[43m,\u001b[49m\n\u001b[1;32m    238\u001b[0m \u001b[43m    \u001b[49m\u001b[43mcv_min_train_periods\u001b[49m\u001b[38;5;241;43m=\u001b[39;49m\u001b[43mcv_min_train_periods\u001b[49m\u001b[43m,\u001b[49m\n\u001b[1;32m    239\u001b[0m \u001b[43m    \u001b[49m\u001b[43mcv_expanding_window\u001b[49m\u001b[38;5;241;43m=\u001b[39;49m\u001b[43mcv_expanding_window\u001b[49m\u001b[43m,\u001b[49m\n\u001b[1;32m    240\u001b[0m \u001b[43m    \u001b[49m\u001b[43mcv_use_most_recent_splits\u001b[49m\u001b[38;5;241;43m=\u001b[39;49m\u001b[43mcv_use_most_recent_splits\u001b[49m\u001b[43m,\u001b[49m\n\u001b[1;32m    241\u001b[0m \u001b[43m    \u001b[49m\u001b[43mcv_periods_between_splits\u001b[49m\u001b[38;5;241;43m=\u001b[39;49m\u001b[43mcv_periods_between_splits\u001b[49m\u001b[43m,\u001b[49m\n\u001b[1;32m    242\u001b[0m \u001b[43m    \u001b[49m\u001b[43mcv_periods_between_train_test\u001b[49m\u001b[38;5;241;43m=\u001b[39;49m\u001b[43mcv_periods_between_train_test\u001b[49m\u001b[43m,\u001b[49m\n\u001b[1;32m    243\u001b[0m \u001b[43m    \u001b[49m\u001b[43mcv_max_splits\u001b[49m\u001b[38;5;241;43m=\u001b[39;49m\u001b[43mcv_max_splits\u001b[49m\n\u001b[1;32m    244\u001b[0m \u001b[43m\u001b[49m\u001b[43m)\u001b[49m\n",
      "File \u001b[0;32m/opt/miniconda3/envs/timeseries310/lib/python3.10/site-packages/greykite/framework/pipeline/pipeline.py:710\u001b[0m, in \u001b[0;36mforecast_pipeline\u001b[0;34m(df, time_col, value_col, date_format, tz, freq, train_end_date, anomaly_info, pipeline, regressor_cols, lagged_regressor_cols, estimator, hyperparameter_grid, hyperparameter_budget, n_jobs, verbose, forecast_horizon, coverage, test_horizon, periods_between_train_test, agg_periods, agg_func, score_func, score_func_greater_is_better, cv_report_metrics, null_model_params, relative_error_tolerance, cv_horizon, cv_min_train_periods, cv_expanding_window, cv_use_most_recent_splits, cv_periods_between_splits, cv_periods_between_train_test, cv_max_splits)\u001b[0m\n\u001b[1;32m    696\u001b[0m     \u001b[38;5;66;03m# Defines grid search approach for CV\u001b[39;00m\n\u001b[1;32m    697\u001b[0m     grid_search \u001b[38;5;241m=\u001b[39m get_hyperparameter_searcher(\n\u001b[1;32m    698\u001b[0m         hyperparameter_grid\u001b[38;5;241m=\u001b[39mhyperparameter_grid,\n\u001b[1;32m    699\u001b[0m         model\u001b[38;5;241m=\u001b[39mpipeline,\n\u001b[0;32m   (...)\u001b[0m\n\u001b[1;32m    708\u001b[0m         agg_func\u001b[38;5;241m=\u001b[39magg_func,\n\u001b[1;32m    709\u001b[0m         relative_error_tolerance\u001b[38;5;241m=\u001b[39mrelative_error_tolerance)\n\u001b[0;32m--> 710\u001b[0m     \u001b[43mgrid_search\u001b[49m\u001b[38;5;241;43m.\u001b[39;49m\u001b[43mfit\u001b[49m\u001b[43m(\u001b[49m\u001b[43mtrain_df\u001b[49m\u001b[43m,\u001b[49m\u001b[43m \u001b[49m\u001b[43mtrain_y\u001b[49m\u001b[43m)\u001b[49m\n\u001b[1;32m    711\u001b[0m     best_estimator \u001b[38;5;241m=\u001b[39m grid_search\u001b[38;5;241m.\u001b[39mbest_estimator_\n\u001b[1;32m    713\u001b[0m \u001b[38;5;66;03m# Evaluates historical performance, fits model to all data (train+test)\u001b[39;00m\n",
      "File \u001b[0;32m/opt/miniconda3/envs/timeseries310/lib/python3.10/site-packages/sklearn/base.py:1389\u001b[0m, in \u001b[0;36m_fit_context.<locals>.decorator.<locals>.wrapper\u001b[0;34m(estimator, *args, **kwargs)\u001b[0m\n\u001b[1;32m   1382\u001b[0m     estimator\u001b[38;5;241m.\u001b[39m_validate_params()\n\u001b[1;32m   1384\u001b[0m \u001b[38;5;28;01mwith\u001b[39;00m config_context(\n\u001b[1;32m   1385\u001b[0m     skip_parameter_validation\u001b[38;5;241m=\u001b[39m(\n\u001b[1;32m   1386\u001b[0m         prefer_skip_nested_validation \u001b[38;5;129;01mor\u001b[39;00m global_skip_validation\n\u001b[1;32m   1387\u001b[0m     )\n\u001b[1;32m   1388\u001b[0m ):\n\u001b[0;32m-> 1389\u001b[0m     \u001b[38;5;28;01mreturn\u001b[39;00m \u001b[43mfit_method\u001b[49m\u001b[43m(\u001b[49m\u001b[43mestimator\u001b[49m\u001b[43m,\u001b[49m\u001b[43m \u001b[49m\u001b[38;5;241;43m*\u001b[39;49m\u001b[43margs\u001b[49m\u001b[43m,\u001b[49m\u001b[43m \u001b[49m\u001b[38;5;241;43m*\u001b[39;49m\u001b[38;5;241;43m*\u001b[39;49m\u001b[43mkwargs\u001b[49m\u001b[43m)\u001b[49m\n",
      "File \u001b[0;32m/opt/miniconda3/envs/timeseries310/lib/python3.10/site-packages/sklearn/model_selection/_search.py:1024\u001b[0m, in \u001b[0;36mBaseSearchCV.fit\u001b[0;34m(self, X, y, **params)\u001b[0m\n\u001b[1;32m   1018\u001b[0m     results \u001b[38;5;241m=\u001b[39m \u001b[38;5;28mself\u001b[39m\u001b[38;5;241m.\u001b[39m_format_results(\n\u001b[1;32m   1019\u001b[0m         all_candidate_params, n_splits, all_out, all_more_results\n\u001b[1;32m   1020\u001b[0m     )\n\u001b[1;32m   1022\u001b[0m     \u001b[38;5;28;01mreturn\u001b[39;00m results\n\u001b[0;32m-> 1024\u001b[0m \u001b[38;5;28;43mself\u001b[39;49m\u001b[38;5;241;43m.\u001b[39;49m\u001b[43m_run_search\u001b[49m\u001b[43m(\u001b[49m\u001b[43mevaluate_candidates\u001b[49m\u001b[43m)\u001b[49m\n\u001b[1;32m   1026\u001b[0m \u001b[38;5;66;03m# multimetric is determined here because in the case of a callable\u001b[39;00m\n\u001b[1;32m   1027\u001b[0m \u001b[38;5;66;03m# self.scoring the return type is only known after calling\u001b[39;00m\n\u001b[1;32m   1028\u001b[0m first_test_score \u001b[38;5;241m=\u001b[39m all_out[\u001b[38;5;241m0\u001b[39m][\u001b[38;5;124m\"\u001b[39m\u001b[38;5;124mtest_scores\u001b[39m\u001b[38;5;124m\"\u001b[39m]\n",
      "File \u001b[0;32m/opt/miniconda3/envs/timeseries310/lib/python3.10/site-packages/sklearn/model_selection/_search.py:1951\u001b[0m, in \u001b[0;36mRandomizedSearchCV._run_search\u001b[0;34m(self, evaluate_candidates)\u001b[0m\n\u001b[1;32m   1949\u001b[0m \u001b[38;5;28;01mdef\u001b[39;00m\u001b[38;5;250m \u001b[39m\u001b[38;5;21m_run_search\u001b[39m(\u001b[38;5;28mself\u001b[39m, evaluate_candidates):\n\u001b[1;32m   1950\u001b[0m \u001b[38;5;250m    \u001b[39m\u001b[38;5;124;03m\"\"\"Search n_iter candidates from param_distributions\"\"\"\u001b[39;00m\n\u001b[0;32m-> 1951\u001b[0m     \u001b[43mevaluate_candidates\u001b[49m\u001b[43m(\u001b[49m\n\u001b[1;32m   1952\u001b[0m \u001b[43m        \u001b[49m\u001b[43mParameterSampler\u001b[49m\u001b[43m(\u001b[49m\n\u001b[1;32m   1953\u001b[0m \u001b[43m            \u001b[49m\u001b[38;5;28;43mself\u001b[39;49m\u001b[38;5;241;43m.\u001b[39;49m\u001b[43mparam_distributions\u001b[49m\u001b[43m,\u001b[49m\u001b[43m \u001b[49m\u001b[38;5;28;43mself\u001b[39;49m\u001b[38;5;241;43m.\u001b[39;49m\u001b[43mn_iter\u001b[49m\u001b[43m,\u001b[49m\u001b[43m \u001b[49m\u001b[43mrandom_state\u001b[49m\u001b[38;5;241;43m=\u001b[39;49m\u001b[38;5;28;43mself\u001b[39;49m\u001b[38;5;241;43m.\u001b[39;49m\u001b[43mrandom_state\u001b[49m\n\u001b[1;32m   1954\u001b[0m \u001b[43m        \u001b[49m\u001b[43m)\u001b[49m\n\u001b[1;32m   1955\u001b[0m \u001b[43m    \u001b[49m\u001b[43m)\u001b[49m\n",
      "File \u001b[0;32m/opt/miniconda3/envs/timeseries310/lib/python3.10/site-packages/sklearn/model_selection/_search.py:1001\u001b[0m, in \u001b[0;36mBaseSearchCV.fit.<locals>.evaluate_candidates\u001b[0;34m(candidate_params, cv, more_results)\u001b[0m\n\u001b[1;32m    994\u001b[0m \u001b[38;5;28;01melif\u001b[39;00m \u001b[38;5;28mlen\u001b[39m(out) \u001b[38;5;241m!=\u001b[39m n_candidates \u001b[38;5;241m*\u001b[39m n_splits:\n\u001b[1;32m    995\u001b[0m     \u001b[38;5;28;01mraise\u001b[39;00m \u001b[38;5;167;01mValueError\u001b[39;00m(\n\u001b[1;32m    996\u001b[0m         \u001b[38;5;124m\"\u001b[39m\u001b[38;5;124mcv.split and cv.get_n_splits returned \u001b[39m\u001b[38;5;124m\"\u001b[39m\n\u001b[1;32m    997\u001b[0m         \u001b[38;5;124m\"\u001b[39m\u001b[38;5;124minconsistent results. Expected \u001b[39m\u001b[38;5;132;01m{}\u001b[39;00m\u001b[38;5;124m \u001b[39m\u001b[38;5;124m\"\u001b[39m\n\u001b[1;32m    998\u001b[0m         \u001b[38;5;124m\"\u001b[39m\u001b[38;5;124msplits, got \u001b[39m\u001b[38;5;132;01m{}\u001b[39;00m\u001b[38;5;124m\"\u001b[39m\u001b[38;5;241m.\u001b[39mformat(n_splits, \u001b[38;5;28mlen\u001b[39m(out) \u001b[38;5;241m/\u001b[39m\u001b[38;5;241m/\u001b[39m n_candidates)\n\u001b[1;32m    999\u001b[0m     )\n\u001b[0;32m-> 1001\u001b[0m \u001b[43m_warn_or_raise_about_fit_failures\u001b[49m\u001b[43m(\u001b[49m\u001b[43mout\u001b[49m\u001b[43m,\u001b[49m\u001b[43m \u001b[49m\u001b[38;5;28;43mself\u001b[39;49m\u001b[38;5;241;43m.\u001b[39;49m\u001b[43merror_score\u001b[49m\u001b[43m)\u001b[49m\n\u001b[1;32m   1003\u001b[0m \u001b[38;5;66;03m# For callable self.scoring, the return type is only know after\u001b[39;00m\n\u001b[1;32m   1004\u001b[0m \u001b[38;5;66;03m# calling. If the return type is a dictionary, the error scores\u001b[39;00m\n\u001b[1;32m   1005\u001b[0m \u001b[38;5;66;03m# can now be inserted with the correct key. The type checking\u001b[39;00m\n\u001b[1;32m   1006\u001b[0m \u001b[38;5;66;03m# of out will be done in `_insert_error_scores`.\u001b[39;00m\n\u001b[1;32m   1007\u001b[0m \u001b[38;5;28;01mif\u001b[39;00m \u001b[38;5;28mcallable\u001b[39m(\u001b[38;5;28mself\u001b[39m\u001b[38;5;241m.\u001b[39mscoring):\n",
      "File \u001b[0;32m/opt/miniconda3/envs/timeseries310/lib/python3.10/site-packages/sklearn/model_selection/_validation.py:517\u001b[0m, in \u001b[0;36m_warn_or_raise_about_fit_failures\u001b[0;34m(results, error_score)\u001b[0m\n\u001b[1;32m    510\u001b[0m \u001b[38;5;28;01mif\u001b[39;00m num_failed_fits \u001b[38;5;241m==\u001b[39m num_fits:\n\u001b[1;32m    511\u001b[0m     all_fits_failed_message \u001b[38;5;241m=\u001b[39m (\n\u001b[1;32m    512\u001b[0m         \u001b[38;5;124mf\u001b[39m\u001b[38;5;124m\"\u001b[39m\u001b[38;5;130;01m\\n\u001b[39;00m\u001b[38;5;124mAll the \u001b[39m\u001b[38;5;132;01m{\u001b[39;00mnum_fits\u001b[38;5;132;01m}\u001b[39;00m\u001b[38;5;124m fits failed.\u001b[39m\u001b[38;5;130;01m\\n\u001b[39;00m\u001b[38;5;124m\"\u001b[39m\n\u001b[1;32m    513\u001b[0m         \u001b[38;5;124m\"\u001b[39m\u001b[38;5;124mIt is very likely that your model is misconfigured.\u001b[39m\u001b[38;5;130;01m\\n\u001b[39;00m\u001b[38;5;124m\"\u001b[39m\n\u001b[1;32m    514\u001b[0m         \u001b[38;5;124m\"\u001b[39m\u001b[38;5;124mYou can try to debug the error by setting error_score=\u001b[39m\u001b[38;5;124m'\u001b[39m\u001b[38;5;124mraise\u001b[39m\u001b[38;5;124m'\u001b[39m\u001b[38;5;124m.\u001b[39m\u001b[38;5;130;01m\\n\u001b[39;00m\u001b[38;5;130;01m\\n\u001b[39;00m\u001b[38;5;124m\"\u001b[39m\n\u001b[1;32m    515\u001b[0m         \u001b[38;5;124mf\u001b[39m\u001b[38;5;124m\"\u001b[39m\u001b[38;5;124mBelow are more details about the failures:\u001b[39m\u001b[38;5;130;01m\\n\u001b[39;00m\u001b[38;5;132;01m{\u001b[39;00mfit_errors_summary\u001b[38;5;132;01m}\u001b[39;00m\u001b[38;5;124m\"\u001b[39m\n\u001b[1;32m    516\u001b[0m     )\n\u001b[0;32m--> 517\u001b[0m     \u001b[38;5;28;01mraise\u001b[39;00m \u001b[38;5;167;01mValueError\u001b[39;00m(all_fits_failed_message)\n\u001b[1;32m    519\u001b[0m \u001b[38;5;28;01melse\u001b[39;00m:\n\u001b[1;32m    520\u001b[0m     some_fits_failed_message \u001b[38;5;241m=\u001b[39m (\n\u001b[1;32m    521\u001b[0m         \u001b[38;5;124mf\u001b[39m\u001b[38;5;124m\"\u001b[39m\u001b[38;5;130;01m\\n\u001b[39;00m\u001b[38;5;132;01m{\u001b[39;00mnum_failed_fits\u001b[38;5;132;01m}\u001b[39;00m\u001b[38;5;124m fits failed out of a total of \u001b[39m\u001b[38;5;132;01m{\u001b[39;00mnum_fits\u001b[38;5;132;01m}\u001b[39;00m\u001b[38;5;124m.\u001b[39m\u001b[38;5;130;01m\\n\u001b[39;00m\u001b[38;5;124m\"\u001b[39m\n\u001b[1;32m    522\u001b[0m         \u001b[38;5;124m\"\u001b[39m\u001b[38;5;124mThe score on these train-test partitions for these parameters\u001b[39m\u001b[38;5;124m\"\u001b[39m\n\u001b[0;32m   (...)\u001b[0m\n\u001b[1;32m    526\u001b[0m         \u001b[38;5;124mf\u001b[39m\u001b[38;5;124m\"\u001b[39m\u001b[38;5;124mBelow are more details about the failures:\u001b[39m\u001b[38;5;130;01m\\n\u001b[39;00m\u001b[38;5;132;01m{\u001b[39;00mfit_errors_summary\u001b[38;5;132;01m}\u001b[39;00m\u001b[38;5;124m\"\u001b[39m\n\u001b[1;32m    527\u001b[0m     )\n",
      "\u001b[0;31mValueError\u001b[0m: \nAll the 36 fits failed.\nIt is very likely that your model is misconfigured.\nYou can try to debug the error by setting error_score='raise'.\n\nBelow are more details about the failures:\n--------------------------------------------------------------------------------\n36 fits failed with the following error:\nTraceback (most recent call last):\n  File \"/opt/miniconda3/envs/timeseries310/lib/python3.10/site-packages/sklearn/model_selection/_validation.py\", line 866, in _fit_and_score\n    estimator.fit(X_train, y_train, **fit_params)\n  File \"/opt/miniconda3/envs/timeseries310/lib/python3.10/site-packages/sklearn/base.py\", line 1389, in wrapper\n    return fit_method(estimator, *args, **kwargs)\n  File \"/opt/miniconda3/envs/timeseries310/lib/python3.10/site-packages/sklearn/pipeline.py\", line 654, in fit\n    Xt = self._fit(X, y, routed_params, raw_params=params)\n  File \"/opt/miniconda3/envs/timeseries310/lib/python3.10/site-packages/sklearn/pipeline.py\", line 588, in _fit\n    X, fitted_transformer = fit_transform_one_cached(\n  File \"/opt/miniconda3/envs/timeseries310/lib/python3.10/site-packages/joblib/memory.py\", line 312, in __call__\n    return self.func(*args, **kwargs)\n  File \"/opt/miniconda3/envs/timeseries310/lib/python3.10/site-packages/sklearn/pipeline.py\", line 1551, in _fit_transform_one\n    res = transformer.fit_transform(X, y, **params.get(\"fit_transform\", {}))\n  File \"/opt/miniconda3/envs/timeseries310/lib/python3.10/site-packages/sklearn/utils/_set_output.py\", line 319, in wrapped\n    data_to_wrap = f(self, X, *args, **kwargs)\n  File \"/opt/miniconda3/envs/timeseries310/lib/python3.10/site-packages/greykite/sklearn/transform/pandas_feature_union.py\", line 97, in fit_transform\n    results = self._parallel_func(X, y, fit_params, _fit_transform_one)\n  File \"/opt/miniconda3/envs/timeseries310/lib/python3.10/site-packages/sklearn/pipeline.py\", line 1996, in _parallel_func\n    return Parallel(n_jobs=self.n_jobs)(\n  File \"/opt/miniconda3/envs/timeseries310/lib/python3.10/site-packages/sklearn/utils/parallel.py\", line 77, in __call__\n    return super().__call__(iterable_with_config)\n  File \"/opt/miniconda3/envs/timeseries310/lib/python3.10/site-packages/joblib/parallel.py\", line 1918, in __call__\n    return output if self.return_generator else list(output)\n  File \"/opt/miniconda3/envs/timeseries310/lib/python3.10/site-packages/joblib/parallel.py\", line 1844, in _get_sequential_output\n    for func, args, kwargs in iterable:\n  File \"/opt/miniconda3/envs/timeseries310/lib/python3.10/site-packages/sklearn/utils/parallel.py\", line 73, in <genexpr>\n    iterable_with_config = (\n  File \"/opt/miniconda3/envs/timeseries310/lib/python3.10/site-packages/sklearn/pipeline.py\", line 2004, in <genexpr>\n    params=routed_params[name],\nTypeError: 'function' object is not subscriptable\n"
     ]
    }
   ],
   "source": [
    "# Forecasting\n",
    "forecaster = Forecaster()\n",
    "result = forecaster.run_forecast_config(df=t_df, config=config)"
   ]
  },
  {
   "cell_type": "code",
   "execution_count": null,
   "metadata": {},
   "outputs": [
    {
     "name": "stdout",
     "output_type": "stream",
     "text": [
      "Fitting 3 folds for each of 1 candidates, totalling 3 fits\n"
     ]
    },
    {
     "name": "stderr",
     "output_type": "stream",
     "text": [
      "/opt/miniconda3/envs/timeseries310/lib/python3.10/site-packages/greykite/common/time_properties.py:361: UserWarning:\n",
      "\n",
      "Provided frequency 'D' does not match inferred frequency 'B'. Using 'D'.\n",
      "\n",
      "/opt/miniconda3/envs/timeseries310/lib/python3.10/site-packages/greykite/common/time_properties.py:419: UserWarning:\n",
      "\n",
      "`train_end_date` is not provided, or close column of the provided time series contains null values at the end, or the input `train_end_date` is beyond the last timestamp available. Setting `train_end_date` to the last timestamp with a non-null value (2021-06-01 00:00:00).\n",
      "\n",
      "/opt/miniconda3/envs/timeseries310/lib/python3.10/site-packages/greykite/common/time_properties.py:361: UserWarning:\n",
      "\n",
      "Provided frequency 'D' does not match inferred frequency 'B'. Using 'D'.\n",
      "\n",
      "/opt/miniconda3/envs/timeseries310/lib/python3.10/site-packages/greykite/common/time_properties.py:419: UserWarning:\n",
      "\n",
      "`train_end_date` is not provided, or close column of the provided time series contains null values at the end, or the input `train_end_date` is beyond the last timestamp available. Setting `train_end_date` to the last timestamp with a non-null value (2021-06-01 00:00:00).\n",
      "\n"
     ]
    },
    {
     "ename": "ValueError",
     "evalue": "\nAll the 3 fits failed.\nIt is very likely that your model is misconfigured.\nYou can try to debug the error by setting error_score='raise'.\n\nBelow are more details about the failures:\n--------------------------------------------------------------------------------\n3 fits failed with the following error:\nTraceback (most recent call last):\n  File \"/opt/miniconda3/envs/timeseries310/lib/python3.10/site-packages/sklearn/model_selection/_validation.py\", line 866, in _fit_and_score\n    estimator.fit(X_train, y_train, **fit_params)\n  File \"/opt/miniconda3/envs/timeseries310/lib/python3.10/site-packages/sklearn/base.py\", line 1389, in wrapper\n    return fit_method(estimator, *args, **kwargs)\n  File \"/opt/miniconda3/envs/timeseries310/lib/python3.10/site-packages/sklearn/pipeline.py\", line 654, in fit\n    Xt = self._fit(X, y, routed_params, raw_params=params)\n  File \"/opt/miniconda3/envs/timeseries310/lib/python3.10/site-packages/sklearn/pipeline.py\", line 588, in _fit\n    X, fitted_transformer = fit_transform_one_cached(\n  File \"/opt/miniconda3/envs/timeseries310/lib/python3.10/site-packages/joblib/memory.py\", line 312, in __call__\n    return self.func(*args, **kwargs)\n  File \"/opt/miniconda3/envs/timeseries310/lib/python3.10/site-packages/sklearn/pipeline.py\", line 1551, in _fit_transform_one\n    res = transformer.fit_transform(X, y, **params.get(\"fit_transform\", {}))\n  File \"/opt/miniconda3/envs/timeseries310/lib/python3.10/site-packages/sklearn/utils/_set_output.py\", line 319, in wrapped\n    data_to_wrap = f(self, X, *args, **kwargs)\n  File \"/opt/miniconda3/envs/timeseries310/lib/python3.10/site-packages/greykite/sklearn/transform/pandas_feature_union.py\", line 97, in fit_transform\n    results = self._parallel_func(X, y, fit_params, _fit_transform_one)\n  File \"/opt/miniconda3/envs/timeseries310/lib/python3.10/site-packages/sklearn/pipeline.py\", line 1996, in _parallel_func\n    return Parallel(n_jobs=self.n_jobs)(\n  File \"/opt/miniconda3/envs/timeseries310/lib/python3.10/site-packages/sklearn/utils/parallel.py\", line 77, in __call__\n    return super().__call__(iterable_with_config)\n  File \"/opt/miniconda3/envs/timeseries310/lib/python3.10/site-packages/joblib/parallel.py\", line 1918, in __call__\n    return output if self.return_generator else list(output)\n  File \"/opt/miniconda3/envs/timeseries310/lib/python3.10/site-packages/joblib/parallel.py\", line 1844, in _get_sequential_output\n    for func, args, kwargs in iterable:\n  File \"/opt/miniconda3/envs/timeseries310/lib/python3.10/site-packages/sklearn/utils/parallel.py\", line 73, in <genexpr>\n    iterable_with_config = (\n  File \"/opt/miniconda3/envs/timeseries310/lib/python3.10/site-packages/sklearn/pipeline.py\", line 2004, in <genexpr>\n    params=routed_params[name],\nTypeError: 'function' object is not subscriptable\n",
     "output_type": "error",
     "traceback": [
      "\u001b[0;31m---------------------------------------------------------------------------\u001b[0m",
      "\u001b[0;31mValueError\u001b[0m                                Traceback (most recent call last)",
      "Cell \u001b[0;32mIn[66], line 8\u001b[0m\n\u001b[1;32m      1\u001b[0m metadata \u001b[38;5;241m=\u001b[39m MetadataParam(\n\u001b[1;32m      2\u001b[0m     time_col\u001b[38;5;241m=\u001b[39m\u001b[38;5;124m\"\u001b[39m\u001b[38;5;124mtimestamp\u001b[39m\u001b[38;5;124m\"\u001b[39m,  \u001b[38;5;66;03m# name of the time column\u001b[39;00m\n\u001b[1;32m      3\u001b[0m     value_col\u001b[38;5;241m=\u001b[39m\u001b[38;5;124m\"\u001b[39m\u001b[38;5;124mclose\u001b[39m\u001b[38;5;124m\"\u001b[39m,  \u001b[38;5;66;03m# name of the value column\u001b[39;00m\n\u001b[1;32m      4\u001b[0m     freq\u001b[38;5;241m=\u001b[39m\u001b[38;5;124m\"\u001b[39m\u001b[38;5;124mD\u001b[39m\u001b[38;5;124m\"\u001b[39m,  \u001b[38;5;66;03m# \"H\" for hourly, \"D\" for daily, \"W\" for weekly, etc.\u001b[39;00m\n\u001b[1;32m      5\u001b[0m )\n\u001b[1;32m      7\u001b[0m forecaster \u001b[38;5;241m=\u001b[39m Forecaster()\n\u001b[0;32m----> 8\u001b[0m result \u001b[38;5;241m=\u001b[39m \u001b[43mforecaster\u001b[49m\u001b[38;5;241;43m.\u001b[39;49m\u001b[43mrun_forecast_config\u001b[49m\u001b[43m(\u001b[49m\n\u001b[1;32m      9\u001b[0m \u001b[43m    \u001b[49m\u001b[43mdf\u001b[49m\u001b[38;5;241;43m=\u001b[39;49m\u001b[43mt_df\u001b[49m\u001b[43m,\u001b[49m\n\u001b[1;32m     10\u001b[0m \u001b[43m    \u001b[49m\u001b[43mconfig\u001b[49m\u001b[38;5;241;43m=\u001b[39;49m\u001b[43mForecastConfig\u001b[49m\u001b[43m(\u001b[49m\n\u001b[1;32m     11\u001b[0m \u001b[43m        \u001b[49m\u001b[43mmodel_template\u001b[49m\u001b[38;5;241;43m=\u001b[39;49m\u001b[43mModelTemplateEnum\u001b[49m\u001b[38;5;241;43m.\u001b[39;49m\u001b[43mSILVERKITE\u001b[49m\u001b[38;5;241;43m.\u001b[39;49m\u001b[43mname\u001b[49m\u001b[43m,\u001b[49m\n\u001b[1;32m     12\u001b[0m \u001b[43m        \u001b[49m\u001b[43mforecast_horizon\u001b[49m\u001b[38;5;241;43m=\u001b[39;49m\u001b[38;5;241;43m30\u001b[39;49m\u001b[43m,\u001b[49m\u001b[43m  \u001b[49m\u001b[38;5;66;43;03m# forecasts 365 steps ahead\u001b[39;49;00m\n\u001b[1;32m     13\u001b[0m \u001b[43m        \u001b[49m\u001b[43mcoverage\u001b[49m\u001b[38;5;241;43m=\u001b[39;49m\u001b[38;5;241;43m0.95\u001b[39;49m\u001b[43m,\u001b[49m\u001b[43m  \u001b[49m\u001b[38;5;66;43;03m# 95% prediction intervals\u001b[39;49;00m\n\u001b[1;32m     14\u001b[0m \u001b[43m        \u001b[49m\u001b[43mmetadata_param\u001b[49m\u001b[38;5;241;43m=\u001b[39;49m\u001b[43mmetadata\u001b[49m\u001b[43m,\u001b[49m\n\u001b[1;32m     15\u001b[0m \u001b[43m    \u001b[49m\u001b[43m)\u001b[49m\u001b[43m,\u001b[49m\n\u001b[1;32m     16\u001b[0m \u001b[43m)\u001b[49m\n\u001b[1;32m     18\u001b[0m \u001b[38;5;66;03m# %%\u001b[39;00m\n\u001b[1;32m     19\u001b[0m \u001b[38;5;66;03m# For a detailed documentation about the output from\u001b[39;00m\n\u001b[1;32m     20\u001b[0m \u001b[38;5;66;03m# :py:meth:`~greykite.framework.templates.forecaster.Forecaster.run_forecast_config`,\u001b[39;00m\n\u001b[1;32m     21\u001b[0m \u001b[38;5;66;03m# see :doc:`/pages/stepbystep/0500_output`. Here we could plot the forecast.\u001b[39;00m\n",
      "File \u001b[0;32m/opt/miniconda3/envs/timeseries310/lib/python3.10/site-packages/greykite/framework/templates/forecaster.py:378\u001b[0m, in \u001b[0;36mForecaster.run_forecast_config\u001b[0;34m(self, df, config)\u001b[0m\n\u001b[1;32m    353\u001b[0m \u001b[38;5;250m\u001b[39m\u001b[38;5;124;03m\"\"\"Creates a forecast from input data and config.\u001b[39;00m\n\u001b[1;32m    354\u001b[0m \u001b[38;5;124;03mThe result is also stored as ``self.forecast_result``.\u001b[39;00m\n\u001b[1;32m    355\u001b[0m \n\u001b[0;32m   (...)\u001b[0m\n\u001b[1;32m    373\u001b[0m \u001b[38;5;124;03m    according to the ``df`` and ``config`` configuration parameters.\u001b[39;00m\n\u001b[1;32m    374\u001b[0m \u001b[38;5;124;03m\"\"\"\u001b[39;00m\n\u001b[1;32m    375\u001b[0m pipeline_parameters \u001b[38;5;241m=\u001b[39m \u001b[38;5;28mself\u001b[39m\u001b[38;5;241m.\u001b[39mapply_forecast_config(\n\u001b[1;32m    376\u001b[0m     df\u001b[38;5;241m=\u001b[39mdf,\n\u001b[1;32m    377\u001b[0m     config\u001b[38;5;241m=\u001b[39mconfig)\n\u001b[0;32m--> 378\u001b[0m \u001b[38;5;28mself\u001b[39m\u001b[38;5;241m.\u001b[39mforecast_result \u001b[38;5;241m=\u001b[39m \u001b[43mforecast_pipeline\u001b[49m\u001b[43m(\u001b[49m\u001b[38;5;241;43m*\u001b[39;49m\u001b[38;5;241;43m*\u001b[39;49m\u001b[43mpipeline_parameters\u001b[49m\u001b[43m)\u001b[49m\n\u001b[1;32m    379\u001b[0m \u001b[38;5;28;01mreturn\u001b[39;00m \u001b[38;5;28mself\u001b[39m\u001b[38;5;241m.\u001b[39mforecast_result\n",
      "File \u001b[0;32m/opt/miniconda3/envs/timeseries310/lib/python3.10/site-packages/greykite/framework/pipeline/pipeline.py:209\u001b[0m, in \u001b[0;36mvalidate_pipeline_input.<locals>.pipeline_wrapper\u001b[0;34m(df, time_col, value_col, date_format, tz, freq, train_end_date, anomaly_info, pipeline, regressor_cols, lagged_regressor_cols, estimator, hyperparameter_grid, hyperparameter_budget, n_jobs, verbose, forecast_horizon, coverage, test_horizon, periods_between_train_test, agg_periods, agg_func, score_func, score_func_greater_is_better, cv_report_metrics, null_model_params, relative_error_tolerance, cv_horizon, cv_min_train_periods, cv_expanding_window, cv_use_most_recent_splits, cv_periods_between_splits, cv_periods_between_train_test, cv_max_splits)\u001b[0m\n\u001b[1;32m    206\u001b[0m log_message(\u001b[38;5;124mf\u001b[39m\u001b[38;5;124m\"\u001b[39m\u001b[38;5;124mtest_horizon: \u001b[39m\u001b[38;5;132;01m{\u001b[39;00mtest_horizon\u001b[38;5;132;01m}\u001b[39;00m\u001b[38;5;124m\"\u001b[39m, LoggingLevelEnum\u001b[38;5;241m.\u001b[39mINFO)\n\u001b[1;32m    207\u001b[0m log_message(\u001b[38;5;124mf\u001b[39m\u001b[38;5;124m\"\u001b[39m\u001b[38;5;124mcv_horizon: \u001b[39m\u001b[38;5;132;01m{\u001b[39;00mcv_horizon\u001b[38;5;132;01m}\u001b[39;00m\u001b[38;5;124m\"\u001b[39m, LoggingLevelEnum\u001b[38;5;241m.\u001b[39mINFO)\n\u001b[0;32m--> 209\u001b[0m \u001b[38;5;28;01mreturn\u001b[39;00m \u001b[43mpipeline_function\u001b[49m\u001b[43m(\u001b[49m\n\u001b[1;32m    210\u001b[0m \u001b[43m    \u001b[49m\u001b[43mdf\u001b[49m\u001b[43m,\u001b[49m\n\u001b[1;32m    211\u001b[0m \u001b[43m    \u001b[49m\u001b[43mtime_col\u001b[49m\u001b[38;5;241;43m=\u001b[39;49m\u001b[43mtime_col\u001b[49m\u001b[43m,\u001b[49m\n\u001b[1;32m    212\u001b[0m \u001b[43m    \u001b[49m\u001b[43mvalue_col\u001b[49m\u001b[38;5;241;43m=\u001b[39;49m\u001b[43mvalue_col\u001b[49m\u001b[43m,\u001b[49m\n\u001b[1;32m    213\u001b[0m \u001b[43m    \u001b[49m\u001b[43mdate_format\u001b[49m\u001b[38;5;241;43m=\u001b[39;49m\u001b[43mdate_format\u001b[49m\u001b[43m,\u001b[49m\n\u001b[1;32m    214\u001b[0m \u001b[43m    \u001b[49m\u001b[43mtz\u001b[49m\u001b[38;5;241;43m=\u001b[39;49m\u001b[43mtz\u001b[49m\u001b[43m,\u001b[49m\n\u001b[1;32m    215\u001b[0m \u001b[43m    \u001b[49m\u001b[43mfreq\u001b[49m\u001b[38;5;241;43m=\u001b[39;49m\u001b[43mfreq\u001b[49m\u001b[43m,\u001b[49m\n\u001b[1;32m    216\u001b[0m \u001b[43m    \u001b[49m\u001b[43mtrain_end_date\u001b[49m\u001b[38;5;241;43m=\u001b[39;49m\u001b[43mtrain_end_date\u001b[49m\u001b[43m,\u001b[49m\n\u001b[1;32m    217\u001b[0m \u001b[43m    \u001b[49m\u001b[43manomaly_info\u001b[49m\u001b[38;5;241;43m=\u001b[39;49m\u001b[43manomaly_info\u001b[49m\u001b[43m,\u001b[49m\n\u001b[1;32m    218\u001b[0m \u001b[43m    \u001b[49m\u001b[43mpipeline\u001b[49m\u001b[38;5;241;43m=\u001b[39;49m\u001b[43mpipeline\u001b[49m\u001b[43m,\u001b[49m\n\u001b[1;32m    219\u001b[0m \u001b[43m    \u001b[49m\u001b[43mregressor_cols\u001b[49m\u001b[38;5;241;43m=\u001b[39;49m\u001b[43mregressor_cols\u001b[49m\u001b[43m,\u001b[49m\n\u001b[1;32m    220\u001b[0m \u001b[43m    \u001b[49m\u001b[43mlagged_regressor_cols\u001b[49m\u001b[38;5;241;43m=\u001b[39;49m\u001b[43mlagged_regressor_cols\u001b[49m\u001b[43m,\u001b[49m\n\u001b[1;32m    221\u001b[0m \u001b[43m    \u001b[49m\u001b[43mestimator\u001b[49m\u001b[38;5;241;43m=\u001b[39;49m\u001b[43mestimator\u001b[49m\u001b[43m,\u001b[49m\n\u001b[1;32m    222\u001b[0m \u001b[43m    \u001b[49m\u001b[43mhyperparameter_grid\u001b[49m\u001b[38;5;241;43m=\u001b[39;49m\u001b[43mhyperparameter_grid\u001b[49m\u001b[43m,\u001b[49m\n\u001b[1;32m    223\u001b[0m \u001b[43m    \u001b[49m\u001b[43mhyperparameter_budget\u001b[49m\u001b[38;5;241;43m=\u001b[39;49m\u001b[43mhyperparameter_budget\u001b[49m\u001b[43m,\u001b[49m\n\u001b[1;32m    224\u001b[0m \u001b[43m    \u001b[49m\u001b[43mn_jobs\u001b[49m\u001b[38;5;241;43m=\u001b[39;49m\u001b[43mn_jobs\u001b[49m\u001b[43m,\u001b[49m\n\u001b[1;32m    225\u001b[0m \u001b[43m    \u001b[49m\u001b[43mverbose\u001b[49m\u001b[38;5;241;43m=\u001b[39;49m\u001b[43mverbose\u001b[49m\u001b[43m,\u001b[49m\n\u001b[1;32m    226\u001b[0m \u001b[43m    \u001b[49m\u001b[43mforecast_horizon\u001b[49m\u001b[38;5;241;43m=\u001b[39;49m\u001b[43mforecast_horizon\u001b[49m\u001b[43m,\u001b[49m\n\u001b[1;32m    227\u001b[0m \u001b[43m    \u001b[49m\u001b[43mcoverage\u001b[49m\u001b[38;5;241;43m=\u001b[39;49m\u001b[43mcoverage\u001b[49m\u001b[43m,\u001b[49m\n\u001b[1;32m    228\u001b[0m \u001b[43m    \u001b[49m\u001b[43mtest_horizon\u001b[49m\u001b[38;5;241;43m=\u001b[39;49m\u001b[43mtest_horizon\u001b[49m\u001b[43m,\u001b[49m\n\u001b[1;32m    229\u001b[0m \u001b[43m    \u001b[49m\u001b[43mperiods_between_train_test\u001b[49m\u001b[38;5;241;43m=\u001b[39;49m\u001b[43mperiods_between_train_test\u001b[49m\u001b[43m,\u001b[49m\n\u001b[1;32m    230\u001b[0m \u001b[43m    \u001b[49m\u001b[43magg_periods\u001b[49m\u001b[38;5;241;43m=\u001b[39;49m\u001b[43magg_periods\u001b[49m\u001b[43m,\u001b[49m\n\u001b[1;32m    231\u001b[0m \u001b[43m    \u001b[49m\u001b[43magg_func\u001b[49m\u001b[38;5;241;43m=\u001b[39;49m\u001b[43magg_func\u001b[49m\u001b[43m,\u001b[49m\n\u001b[1;32m    232\u001b[0m \u001b[43m    \u001b[49m\u001b[43mscore_func\u001b[49m\u001b[38;5;241;43m=\u001b[39;49m\u001b[43mscore_func\u001b[49m\u001b[43m,\u001b[49m\n\u001b[1;32m    233\u001b[0m \u001b[43m    \u001b[49m\u001b[43mscore_func_greater_is_better\u001b[49m\u001b[38;5;241;43m=\u001b[39;49m\u001b[43mscore_func_greater_is_better\u001b[49m\u001b[43m,\u001b[49m\n\u001b[1;32m    234\u001b[0m \u001b[43m    \u001b[49m\u001b[43mcv_report_metrics\u001b[49m\u001b[38;5;241;43m=\u001b[39;49m\u001b[43mcv_report_metrics\u001b[49m\u001b[43m,\u001b[49m\n\u001b[1;32m    235\u001b[0m \u001b[43m    \u001b[49m\u001b[43mnull_model_params\u001b[49m\u001b[38;5;241;43m=\u001b[39;49m\u001b[43mnull_model_params\u001b[49m\u001b[43m,\u001b[49m\n\u001b[1;32m    236\u001b[0m \u001b[43m    \u001b[49m\u001b[43mrelative_error_tolerance\u001b[49m\u001b[38;5;241;43m=\u001b[39;49m\u001b[43mrelative_error_tolerance\u001b[49m\u001b[43m,\u001b[49m\n\u001b[1;32m    237\u001b[0m \u001b[43m    \u001b[49m\u001b[43mcv_horizon\u001b[49m\u001b[38;5;241;43m=\u001b[39;49m\u001b[43mcv_horizon\u001b[49m\u001b[43m,\u001b[49m\n\u001b[1;32m    238\u001b[0m \u001b[43m    \u001b[49m\u001b[43mcv_min_train_periods\u001b[49m\u001b[38;5;241;43m=\u001b[39;49m\u001b[43mcv_min_train_periods\u001b[49m\u001b[43m,\u001b[49m\n\u001b[1;32m    239\u001b[0m \u001b[43m    \u001b[49m\u001b[43mcv_expanding_window\u001b[49m\u001b[38;5;241;43m=\u001b[39;49m\u001b[43mcv_expanding_window\u001b[49m\u001b[43m,\u001b[49m\n\u001b[1;32m    240\u001b[0m \u001b[43m    \u001b[49m\u001b[43mcv_use_most_recent_splits\u001b[49m\u001b[38;5;241;43m=\u001b[39;49m\u001b[43mcv_use_most_recent_splits\u001b[49m\u001b[43m,\u001b[49m\n\u001b[1;32m    241\u001b[0m \u001b[43m    \u001b[49m\u001b[43mcv_periods_between_splits\u001b[49m\u001b[38;5;241;43m=\u001b[39;49m\u001b[43mcv_periods_between_splits\u001b[49m\u001b[43m,\u001b[49m\n\u001b[1;32m    242\u001b[0m \u001b[43m    \u001b[49m\u001b[43mcv_periods_between_train_test\u001b[49m\u001b[38;5;241;43m=\u001b[39;49m\u001b[43mcv_periods_between_train_test\u001b[49m\u001b[43m,\u001b[49m\n\u001b[1;32m    243\u001b[0m \u001b[43m    \u001b[49m\u001b[43mcv_max_splits\u001b[49m\u001b[38;5;241;43m=\u001b[39;49m\u001b[43mcv_max_splits\u001b[49m\n\u001b[1;32m    244\u001b[0m \u001b[43m\u001b[49m\u001b[43m)\u001b[49m\n",
      "File \u001b[0;32m/opt/miniconda3/envs/timeseries310/lib/python3.10/site-packages/greykite/framework/pipeline/pipeline.py:710\u001b[0m, in \u001b[0;36mforecast_pipeline\u001b[0;34m(df, time_col, value_col, date_format, tz, freq, train_end_date, anomaly_info, pipeline, regressor_cols, lagged_regressor_cols, estimator, hyperparameter_grid, hyperparameter_budget, n_jobs, verbose, forecast_horizon, coverage, test_horizon, periods_between_train_test, agg_periods, agg_func, score_func, score_func_greater_is_better, cv_report_metrics, null_model_params, relative_error_tolerance, cv_horizon, cv_min_train_periods, cv_expanding_window, cv_use_most_recent_splits, cv_periods_between_splits, cv_periods_between_train_test, cv_max_splits)\u001b[0m\n\u001b[1;32m    696\u001b[0m     \u001b[38;5;66;03m# Defines grid search approach for CV\u001b[39;00m\n\u001b[1;32m    697\u001b[0m     grid_search \u001b[38;5;241m=\u001b[39m get_hyperparameter_searcher(\n\u001b[1;32m    698\u001b[0m         hyperparameter_grid\u001b[38;5;241m=\u001b[39mhyperparameter_grid,\n\u001b[1;32m    699\u001b[0m         model\u001b[38;5;241m=\u001b[39mpipeline,\n\u001b[0;32m   (...)\u001b[0m\n\u001b[1;32m    708\u001b[0m         agg_func\u001b[38;5;241m=\u001b[39magg_func,\n\u001b[1;32m    709\u001b[0m         relative_error_tolerance\u001b[38;5;241m=\u001b[39mrelative_error_tolerance)\n\u001b[0;32m--> 710\u001b[0m     \u001b[43mgrid_search\u001b[49m\u001b[38;5;241;43m.\u001b[39;49m\u001b[43mfit\u001b[49m\u001b[43m(\u001b[49m\u001b[43mtrain_df\u001b[49m\u001b[43m,\u001b[49m\u001b[43m \u001b[49m\u001b[43mtrain_y\u001b[49m\u001b[43m)\u001b[49m\n\u001b[1;32m    711\u001b[0m     best_estimator \u001b[38;5;241m=\u001b[39m grid_search\u001b[38;5;241m.\u001b[39mbest_estimator_\n\u001b[1;32m    713\u001b[0m \u001b[38;5;66;03m# Evaluates historical performance, fits model to all data (train+test)\u001b[39;00m\n",
      "File \u001b[0;32m/opt/miniconda3/envs/timeseries310/lib/python3.10/site-packages/sklearn/base.py:1389\u001b[0m, in \u001b[0;36m_fit_context.<locals>.decorator.<locals>.wrapper\u001b[0;34m(estimator, *args, **kwargs)\u001b[0m\n\u001b[1;32m   1382\u001b[0m     estimator\u001b[38;5;241m.\u001b[39m_validate_params()\n\u001b[1;32m   1384\u001b[0m \u001b[38;5;28;01mwith\u001b[39;00m config_context(\n\u001b[1;32m   1385\u001b[0m     skip_parameter_validation\u001b[38;5;241m=\u001b[39m(\n\u001b[1;32m   1386\u001b[0m         prefer_skip_nested_validation \u001b[38;5;129;01mor\u001b[39;00m global_skip_validation\n\u001b[1;32m   1387\u001b[0m     )\n\u001b[1;32m   1388\u001b[0m ):\n\u001b[0;32m-> 1389\u001b[0m     \u001b[38;5;28;01mreturn\u001b[39;00m \u001b[43mfit_method\u001b[49m\u001b[43m(\u001b[49m\u001b[43mestimator\u001b[49m\u001b[43m,\u001b[49m\u001b[43m \u001b[49m\u001b[38;5;241;43m*\u001b[39;49m\u001b[43margs\u001b[49m\u001b[43m,\u001b[49m\u001b[43m \u001b[49m\u001b[38;5;241;43m*\u001b[39;49m\u001b[38;5;241;43m*\u001b[39;49m\u001b[43mkwargs\u001b[49m\u001b[43m)\u001b[49m\n",
      "File \u001b[0;32m/opt/miniconda3/envs/timeseries310/lib/python3.10/site-packages/sklearn/model_selection/_search.py:1024\u001b[0m, in \u001b[0;36mBaseSearchCV.fit\u001b[0;34m(self, X, y, **params)\u001b[0m\n\u001b[1;32m   1018\u001b[0m     results \u001b[38;5;241m=\u001b[39m \u001b[38;5;28mself\u001b[39m\u001b[38;5;241m.\u001b[39m_format_results(\n\u001b[1;32m   1019\u001b[0m         all_candidate_params, n_splits, all_out, all_more_results\n\u001b[1;32m   1020\u001b[0m     )\n\u001b[1;32m   1022\u001b[0m     \u001b[38;5;28;01mreturn\u001b[39;00m results\n\u001b[0;32m-> 1024\u001b[0m \u001b[38;5;28;43mself\u001b[39;49m\u001b[38;5;241;43m.\u001b[39;49m\u001b[43m_run_search\u001b[49m\u001b[43m(\u001b[49m\u001b[43mevaluate_candidates\u001b[49m\u001b[43m)\u001b[49m\n\u001b[1;32m   1026\u001b[0m \u001b[38;5;66;03m# multimetric is determined here because in the case of a callable\u001b[39;00m\n\u001b[1;32m   1027\u001b[0m \u001b[38;5;66;03m# self.scoring the return type is only known after calling\u001b[39;00m\n\u001b[1;32m   1028\u001b[0m first_test_score \u001b[38;5;241m=\u001b[39m all_out[\u001b[38;5;241m0\u001b[39m][\u001b[38;5;124m\"\u001b[39m\u001b[38;5;124mtest_scores\u001b[39m\u001b[38;5;124m\"\u001b[39m]\n",
      "File \u001b[0;32m/opt/miniconda3/envs/timeseries310/lib/python3.10/site-packages/sklearn/model_selection/_search.py:1951\u001b[0m, in \u001b[0;36mRandomizedSearchCV._run_search\u001b[0;34m(self, evaluate_candidates)\u001b[0m\n\u001b[1;32m   1949\u001b[0m \u001b[38;5;28;01mdef\u001b[39;00m\u001b[38;5;250m \u001b[39m\u001b[38;5;21m_run_search\u001b[39m(\u001b[38;5;28mself\u001b[39m, evaluate_candidates):\n\u001b[1;32m   1950\u001b[0m \u001b[38;5;250m    \u001b[39m\u001b[38;5;124;03m\"\"\"Search n_iter candidates from param_distributions\"\"\"\u001b[39;00m\n\u001b[0;32m-> 1951\u001b[0m     \u001b[43mevaluate_candidates\u001b[49m\u001b[43m(\u001b[49m\n\u001b[1;32m   1952\u001b[0m \u001b[43m        \u001b[49m\u001b[43mParameterSampler\u001b[49m\u001b[43m(\u001b[49m\n\u001b[1;32m   1953\u001b[0m \u001b[43m            \u001b[49m\u001b[38;5;28;43mself\u001b[39;49m\u001b[38;5;241;43m.\u001b[39;49m\u001b[43mparam_distributions\u001b[49m\u001b[43m,\u001b[49m\u001b[43m \u001b[49m\u001b[38;5;28;43mself\u001b[39;49m\u001b[38;5;241;43m.\u001b[39;49m\u001b[43mn_iter\u001b[49m\u001b[43m,\u001b[49m\u001b[43m \u001b[49m\u001b[43mrandom_state\u001b[49m\u001b[38;5;241;43m=\u001b[39;49m\u001b[38;5;28;43mself\u001b[39;49m\u001b[38;5;241;43m.\u001b[39;49m\u001b[43mrandom_state\u001b[49m\n\u001b[1;32m   1954\u001b[0m \u001b[43m        \u001b[49m\u001b[43m)\u001b[49m\n\u001b[1;32m   1955\u001b[0m \u001b[43m    \u001b[49m\u001b[43m)\u001b[49m\n",
      "File \u001b[0;32m/opt/miniconda3/envs/timeseries310/lib/python3.10/site-packages/sklearn/model_selection/_search.py:1001\u001b[0m, in \u001b[0;36mBaseSearchCV.fit.<locals>.evaluate_candidates\u001b[0;34m(candidate_params, cv, more_results)\u001b[0m\n\u001b[1;32m    994\u001b[0m \u001b[38;5;28;01melif\u001b[39;00m \u001b[38;5;28mlen\u001b[39m(out) \u001b[38;5;241m!=\u001b[39m n_candidates \u001b[38;5;241m*\u001b[39m n_splits:\n\u001b[1;32m    995\u001b[0m     \u001b[38;5;28;01mraise\u001b[39;00m \u001b[38;5;167;01mValueError\u001b[39;00m(\n\u001b[1;32m    996\u001b[0m         \u001b[38;5;124m\"\u001b[39m\u001b[38;5;124mcv.split and cv.get_n_splits returned \u001b[39m\u001b[38;5;124m\"\u001b[39m\n\u001b[1;32m    997\u001b[0m         \u001b[38;5;124m\"\u001b[39m\u001b[38;5;124minconsistent results. Expected \u001b[39m\u001b[38;5;132;01m{}\u001b[39;00m\u001b[38;5;124m \u001b[39m\u001b[38;5;124m\"\u001b[39m\n\u001b[1;32m    998\u001b[0m         \u001b[38;5;124m\"\u001b[39m\u001b[38;5;124msplits, got \u001b[39m\u001b[38;5;132;01m{}\u001b[39;00m\u001b[38;5;124m\"\u001b[39m\u001b[38;5;241m.\u001b[39mformat(n_splits, \u001b[38;5;28mlen\u001b[39m(out) \u001b[38;5;241m/\u001b[39m\u001b[38;5;241m/\u001b[39m n_candidates)\n\u001b[1;32m    999\u001b[0m     )\n\u001b[0;32m-> 1001\u001b[0m \u001b[43m_warn_or_raise_about_fit_failures\u001b[49m\u001b[43m(\u001b[49m\u001b[43mout\u001b[49m\u001b[43m,\u001b[49m\u001b[43m \u001b[49m\u001b[38;5;28;43mself\u001b[39;49m\u001b[38;5;241;43m.\u001b[39;49m\u001b[43merror_score\u001b[49m\u001b[43m)\u001b[49m\n\u001b[1;32m   1003\u001b[0m \u001b[38;5;66;03m# For callable self.scoring, the return type is only know after\u001b[39;00m\n\u001b[1;32m   1004\u001b[0m \u001b[38;5;66;03m# calling. If the return type is a dictionary, the error scores\u001b[39;00m\n\u001b[1;32m   1005\u001b[0m \u001b[38;5;66;03m# can now be inserted with the correct key. The type checking\u001b[39;00m\n\u001b[1;32m   1006\u001b[0m \u001b[38;5;66;03m# of out will be done in `_insert_error_scores`.\u001b[39;00m\n\u001b[1;32m   1007\u001b[0m \u001b[38;5;28;01mif\u001b[39;00m \u001b[38;5;28mcallable\u001b[39m(\u001b[38;5;28mself\u001b[39m\u001b[38;5;241m.\u001b[39mscoring):\n",
      "File \u001b[0;32m/opt/miniconda3/envs/timeseries310/lib/python3.10/site-packages/sklearn/model_selection/_validation.py:517\u001b[0m, in \u001b[0;36m_warn_or_raise_about_fit_failures\u001b[0;34m(results, error_score)\u001b[0m\n\u001b[1;32m    510\u001b[0m \u001b[38;5;28;01mif\u001b[39;00m num_failed_fits \u001b[38;5;241m==\u001b[39m num_fits:\n\u001b[1;32m    511\u001b[0m     all_fits_failed_message \u001b[38;5;241m=\u001b[39m (\n\u001b[1;32m    512\u001b[0m         \u001b[38;5;124mf\u001b[39m\u001b[38;5;124m\"\u001b[39m\u001b[38;5;130;01m\\n\u001b[39;00m\u001b[38;5;124mAll the \u001b[39m\u001b[38;5;132;01m{\u001b[39;00mnum_fits\u001b[38;5;132;01m}\u001b[39;00m\u001b[38;5;124m fits failed.\u001b[39m\u001b[38;5;130;01m\\n\u001b[39;00m\u001b[38;5;124m\"\u001b[39m\n\u001b[1;32m    513\u001b[0m         \u001b[38;5;124m\"\u001b[39m\u001b[38;5;124mIt is very likely that your model is misconfigured.\u001b[39m\u001b[38;5;130;01m\\n\u001b[39;00m\u001b[38;5;124m\"\u001b[39m\n\u001b[1;32m    514\u001b[0m         \u001b[38;5;124m\"\u001b[39m\u001b[38;5;124mYou can try to debug the error by setting error_score=\u001b[39m\u001b[38;5;124m'\u001b[39m\u001b[38;5;124mraise\u001b[39m\u001b[38;5;124m'\u001b[39m\u001b[38;5;124m.\u001b[39m\u001b[38;5;130;01m\\n\u001b[39;00m\u001b[38;5;130;01m\\n\u001b[39;00m\u001b[38;5;124m\"\u001b[39m\n\u001b[1;32m    515\u001b[0m         \u001b[38;5;124mf\u001b[39m\u001b[38;5;124m\"\u001b[39m\u001b[38;5;124mBelow are more details about the failures:\u001b[39m\u001b[38;5;130;01m\\n\u001b[39;00m\u001b[38;5;132;01m{\u001b[39;00mfit_errors_summary\u001b[38;5;132;01m}\u001b[39;00m\u001b[38;5;124m\"\u001b[39m\n\u001b[1;32m    516\u001b[0m     )\n\u001b[0;32m--> 517\u001b[0m     \u001b[38;5;28;01mraise\u001b[39;00m \u001b[38;5;167;01mValueError\u001b[39;00m(all_fits_failed_message)\n\u001b[1;32m    519\u001b[0m \u001b[38;5;28;01melse\u001b[39;00m:\n\u001b[1;32m    520\u001b[0m     some_fits_failed_message \u001b[38;5;241m=\u001b[39m (\n\u001b[1;32m    521\u001b[0m         \u001b[38;5;124mf\u001b[39m\u001b[38;5;124m\"\u001b[39m\u001b[38;5;130;01m\\n\u001b[39;00m\u001b[38;5;132;01m{\u001b[39;00mnum_failed_fits\u001b[38;5;132;01m}\u001b[39;00m\u001b[38;5;124m fits failed out of a total of \u001b[39m\u001b[38;5;132;01m{\u001b[39;00mnum_fits\u001b[38;5;132;01m}\u001b[39;00m\u001b[38;5;124m.\u001b[39m\u001b[38;5;130;01m\\n\u001b[39;00m\u001b[38;5;124m\"\u001b[39m\n\u001b[1;32m    522\u001b[0m         \u001b[38;5;124m\"\u001b[39m\u001b[38;5;124mThe score on these train-test partitions for these parameters\u001b[39m\u001b[38;5;124m\"\u001b[39m\n\u001b[0;32m   (...)\u001b[0m\n\u001b[1;32m    526\u001b[0m         \u001b[38;5;124mf\u001b[39m\u001b[38;5;124m\"\u001b[39m\u001b[38;5;124mBelow are more details about the failures:\u001b[39m\u001b[38;5;130;01m\\n\u001b[39;00m\u001b[38;5;132;01m{\u001b[39;00mfit_errors_summary\u001b[38;5;132;01m}\u001b[39;00m\u001b[38;5;124m\"\u001b[39m\n\u001b[1;32m    527\u001b[0m     )\n",
      "\u001b[0;31mValueError\u001b[0m: \nAll the 3 fits failed.\nIt is very likely that your model is misconfigured.\nYou can try to debug the error by setting error_score='raise'.\n\nBelow are more details about the failures:\n--------------------------------------------------------------------------------\n3 fits failed with the following error:\nTraceback (most recent call last):\n  File \"/opt/miniconda3/envs/timeseries310/lib/python3.10/site-packages/sklearn/model_selection/_validation.py\", line 866, in _fit_and_score\n    estimator.fit(X_train, y_train, **fit_params)\n  File \"/opt/miniconda3/envs/timeseries310/lib/python3.10/site-packages/sklearn/base.py\", line 1389, in wrapper\n    return fit_method(estimator, *args, **kwargs)\n  File \"/opt/miniconda3/envs/timeseries310/lib/python3.10/site-packages/sklearn/pipeline.py\", line 654, in fit\n    Xt = self._fit(X, y, routed_params, raw_params=params)\n  File \"/opt/miniconda3/envs/timeseries310/lib/python3.10/site-packages/sklearn/pipeline.py\", line 588, in _fit\n    X, fitted_transformer = fit_transform_one_cached(\n  File \"/opt/miniconda3/envs/timeseries310/lib/python3.10/site-packages/joblib/memory.py\", line 312, in __call__\n    return self.func(*args, **kwargs)\n  File \"/opt/miniconda3/envs/timeseries310/lib/python3.10/site-packages/sklearn/pipeline.py\", line 1551, in _fit_transform_one\n    res = transformer.fit_transform(X, y, **params.get(\"fit_transform\", {}))\n  File \"/opt/miniconda3/envs/timeseries310/lib/python3.10/site-packages/sklearn/utils/_set_output.py\", line 319, in wrapped\n    data_to_wrap = f(self, X, *args, **kwargs)\n  File \"/opt/miniconda3/envs/timeseries310/lib/python3.10/site-packages/greykite/sklearn/transform/pandas_feature_union.py\", line 97, in fit_transform\n    results = self._parallel_func(X, y, fit_params, _fit_transform_one)\n  File \"/opt/miniconda3/envs/timeseries310/lib/python3.10/site-packages/sklearn/pipeline.py\", line 1996, in _parallel_func\n    return Parallel(n_jobs=self.n_jobs)(\n  File \"/opt/miniconda3/envs/timeseries310/lib/python3.10/site-packages/sklearn/utils/parallel.py\", line 77, in __call__\n    return super().__call__(iterable_with_config)\n  File \"/opt/miniconda3/envs/timeseries310/lib/python3.10/site-packages/joblib/parallel.py\", line 1918, in __call__\n    return output if self.return_generator else list(output)\n  File \"/opt/miniconda3/envs/timeseries310/lib/python3.10/site-packages/joblib/parallel.py\", line 1844, in _get_sequential_output\n    for func, args, kwargs in iterable:\n  File \"/opt/miniconda3/envs/timeseries310/lib/python3.10/site-packages/sklearn/utils/parallel.py\", line 73, in <genexpr>\n    iterable_with_config = (\n  File \"/opt/miniconda3/envs/timeseries310/lib/python3.10/site-packages/sklearn/pipeline.py\", line 2004, in <genexpr>\n    params=routed_params[name],\nTypeError: 'function' object is not subscriptable\n"
     ]
    }
   ],
   "source": [
    "metadata = MetadataParam(\n",
    "    time_col=\"timestamp\",  # name of the time column\n",
    "    value_col=\"close\",  # name of the value column\n",
    "    freq=\"D\",  # \"H\" for hourly, \"D\" for daily, \"W\" for weekly, etc.\n",
    ")\n",
    "\n",
    "forecaster = Forecaster()\n",
    "result = forecaster.run_forecast_config(\n",
    "    df=t_df,\n",
    "    config=ForecastConfig(\n",
    "        model_template=ModelTemplateEnum.SILVERKITE.name,\n",
    "        forecast_horizon=30,  # forecasts 365 steps ahead\n",
    "        coverage=0.95,  # 95% prediction intervals\n",
    "        metadata_param=metadata,\n",
    "    ),\n",
    ")\n",
    "\n",
    "# %%\n",
    "# For a detailed documentation about the output from\n",
    "# :py:meth:`~greykite.framework.templates.forecaster.Forecaster.run_forecast_config`,\n",
    "# see :doc:`/pages/stepbystep/0500_output`. Here we could plot the forecast.\n",
    "\n",
    "forecast = result.forecast\n",
    "fig = forecast.plot()"
   ]
  },
  {
   "cell_type": "markdown",
   "metadata": {},
   "source": [
    "# Peyton Manning"
   ]
  },
  {
   "cell_type": "code",
   "execution_count": 14,
   "metadata": {},
   "outputs": [],
   "source": [
    "import pandas as pd\n",
    "\n",
    "df = pd.DataFrame(\n",
    "    {\n",
    "        \"date\": [\"2020-01-08-00\", \"2020-01-09-00\", \"2020-01-10-00\"],\n",
    "        \"sessions\": [10231.0, 12309.0, 12104.0],\n",
    "    }\n",
    ")"
   ]
  },
  {
   "cell_type": "code",
   "execution_count": 15,
   "metadata": {},
   "outputs": [],
   "source": [
    "from collections import defaultdict\n",
    "import warnings\n",
    "\n",
    "warnings.filterwarnings(\"ignore\")\n",
    "\n",
    "import pandas as pd\n",
    "import plotly\n",
    "\n",
    "from greykite.common.data_loader import DataLoader\n",
    "from greykite.framework.templates.autogen.forecast_config import ForecastConfig\n",
    "from greykite.framework.templates.autogen.forecast_config import MetadataParam\n",
    "from greykite.framework.templates.forecaster import Forecaster\n",
    "from greykite.framework.templates.model_templates import ModelTemplateEnum\n",
    "from greykite.framework.utils.result_summary import summarize_grid_search_results\n",
    "\n",
    "# Loads dataset into pandas DataFrame\n",
    "dl = DataLoader()\n",
    "df = dl.load_peyton_manning()\n",
    "\n",
    "# specify dataset information\n",
    "metadata = MetadataParam(\n",
    "    time_col=\"ts\",  # name of the time column (\"date\" in example above)\n",
    "    value_col=\"y\",  # name of the value column (\"sessions\" in example above)\n",
    "    freq=\"D\"  # \"H\" for hourly, \"D\" for daily, \"W\" for weekly, etc.\n",
    "              # Any format accepted by `pandas.date_range`\n",
    ")\n",
    "\n"
   ]
  },
  {
   "cell_type": "code",
   "execution_count": 16,
   "metadata": {},
   "outputs": [],
   "source": [
    "from greykite.framework.templates.autogen.forecast_config import ModelComponentsParam\n",
    "\n",
    "model_components = ModelComponentsParam(\n",
    "    # Instead of using an \"auto\" list of algorithms, fix one explicitly.\n",
    "    custom={\"fit_algorithm_dict\": {\"fit_algorithm\": \"ridge\"}},\n",
    "    # You might also explicitly set growth to a literal value\n",
    "    growth={\"growth_term\": \"linear\"},\n",
    "    # If autoregression is not required, you could override with an empty dict\n",
    "    autoregression={\"autoreg_dict\": {}},\n",
    "    changepoints={\"changepoints_dict\": {\"method\": \"auto\"}},\n",
    "    events={\n",
    "        \"holiday_lookup_countries\": [\"US\"],\n",
    "        \"holiday_pre_num_days\": 2,\n",
    "        \"holiday_post_num_days\": 2,\n",
    "    },\n",
    "    regressors={\"regressor_cols\": []},\n",
    "    lagged_regressors={\"lagged_regressor_dict\": {}},\n",
    "    seasonality={\n",
    "        \"yearly_seasonality\": 10,\n",
    "        \"quarterly_seasonality\": False,\n",
    "        \"monthly_seasonality\": False,\n",
    "        \"weekly_seasonality\": 5,\n",
    "        \"daily_seasonality\": False,\n",
    "    },\n",
    "    uncertainty=None,\n",
    ")"
   ]
  },
  {
   "cell_type": "code",
   "execution_count": 17,
   "metadata": {},
   "outputs": [
    {
     "name": "stdout",
     "output_type": "stream",
     "text": [
      "Fitting 3 folds for each of 1 candidates, totalling 3 fits\n"
     ]
    },
    {
     "ename": "ValueError",
     "evalue": "\nAll the 3 fits failed.\nIt is very likely that your model is misconfigured.\nYou can try to debug the error by setting error_score='raise'.\n\nBelow are more details about the failures:\n--------------------------------------------------------------------------------\n3 fits failed with the following error:\nTraceback (most recent call last):\n  File \"/opt/miniconda3/envs/timeseries310/lib/python3.10/site-packages/sklearn/model_selection/_validation.py\", line 866, in _fit_and_score\n    estimator.fit(X_train, y_train, **fit_params)\n  File \"/opt/miniconda3/envs/timeseries310/lib/python3.10/site-packages/sklearn/base.py\", line 1389, in wrapper\n    return fit_method(estimator, *args, **kwargs)\n  File \"/opt/miniconda3/envs/timeseries310/lib/python3.10/site-packages/sklearn/pipeline.py\", line 654, in fit\n    Xt = self._fit(X, y, routed_params, raw_params=params)\n  File \"/opt/miniconda3/envs/timeseries310/lib/python3.10/site-packages/sklearn/pipeline.py\", line 588, in _fit\n    X, fitted_transformer = fit_transform_one_cached(\n  File \"/opt/miniconda3/envs/timeseries310/lib/python3.10/site-packages/joblib/memory.py\", line 312, in __call__\n    return self.func(*args, **kwargs)\n  File \"/opt/miniconda3/envs/timeseries310/lib/python3.10/site-packages/sklearn/pipeline.py\", line 1551, in _fit_transform_one\n    res = transformer.fit_transform(X, y, **params.get(\"fit_transform\", {}))\n  File \"/opt/miniconda3/envs/timeseries310/lib/python3.10/site-packages/sklearn/utils/_set_output.py\", line 319, in wrapped\n    data_to_wrap = f(self, X, *args, **kwargs)\n  File \"/opt/miniconda3/envs/timeseries310/lib/python3.10/site-packages/greykite/sklearn/transform/pandas_feature_union.py\", line 97, in fit_transform\n    results = self._parallel_func(X, y, fit_params, _fit_transform_one)\n  File \"/opt/miniconda3/envs/timeseries310/lib/python3.10/site-packages/sklearn/pipeline.py\", line 1996, in _parallel_func\n    return Parallel(n_jobs=self.n_jobs)(\n  File \"/opt/miniconda3/envs/timeseries310/lib/python3.10/site-packages/sklearn/utils/parallel.py\", line 77, in __call__\n    return super().__call__(iterable_with_config)\n  File \"/opt/miniconda3/envs/timeseries310/lib/python3.10/site-packages/joblib/parallel.py\", line 1918, in __call__\n    return output if self.return_generator else list(output)\n  File \"/opt/miniconda3/envs/timeseries310/lib/python3.10/site-packages/joblib/parallel.py\", line 1844, in _get_sequential_output\n    for func, args, kwargs in iterable:\n  File \"/opt/miniconda3/envs/timeseries310/lib/python3.10/site-packages/sklearn/utils/parallel.py\", line 73, in <genexpr>\n    iterable_with_config = (\n  File \"/opt/miniconda3/envs/timeseries310/lib/python3.10/site-packages/sklearn/pipeline.py\", line 2004, in <genexpr>\n    params=routed_params[name],\nTypeError: 'function' object is not subscriptable\n",
     "output_type": "error",
     "traceback": [
      "\u001b[0;31m---------------------------------------------------------------------------\u001b[0m",
      "\u001b[0;31mValueError\u001b[0m                                Traceback (most recent call last)",
      "Cell \u001b[0;32mIn[17], line 10\u001b[0m\n\u001b[1;32m      1\u001b[0m \u001b[38;5;28;01mfrom\u001b[39;00m\u001b[38;5;250m \u001b[39m\u001b[38;5;21;01mgreykite\u001b[39;00m\u001b[38;5;21;01m.\u001b[39;00m\u001b[38;5;21;01mframework\u001b[39;00m\u001b[38;5;21;01m.\u001b[39;00m\u001b[38;5;21;01mtemplates\u001b[39;00m\u001b[38;5;21;01m.\u001b[39;00m\u001b[38;5;21;01mautogen\u001b[39;00m\u001b[38;5;21;01m.\u001b[39;00m\u001b[38;5;21;01mforecast_config\u001b[39;00m\u001b[38;5;250m \u001b[39m\u001b[38;5;28;01mimport\u001b[39;00m ForecastConfig\n\u001b[1;32m      3\u001b[0m config \u001b[38;5;241m=\u001b[39m ForecastConfig(\n\u001b[1;32m      4\u001b[0m     model_template\u001b[38;5;241m=\u001b[39mModelTemplateEnum\u001b[38;5;241m.\u001b[39mSILVERKITE\u001b[38;5;241m.\u001b[39mname,\n\u001b[1;32m      5\u001b[0m     forecast_horizon\u001b[38;5;241m=\u001b[39m\u001b[38;5;241m365\u001b[39m,\n\u001b[0;32m   (...)\u001b[0m\n\u001b[1;32m      8\u001b[0m     model_components_param\u001b[38;5;241m=\u001b[39mmodel_components,\n\u001b[1;32m      9\u001b[0m )\n\u001b[0;32m---> 10\u001b[0m result \u001b[38;5;241m=\u001b[39m \u001b[43mforecaster\u001b[49m\u001b[38;5;241;43m.\u001b[39;49m\u001b[43mrun_forecast_config\u001b[49m\u001b[43m(\u001b[49m\u001b[43mdf\u001b[49m\u001b[38;5;241;43m=\u001b[39;49m\u001b[43mdf\u001b[49m\u001b[43m,\u001b[49m\u001b[43m \u001b[49m\u001b[43mconfig\u001b[49m\u001b[38;5;241;43m=\u001b[39;49m\u001b[43mconfig\u001b[49m\u001b[43m)\u001b[49m\n",
      "File \u001b[0;32m/opt/miniconda3/envs/timeseries310/lib/python3.10/site-packages/greykite/framework/templates/forecaster.py:378\u001b[0m, in \u001b[0;36mForecaster.run_forecast_config\u001b[0;34m(self, df, config)\u001b[0m\n\u001b[1;32m    353\u001b[0m \u001b[38;5;250m\u001b[39m\u001b[38;5;124;03m\"\"\"Creates a forecast from input data and config.\u001b[39;00m\n\u001b[1;32m    354\u001b[0m \u001b[38;5;124;03mThe result is also stored as ``self.forecast_result``.\u001b[39;00m\n\u001b[1;32m    355\u001b[0m \n\u001b[0;32m   (...)\u001b[0m\n\u001b[1;32m    373\u001b[0m \u001b[38;5;124;03m    according to the ``df`` and ``config`` configuration parameters.\u001b[39;00m\n\u001b[1;32m    374\u001b[0m \u001b[38;5;124;03m\"\"\"\u001b[39;00m\n\u001b[1;32m    375\u001b[0m pipeline_parameters \u001b[38;5;241m=\u001b[39m \u001b[38;5;28mself\u001b[39m\u001b[38;5;241m.\u001b[39mapply_forecast_config(\n\u001b[1;32m    376\u001b[0m     df\u001b[38;5;241m=\u001b[39mdf,\n\u001b[1;32m    377\u001b[0m     config\u001b[38;5;241m=\u001b[39mconfig)\n\u001b[0;32m--> 378\u001b[0m \u001b[38;5;28mself\u001b[39m\u001b[38;5;241m.\u001b[39mforecast_result \u001b[38;5;241m=\u001b[39m \u001b[43mforecast_pipeline\u001b[49m\u001b[43m(\u001b[49m\u001b[38;5;241;43m*\u001b[39;49m\u001b[38;5;241;43m*\u001b[39;49m\u001b[43mpipeline_parameters\u001b[49m\u001b[43m)\u001b[49m\n\u001b[1;32m    379\u001b[0m \u001b[38;5;28;01mreturn\u001b[39;00m \u001b[38;5;28mself\u001b[39m\u001b[38;5;241m.\u001b[39mforecast_result\n",
      "File \u001b[0;32m/opt/miniconda3/envs/timeseries310/lib/python3.10/site-packages/greykite/framework/pipeline/pipeline.py:209\u001b[0m, in \u001b[0;36mvalidate_pipeline_input.<locals>.pipeline_wrapper\u001b[0;34m(df, time_col, value_col, date_format, tz, freq, train_end_date, anomaly_info, pipeline, regressor_cols, lagged_regressor_cols, estimator, hyperparameter_grid, hyperparameter_budget, n_jobs, verbose, forecast_horizon, coverage, test_horizon, periods_between_train_test, agg_periods, agg_func, score_func, score_func_greater_is_better, cv_report_metrics, null_model_params, relative_error_tolerance, cv_horizon, cv_min_train_periods, cv_expanding_window, cv_use_most_recent_splits, cv_periods_between_splits, cv_periods_between_train_test, cv_max_splits)\u001b[0m\n\u001b[1;32m    206\u001b[0m log_message(\u001b[38;5;124mf\u001b[39m\u001b[38;5;124m\"\u001b[39m\u001b[38;5;124mtest_horizon: \u001b[39m\u001b[38;5;132;01m{\u001b[39;00mtest_horizon\u001b[38;5;132;01m}\u001b[39;00m\u001b[38;5;124m\"\u001b[39m, LoggingLevelEnum\u001b[38;5;241m.\u001b[39mINFO)\n\u001b[1;32m    207\u001b[0m log_message(\u001b[38;5;124mf\u001b[39m\u001b[38;5;124m\"\u001b[39m\u001b[38;5;124mcv_horizon: \u001b[39m\u001b[38;5;132;01m{\u001b[39;00mcv_horizon\u001b[38;5;132;01m}\u001b[39;00m\u001b[38;5;124m\"\u001b[39m, LoggingLevelEnum\u001b[38;5;241m.\u001b[39mINFO)\n\u001b[0;32m--> 209\u001b[0m \u001b[38;5;28;01mreturn\u001b[39;00m \u001b[43mpipeline_function\u001b[49m\u001b[43m(\u001b[49m\n\u001b[1;32m    210\u001b[0m \u001b[43m    \u001b[49m\u001b[43mdf\u001b[49m\u001b[43m,\u001b[49m\n\u001b[1;32m    211\u001b[0m \u001b[43m    \u001b[49m\u001b[43mtime_col\u001b[49m\u001b[38;5;241;43m=\u001b[39;49m\u001b[43mtime_col\u001b[49m\u001b[43m,\u001b[49m\n\u001b[1;32m    212\u001b[0m \u001b[43m    \u001b[49m\u001b[43mvalue_col\u001b[49m\u001b[38;5;241;43m=\u001b[39;49m\u001b[43mvalue_col\u001b[49m\u001b[43m,\u001b[49m\n\u001b[1;32m    213\u001b[0m \u001b[43m    \u001b[49m\u001b[43mdate_format\u001b[49m\u001b[38;5;241;43m=\u001b[39;49m\u001b[43mdate_format\u001b[49m\u001b[43m,\u001b[49m\n\u001b[1;32m    214\u001b[0m \u001b[43m    \u001b[49m\u001b[43mtz\u001b[49m\u001b[38;5;241;43m=\u001b[39;49m\u001b[43mtz\u001b[49m\u001b[43m,\u001b[49m\n\u001b[1;32m    215\u001b[0m \u001b[43m    \u001b[49m\u001b[43mfreq\u001b[49m\u001b[38;5;241;43m=\u001b[39;49m\u001b[43mfreq\u001b[49m\u001b[43m,\u001b[49m\n\u001b[1;32m    216\u001b[0m \u001b[43m    \u001b[49m\u001b[43mtrain_end_date\u001b[49m\u001b[38;5;241;43m=\u001b[39;49m\u001b[43mtrain_end_date\u001b[49m\u001b[43m,\u001b[49m\n\u001b[1;32m    217\u001b[0m \u001b[43m    \u001b[49m\u001b[43manomaly_info\u001b[49m\u001b[38;5;241;43m=\u001b[39;49m\u001b[43manomaly_info\u001b[49m\u001b[43m,\u001b[49m\n\u001b[1;32m    218\u001b[0m \u001b[43m    \u001b[49m\u001b[43mpipeline\u001b[49m\u001b[38;5;241;43m=\u001b[39;49m\u001b[43mpipeline\u001b[49m\u001b[43m,\u001b[49m\n\u001b[1;32m    219\u001b[0m \u001b[43m    \u001b[49m\u001b[43mregressor_cols\u001b[49m\u001b[38;5;241;43m=\u001b[39;49m\u001b[43mregressor_cols\u001b[49m\u001b[43m,\u001b[49m\n\u001b[1;32m    220\u001b[0m \u001b[43m    \u001b[49m\u001b[43mlagged_regressor_cols\u001b[49m\u001b[38;5;241;43m=\u001b[39;49m\u001b[43mlagged_regressor_cols\u001b[49m\u001b[43m,\u001b[49m\n\u001b[1;32m    221\u001b[0m \u001b[43m    \u001b[49m\u001b[43mestimator\u001b[49m\u001b[38;5;241;43m=\u001b[39;49m\u001b[43mestimator\u001b[49m\u001b[43m,\u001b[49m\n\u001b[1;32m    222\u001b[0m \u001b[43m    \u001b[49m\u001b[43mhyperparameter_grid\u001b[49m\u001b[38;5;241;43m=\u001b[39;49m\u001b[43mhyperparameter_grid\u001b[49m\u001b[43m,\u001b[49m\n\u001b[1;32m    223\u001b[0m \u001b[43m    \u001b[49m\u001b[43mhyperparameter_budget\u001b[49m\u001b[38;5;241;43m=\u001b[39;49m\u001b[43mhyperparameter_budget\u001b[49m\u001b[43m,\u001b[49m\n\u001b[1;32m    224\u001b[0m \u001b[43m    \u001b[49m\u001b[43mn_jobs\u001b[49m\u001b[38;5;241;43m=\u001b[39;49m\u001b[43mn_jobs\u001b[49m\u001b[43m,\u001b[49m\n\u001b[1;32m    225\u001b[0m \u001b[43m    \u001b[49m\u001b[43mverbose\u001b[49m\u001b[38;5;241;43m=\u001b[39;49m\u001b[43mverbose\u001b[49m\u001b[43m,\u001b[49m\n\u001b[1;32m    226\u001b[0m \u001b[43m    \u001b[49m\u001b[43mforecast_horizon\u001b[49m\u001b[38;5;241;43m=\u001b[39;49m\u001b[43mforecast_horizon\u001b[49m\u001b[43m,\u001b[49m\n\u001b[1;32m    227\u001b[0m \u001b[43m    \u001b[49m\u001b[43mcoverage\u001b[49m\u001b[38;5;241;43m=\u001b[39;49m\u001b[43mcoverage\u001b[49m\u001b[43m,\u001b[49m\n\u001b[1;32m    228\u001b[0m \u001b[43m    \u001b[49m\u001b[43mtest_horizon\u001b[49m\u001b[38;5;241;43m=\u001b[39;49m\u001b[43mtest_horizon\u001b[49m\u001b[43m,\u001b[49m\n\u001b[1;32m    229\u001b[0m \u001b[43m    \u001b[49m\u001b[43mperiods_between_train_test\u001b[49m\u001b[38;5;241;43m=\u001b[39;49m\u001b[43mperiods_between_train_test\u001b[49m\u001b[43m,\u001b[49m\n\u001b[1;32m    230\u001b[0m \u001b[43m    \u001b[49m\u001b[43magg_periods\u001b[49m\u001b[38;5;241;43m=\u001b[39;49m\u001b[43magg_periods\u001b[49m\u001b[43m,\u001b[49m\n\u001b[1;32m    231\u001b[0m \u001b[43m    \u001b[49m\u001b[43magg_func\u001b[49m\u001b[38;5;241;43m=\u001b[39;49m\u001b[43magg_func\u001b[49m\u001b[43m,\u001b[49m\n\u001b[1;32m    232\u001b[0m \u001b[43m    \u001b[49m\u001b[43mscore_func\u001b[49m\u001b[38;5;241;43m=\u001b[39;49m\u001b[43mscore_func\u001b[49m\u001b[43m,\u001b[49m\n\u001b[1;32m    233\u001b[0m \u001b[43m    \u001b[49m\u001b[43mscore_func_greater_is_better\u001b[49m\u001b[38;5;241;43m=\u001b[39;49m\u001b[43mscore_func_greater_is_better\u001b[49m\u001b[43m,\u001b[49m\n\u001b[1;32m    234\u001b[0m \u001b[43m    \u001b[49m\u001b[43mcv_report_metrics\u001b[49m\u001b[38;5;241;43m=\u001b[39;49m\u001b[43mcv_report_metrics\u001b[49m\u001b[43m,\u001b[49m\n\u001b[1;32m    235\u001b[0m \u001b[43m    \u001b[49m\u001b[43mnull_model_params\u001b[49m\u001b[38;5;241;43m=\u001b[39;49m\u001b[43mnull_model_params\u001b[49m\u001b[43m,\u001b[49m\n\u001b[1;32m    236\u001b[0m \u001b[43m    \u001b[49m\u001b[43mrelative_error_tolerance\u001b[49m\u001b[38;5;241;43m=\u001b[39;49m\u001b[43mrelative_error_tolerance\u001b[49m\u001b[43m,\u001b[49m\n\u001b[1;32m    237\u001b[0m \u001b[43m    \u001b[49m\u001b[43mcv_horizon\u001b[49m\u001b[38;5;241;43m=\u001b[39;49m\u001b[43mcv_horizon\u001b[49m\u001b[43m,\u001b[49m\n\u001b[1;32m    238\u001b[0m \u001b[43m    \u001b[49m\u001b[43mcv_min_train_periods\u001b[49m\u001b[38;5;241;43m=\u001b[39;49m\u001b[43mcv_min_train_periods\u001b[49m\u001b[43m,\u001b[49m\n\u001b[1;32m    239\u001b[0m \u001b[43m    \u001b[49m\u001b[43mcv_expanding_window\u001b[49m\u001b[38;5;241;43m=\u001b[39;49m\u001b[43mcv_expanding_window\u001b[49m\u001b[43m,\u001b[49m\n\u001b[1;32m    240\u001b[0m \u001b[43m    \u001b[49m\u001b[43mcv_use_most_recent_splits\u001b[49m\u001b[38;5;241;43m=\u001b[39;49m\u001b[43mcv_use_most_recent_splits\u001b[49m\u001b[43m,\u001b[49m\n\u001b[1;32m    241\u001b[0m \u001b[43m    \u001b[49m\u001b[43mcv_periods_between_splits\u001b[49m\u001b[38;5;241;43m=\u001b[39;49m\u001b[43mcv_periods_between_splits\u001b[49m\u001b[43m,\u001b[49m\n\u001b[1;32m    242\u001b[0m \u001b[43m    \u001b[49m\u001b[43mcv_periods_between_train_test\u001b[49m\u001b[38;5;241;43m=\u001b[39;49m\u001b[43mcv_periods_between_train_test\u001b[49m\u001b[43m,\u001b[49m\n\u001b[1;32m    243\u001b[0m \u001b[43m    \u001b[49m\u001b[43mcv_max_splits\u001b[49m\u001b[38;5;241;43m=\u001b[39;49m\u001b[43mcv_max_splits\u001b[49m\n\u001b[1;32m    244\u001b[0m \u001b[43m\u001b[49m\u001b[43m)\u001b[49m\n",
      "File \u001b[0;32m/opt/miniconda3/envs/timeseries310/lib/python3.10/site-packages/greykite/framework/pipeline/pipeline.py:710\u001b[0m, in \u001b[0;36mforecast_pipeline\u001b[0;34m(df, time_col, value_col, date_format, tz, freq, train_end_date, anomaly_info, pipeline, regressor_cols, lagged_regressor_cols, estimator, hyperparameter_grid, hyperparameter_budget, n_jobs, verbose, forecast_horizon, coverage, test_horizon, periods_between_train_test, agg_periods, agg_func, score_func, score_func_greater_is_better, cv_report_metrics, null_model_params, relative_error_tolerance, cv_horizon, cv_min_train_periods, cv_expanding_window, cv_use_most_recent_splits, cv_periods_between_splits, cv_periods_between_train_test, cv_max_splits)\u001b[0m\n\u001b[1;32m    696\u001b[0m     \u001b[38;5;66;03m# Defines grid search approach for CV\u001b[39;00m\n\u001b[1;32m    697\u001b[0m     grid_search \u001b[38;5;241m=\u001b[39m get_hyperparameter_searcher(\n\u001b[1;32m    698\u001b[0m         hyperparameter_grid\u001b[38;5;241m=\u001b[39mhyperparameter_grid,\n\u001b[1;32m    699\u001b[0m         model\u001b[38;5;241m=\u001b[39mpipeline,\n\u001b[0;32m   (...)\u001b[0m\n\u001b[1;32m    708\u001b[0m         agg_func\u001b[38;5;241m=\u001b[39magg_func,\n\u001b[1;32m    709\u001b[0m         relative_error_tolerance\u001b[38;5;241m=\u001b[39mrelative_error_tolerance)\n\u001b[0;32m--> 710\u001b[0m     \u001b[43mgrid_search\u001b[49m\u001b[38;5;241;43m.\u001b[39;49m\u001b[43mfit\u001b[49m\u001b[43m(\u001b[49m\u001b[43mtrain_df\u001b[49m\u001b[43m,\u001b[49m\u001b[43m \u001b[49m\u001b[43mtrain_y\u001b[49m\u001b[43m)\u001b[49m\n\u001b[1;32m    711\u001b[0m     best_estimator \u001b[38;5;241m=\u001b[39m grid_search\u001b[38;5;241m.\u001b[39mbest_estimator_\n\u001b[1;32m    713\u001b[0m \u001b[38;5;66;03m# Evaluates historical performance, fits model to all data (train+test)\u001b[39;00m\n",
      "File \u001b[0;32m/opt/miniconda3/envs/timeseries310/lib/python3.10/site-packages/sklearn/base.py:1389\u001b[0m, in \u001b[0;36m_fit_context.<locals>.decorator.<locals>.wrapper\u001b[0;34m(estimator, *args, **kwargs)\u001b[0m\n\u001b[1;32m   1382\u001b[0m     estimator\u001b[38;5;241m.\u001b[39m_validate_params()\n\u001b[1;32m   1384\u001b[0m \u001b[38;5;28;01mwith\u001b[39;00m config_context(\n\u001b[1;32m   1385\u001b[0m     skip_parameter_validation\u001b[38;5;241m=\u001b[39m(\n\u001b[1;32m   1386\u001b[0m         prefer_skip_nested_validation \u001b[38;5;129;01mor\u001b[39;00m global_skip_validation\n\u001b[1;32m   1387\u001b[0m     )\n\u001b[1;32m   1388\u001b[0m ):\n\u001b[0;32m-> 1389\u001b[0m     \u001b[38;5;28;01mreturn\u001b[39;00m \u001b[43mfit_method\u001b[49m\u001b[43m(\u001b[49m\u001b[43mestimator\u001b[49m\u001b[43m,\u001b[49m\u001b[43m \u001b[49m\u001b[38;5;241;43m*\u001b[39;49m\u001b[43margs\u001b[49m\u001b[43m,\u001b[49m\u001b[43m \u001b[49m\u001b[38;5;241;43m*\u001b[39;49m\u001b[38;5;241;43m*\u001b[39;49m\u001b[43mkwargs\u001b[49m\u001b[43m)\u001b[49m\n",
      "File \u001b[0;32m/opt/miniconda3/envs/timeseries310/lib/python3.10/site-packages/sklearn/model_selection/_search.py:1024\u001b[0m, in \u001b[0;36mBaseSearchCV.fit\u001b[0;34m(self, X, y, **params)\u001b[0m\n\u001b[1;32m   1018\u001b[0m     results \u001b[38;5;241m=\u001b[39m \u001b[38;5;28mself\u001b[39m\u001b[38;5;241m.\u001b[39m_format_results(\n\u001b[1;32m   1019\u001b[0m         all_candidate_params, n_splits, all_out, all_more_results\n\u001b[1;32m   1020\u001b[0m     )\n\u001b[1;32m   1022\u001b[0m     \u001b[38;5;28;01mreturn\u001b[39;00m results\n\u001b[0;32m-> 1024\u001b[0m \u001b[38;5;28;43mself\u001b[39;49m\u001b[38;5;241;43m.\u001b[39;49m\u001b[43m_run_search\u001b[49m\u001b[43m(\u001b[49m\u001b[43mevaluate_candidates\u001b[49m\u001b[43m)\u001b[49m\n\u001b[1;32m   1026\u001b[0m \u001b[38;5;66;03m# multimetric is determined here because in the case of a callable\u001b[39;00m\n\u001b[1;32m   1027\u001b[0m \u001b[38;5;66;03m# self.scoring the return type is only known after calling\u001b[39;00m\n\u001b[1;32m   1028\u001b[0m first_test_score \u001b[38;5;241m=\u001b[39m all_out[\u001b[38;5;241m0\u001b[39m][\u001b[38;5;124m\"\u001b[39m\u001b[38;5;124mtest_scores\u001b[39m\u001b[38;5;124m\"\u001b[39m]\n",
      "File \u001b[0;32m/opt/miniconda3/envs/timeseries310/lib/python3.10/site-packages/sklearn/model_selection/_search.py:1951\u001b[0m, in \u001b[0;36mRandomizedSearchCV._run_search\u001b[0;34m(self, evaluate_candidates)\u001b[0m\n\u001b[1;32m   1949\u001b[0m \u001b[38;5;28;01mdef\u001b[39;00m\u001b[38;5;250m \u001b[39m\u001b[38;5;21m_run_search\u001b[39m(\u001b[38;5;28mself\u001b[39m, evaluate_candidates):\n\u001b[1;32m   1950\u001b[0m \u001b[38;5;250m    \u001b[39m\u001b[38;5;124;03m\"\"\"Search n_iter candidates from param_distributions\"\"\"\u001b[39;00m\n\u001b[0;32m-> 1951\u001b[0m     \u001b[43mevaluate_candidates\u001b[49m\u001b[43m(\u001b[49m\n\u001b[1;32m   1952\u001b[0m \u001b[43m        \u001b[49m\u001b[43mParameterSampler\u001b[49m\u001b[43m(\u001b[49m\n\u001b[1;32m   1953\u001b[0m \u001b[43m            \u001b[49m\u001b[38;5;28;43mself\u001b[39;49m\u001b[38;5;241;43m.\u001b[39;49m\u001b[43mparam_distributions\u001b[49m\u001b[43m,\u001b[49m\u001b[43m \u001b[49m\u001b[38;5;28;43mself\u001b[39;49m\u001b[38;5;241;43m.\u001b[39;49m\u001b[43mn_iter\u001b[49m\u001b[43m,\u001b[49m\u001b[43m \u001b[49m\u001b[43mrandom_state\u001b[49m\u001b[38;5;241;43m=\u001b[39;49m\u001b[38;5;28;43mself\u001b[39;49m\u001b[38;5;241;43m.\u001b[39;49m\u001b[43mrandom_state\u001b[49m\n\u001b[1;32m   1954\u001b[0m \u001b[43m        \u001b[49m\u001b[43m)\u001b[49m\n\u001b[1;32m   1955\u001b[0m \u001b[43m    \u001b[49m\u001b[43m)\u001b[49m\n",
      "File \u001b[0;32m/opt/miniconda3/envs/timeseries310/lib/python3.10/site-packages/sklearn/model_selection/_search.py:1001\u001b[0m, in \u001b[0;36mBaseSearchCV.fit.<locals>.evaluate_candidates\u001b[0;34m(candidate_params, cv, more_results)\u001b[0m\n\u001b[1;32m    994\u001b[0m \u001b[38;5;28;01melif\u001b[39;00m \u001b[38;5;28mlen\u001b[39m(out) \u001b[38;5;241m!=\u001b[39m n_candidates \u001b[38;5;241m*\u001b[39m n_splits:\n\u001b[1;32m    995\u001b[0m     \u001b[38;5;28;01mraise\u001b[39;00m \u001b[38;5;167;01mValueError\u001b[39;00m(\n\u001b[1;32m    996\u001b[0m         \u001b[38;5;124m\"\u001b[39m\u001b[38;5;124mcv.split and cv.get_n_splits returned \u001b[39m\u001b[38;5;124m\"\u001b[39m\n\u001b[1;32m    997\u001b[0m         \u001b[38;5;124m\"\u001b[39m\u001b[38;5;124minconsistent results. Expected \u001b[39m\u001b[38;5;132;01m{}\u001b[39;00m\u001b[38;5;124m \u001b[39m\u001b[38;5;124m\"\u001b[39m\n\u001b[1;32m    998\u001b[0m         \u001b[38;5;124m\"\u001b[39m\u001b[38;5;124msplits, got \u001b[39m\u001b[38;5;132;01m{}\u001b[39;00m\u001b[38;5;124m\"\u001b[39m\u001b[38;5;241m.\u001b[39mformat(n_splits, \u001b[38;5;28mlen\u001b[39m(out) \u001b[38;5;241m/\u001b[39m\u001b[38;5;241m/\u001b[39m n_candidates)\n\u001b[1;32m    999\u001b[0m     )\n\u001b[0;32m-> 1001\u001b[0m \u001b[43m_warn_or_raise_about_fit_failures\u001b[49m\u001b[43m(\u001b[49m\u001b[43mout\u001b[49m\u001b[43m,\u001b[49m\u001b[43m \u001b[49m\u001b[38;5;28;43mself\u001b[39;49m\u001b[38;5;241;43m.\u001b[39;49m\u001b[43merror_score\u001b[49m\u001b[43m)\u001b[49m\n\u001b[1;32m   1003\u001b[0m \u001b[38;5;66;03m# For callable self.scoring, the return type is only know after\u001b[39;00m\n\u001b[1;32m   1004\u001b[0m \u001b[38;5;66;03m# calling. If the return type is a dictionary, the error scores\u001b[39;00m\n\u001b[1;32m   1005\u001b[0m \u001b[38;5;66;03m# can now be inserted with the correct key. The type checking\u001b[39;00m\n\u001b[1;32m   1006\u001b[0m \u001b[38;5;66;03m# of out will be done in `_insert_error_scores`.\u001b[39;00m\n\u001b[1;32m   1007\u001b[0m \u001b[38;5;28;01mif\u001b[39;00m \u001b[38;5;28mcallable\u001b[39m(\u001b[38;5;28mself\u001b[39m\u001b[38;5;241m.\u001b[39mscoring):\n",
      "File \u001b[0;32m/opt/miniconda3/envs/timeseries310/lib/python3.10/site-packages/sklearn/model_selection/_validation.py:517\u001b[0m, in \u001b[0;36m_warn_or_raise_about_fit_failures\u001b[0;34m(results, error_score)\u001b[0m\n\u001b[1;32m    510\u001b[0m \u001b[38;5;28;01mif\u001b[39;00m num_failed_fits \u001b[38;5;241m==\u001b[39m num_fits:\n\u001b[1;32m    511\u001b[0m     all_fits_failed_message \u001b[38;5;241m=\u001b[39m (\n\u001b[1;32m    512\u001b[0m         \u001b[38;5;124mf\u001b[39m\u001b[38;5;124m\"\u001b[39m\u001b[38;5;130;01m\\n\u001b[39;00m\u001b[38;5;124mAll the \u001b[39m\u001b[38;5;132;01m{\u001b[39;00mnum_fits\u001b[38;5;132;01m}\u001b[39;00m\u001b[38;5;124m fits failed.\u001b[39m\u001b[38;5;130;01m\\n\u001b[39;00m\u001b[38;5;124m\"\u001b[39m\n\u001b[1;32m    513\u001b[0m         \u001b[38;5;124m\"\u001b[39m\u001b[38;5;124mIt is very likely that your model is misconfigured.\u001b[39m\u001b[38;5;130;01m\\n\u001b[39;00m\u001b[38;5;124m\"\u001b[39m\n\u001b[1;32m    514\u001b[0m         \u001b[38;5;124m\"\u001b[39m\u001b[38;5;124mYou can try to debug the error by setting error_score=\u001b[39m\u001b[38;5;124m'\u001b[39m\u001b[38;5;124mraise\u001b[39m\u001b[38;5;124m'\u001b[39m\u001b[38;5;124m.\u001b[39m\u001b[38;5;130;01m\\n\u001b[39;00m\u001b[38;5;130;01m\\n\u001b[39;00m\u001b[38;5;124m\"\u001b[39m\n\u001b[1;32m    515\u001b[0m         \u001b[38;5;124mf\u001b[39m\u001b[38;5;124m\"\u001b[39m\u001b[38;5;124mBelow are more details about the failures:\u001b[39m\u001b[38;5;130;01m\\n\u001b[39;00m\u001b[38;5;132;01m{\u001b[39;00mfit_errors_summary\u001b[38;5;132;01m}\u001b[39;00m\u001b[38;5;124m\"\u001b[39m\n\u001b[1;32m    516\u001b[0m     )\n\u001b[0;32m--> 517\u001b[0m     \u001b[38;5;28;01mraise\u001b[39;00m \u001b[38;5;167;01mValueError\u001b[39;00m(all_fits_failed_message)\n\u001b[1;32m    519\u001b[0m \u001b[38;5;28;01melse\u001b[39;00m:\n\u001b[1;32m    520\u001b[0m     some_fits_failed_message \u001b[38;5;241m=\u001b[39m (\n\u001b[1;32m    521\u001b[0m         \u001b[38;5;124mf\u001b[39m\u001b[38;5;124m\"\u001b[39m\u001b[38;5;130;01m\\n\u001b[39;00m\u001b[38;5;132;01m{\u001b[39;00mnum_failed_fits\u001b[38;5;132;01m}\u001b[39;00m\u001b[38;5;124m fits failed out of a total of \u001b[39m\u001b[38;5;132;01m{\u001b[39;00mnum_fits\u001b[38;5;132;01m}\u001b[39;00m\u001b[38;5;124m.\u001b[39m\u001b[38;5;130;01m\\n\u001b[39;00m\u001b[38;5;124m\"\u001b[39m\n\u001b[1;32m    522\u001b[0m         \u001b[38;5;124m\"\u001b[39m\u001b[38;5;124mThe score on these train-test partitions for these parameters\u001b[39m\u001b[38;5;124m\"\u001b[39m\n\u001b[0;32m   (...)\u001b[0m\n\u001b[1;32m    526\u001b[0m         \u001b[38;5;124mf\u001b[39m\u001b[38;5;124m\"\u001b[39m\u001b[38;5;124mBelow are more details about the failures:\u001b[39m\u001b[38;5;130;01m\\n\u001b[39;00m\u001b[38;5;132;01m{\u001b[39;00mfit_errors_summary\u001b[38;5;132;01m}\u001b[39;00m\u001b[38;5;124m\"\u001b[39m\n\u001b[1;32m    527\u001b[0m     )\n",
      "\u001b[0;31mValueError\u001b[0m: \nAll the 3 fits failed.\nIt is very likely that your model is misconfigured.\nYou can try to debug the error by setting error_score='raise'.\n\nBelow are more details about the failures:\n--------------------------------------------------------------------------------\n3 fits failed with the following error:\nTraceback (most recent call last):\n  File \"/opt/miniconda3/envs/timeseries310/lib/python3.10/site-packages/sklearn/model_selection/_validation.py\", line 866, in _fit_and_score\n    estimator.fit(X_train, y_train, **fit_params)\n  File \"/opt/miniconda3/envs/timeseries310/lib/python3.10/site-packages/sklearn/base.py\", line 1389, in wrapper\n    return fit_method(estimator, *args, **kwargs)\n  File \"/opt/miniconda3/envs/timeseries310/lib/python3.10/site-packages/sklearn/pipeline.py\", line 654, in fit\n    Xt = self._fit(X, y, routed_params, raw_params=params)\n  File \"/opt/miniconda3/envs/timeseries310/lib/python3.10/site-packages/sklearn/pipeline.py\", line 588, in _fit\n    X, fitted_transformer = fit_transform_one_cached(\n  File \"/opt/miniconda3/envs/timeseries310/lib/python3.10/site-packages/joblib/memory.py\", line 312, in __call__\n    return self.func(*args, **kwargs)\n  File \"/opt/miniconda3/envs/timeseries310/lib/python3.10/site-packages/sklearn/pipeline.py\", line 1551, in _fit_transform_one\n    res = transformer.fit_transform(X, y, **params.get(\"fit_transform\", {}))\n  File \"/opt/miniconda3/envs/timeseries310/lib/python3.10/site-packages/sklearn/utils/_set_output.py\", line 319, in wrapped\n    data_to_wrap = f(self, X, *args, **kwargs)\n  File \"/opt/miniconda3/envs/timeseries310/lib/python3.10/site-packages/greykite/sklearn/transform/pandas_feature_union.py\", line 97, in fit_transform\n    results = self._parallel_func(X, y, fit_params, _fit_transform_one)\n  File \"/opt/miniconda3/envs/timeseries310/lib/python3.10/site-packages/sklearn/pipeline.py\", line 1996, in _parallel_func\n    return Parallel(n_jobs=self.n_jobs)(\n  File \"/opt/miniconda3/envs/timeseries310/lib/python3.10/site-packages/sklearn/utils/parallel.py\", line 77, in __call__\n    return super().__call__(iterable_with_config)\n  File \"/opt/miniconda3/envs/timeseries310/lib/python3.10/site-packages/joblib/parallel.py\", line 1918, in __call__\n    return output if self.return_generator else list(output)\n  File \"/opt/miniconda3/envs/timeseries310/lib/python3.10/site-packages/joblib/parallel.py\", line 1844, in _get_sequential_output\n    for func, args, kwargs in iterable:\n  File \"/opt/miniconda3/envs/timeseries310/lib/python3.10/site-packages/sklearn/utils/parallel.py\", line 73, in <genexpr>\n    iterable_with_config = (\n  File \"/opt/miniconda3/envs/timeseries310/lib/python3.10/site-packages/sklearn/pipeline.py\", line 2004, in <genexpr>\n    params=routed_params[name],\nTypeError: 'function' object is not subscriptable\n"
     ]
    }
   ],
   "source": [
    "from greykite.framework.templates.autogen.forecast_config import ForecastConfig\n",
    "\n",
    "config = ForecastConfig(\n",
    "    model_template=ModelTemplateEnum.SILVERKITE.name,\n",
    "    forecast_horizon=365,\n",
    "    coverage=0.95,\n",
    "    metadata_param=MetadataParam(time_col=\"ts\", value_col=\"y\", freq=\"D\"),\n",
    "    model_components_param=model_components,\n",
    ")\n",
    "result = forecaster.run_forecast_config(df=df, config=config)"
   ]
  },
  {
   "cell_type": "code",
   "execution_count": null,
   "metadata": {},
   "outputs": [
    {
     "name": "stdout",
     "output_type": "stream",
     "text": [
      "Fitting 3 folds for each of 1 candidates, totalling 3 fits\n"
     ]
    },
    {
     "ename": "ValueError",
     "evalue": "\nAll the 3 fits failed.\nIt is very likely that your model is misconfigured.\nYou can try to debug the error by setting error_score='raise'.\n\nBelow are more details about the failures:\n--------------------------------------------------------------------------------\n3 fits failed with the following error:\nTraceback (most recent call last):\n  File \"/opt/miniconda3/envs/timeseries310/lib/python3.10/site-packages/sklearn/model_selection/_validation.py\", line 866, in _fit_and_score\n    estimator.fit(X_train, y_train, **fit_params)\n  File \"/opt/miniconda3/envs/timeseries310/lib/python3.10/site-packages/sklearn/base.py\", line 1389, in wrapper\n    return fit_method(estimator, *args, **kwargs)\n  File \"/opt/miniconda3/envs/timeseries310/lib/python3.10/site-packages/sklearn/pipeline.py\", line 654, in fit\n    Xt = self._fit(X, y, routed_params, raw_params=params)\n  File \"/opt/miniconda3/envs/timeseries310/lib/python3.10/site-packages/sklearn/pipeline.py\", line 588, in _fit\n    X, fitted_transformer = fit_transform_one_cached(\n  File \"/opt/miniconda3/envs/timeseries310/lib/python3.10/site-packages/joblib/memory.py\", line 312, in __call__\n    return self.func(*args, **kwargs)\n  File \"/opt/miniconda3/envs/timeseries310/lib/python3.10/site-packages/sklearn/pipeline.py\", line 1551, in _fit_transform_one\n    res = transformer.fit_transform(X, y, **params.get(\"fit_transform\", {}))\n  File \"/opt/miniconda3/envs/timeseries310/lib/python3.10/site-packages/sklearn/utils/_set_output.py\", line 319, in wrapped\n    data_to_wrap = f(self, X, *args, **kwargs)\n  File \"/opt/miniconda3/envs/timeseries310/lib/python3.10/site-packages/greykite/sklearn/transform/pandas_feature_union.py\", line 97, in fit_transform\n    results = self._parallel_func(X, y, fit_params, _fit_transform_one)\n  File \"/opt/miniconda3/envs/timeseries310/lib/python3.10/site-packages/sklearn/pipeline.py\", line 1996, in _parallel_func\n    return Parallel(n_jobs=self.n_jobs)(\n  File \"/opt/miniconda3/envs/timeseries310/lib/python3.10/site-packages/sklearn/utils/parallel.py\", line 77, in __call__\n    return super().__call__(iterable_with_config)\n  File \"/opt/miniconda3/envs/timeseries310/lib/python3.10/site-packages/joblib/parallel.py\", line 1918, in __call__\n    return output if self.return_generator else list(output)\n  File \"/opt/miniconda3/envs/timeseries310/lib/python3.10/site-packages/joblib/parallel.py\", line 1844, in _get_sequential_output\n    for func, args, kwargs in iterable:\n  File \"/opt/miniconda3/envs/timeseries310/lib/python3.10/site-packages/sklearn/utils/parallel.py\", line 73, in <genexpr>\n    iterable_with_config = (\n  File \"/opt/miniconda3/envs/timeseries310/lib/python3.10/site-packages/sklearn/pipeline.py\", line 2004, in <genexpr>\n    params=routed_params[name],\nTypeError: 'function' object is not subscriptable\n",
     "output_type": "error",
     "traceback": [
      "\u001b[0;31m---------------------------------------------------------------------------\u001b[0m",
      "\u001b[0;31mValueError\u001b[0m                                Traceback (most recent call last)",
      "Cell \u001b[0;32mIn[10], line 1\u001b[0m\n\u001b[0;32m----> 1\u001b[0m result \u001b[38;5;241m=\u001b[39m \u001b[43mforecaster\u001b[49m\u001b[38;5;241;43m.\u001b[39;49m\u001b[43mrun_forecast_config\u001b[49m\u001b[43m(\u001b[49m\u001b[43m  \u001b[49m\u001b[38;5;66;43;03m# result is also stored as `forecaster.forecast_result`.\u001b[39;49;00m\n\u001b[1;32m      2\u001b[0m \u001b[43m    \u001b[49m\u001b[43mdf\u001b[49m\u001b[38;5;241;43m=\u001b[39;49m\u001b[43mdf\u001b[49m\u001b[43m,\u001b[49m\n\u001b[1;32m      3\u001b[0m \u001b[43m    \u001b[49m\u001b[43mconfig\u001b[49m\u001b[38;5;241;43m=\u001b[39;49m\u001b[43mForecastConfig\u001b[49m\u001b[43m(\u001b[49m\n\u001b[1;32m      4\u001b[0m \u001b[43m        \u001b[49m\u001b[43mmodel_template\u001b[49m\u001b[38;5;241;43m=\u001b[39;49m\u001b[43mModelTemplateEnum\u001b[49m\u001b[38;5;241;43m.\u001b[39;49m\u001b[43mSILVERKITE\u001b[49m\u001b[38;5;241;43m.\u001b[39;49m\u001b[43mname\u001b[49m\u001b[43m,\u001b[49m\n\u001b[1;32m      5\u001b[0m \u001b[43m        \u001b[49m\u001b[43mforecast_horizon\u001b[49m\u001b[38;5;241;43m=\u001b[39;49m\u001b[38;5;241;43m365\u001b[39;49m\u001b[43m,\u001b[49m\u001b[43m  \u001b[49m\u001b[38;5;66;43;03m# forecasts 365 steps ahead\u001b[39;49;00m\n\u001b[1;32m      6\u001b[0m \u001b[43m        \u001b[49m\u001b[43mcoverage\u001b[49m\u001b[38;5;241;43m=\u001b[39;49m\u001b[38;5;241;43m0.95\u001b[39;49m\u001b[43m,\u001b[49m\u001b[43m  \u001b[49m\u001b[38;5;66;43;03m# 95% prediction intervals\u001b[39;49;00m\n\u001b[1;32m      7\u001b[0m \u001b[43m        \u001b[49m\u001b[43mmetadata_param\u001b[49m\u001b[38;5;241;43m=\u001b[39;49m\u001b[43mmetadata\u001b[49m\u001b[43m,\u001b[49m\n\u001b[1;32m      8\u001b[0m \u001b[43m    \u001b[49m\u001b[43m)\u001b[49m\u001b[43m,\u001b[49m\n\u001b[1;32m      9\u001b[0m \u001b[43m)\u001b[49m\n",
      "File \u001b[0;32m/opt/miniconda3/envs/timeseries310/lib/python3.10/site-packages/greykite/framework/templates/forecaster.py:378\u001b[0m, in \u001b[0;36mForecaster.run_forecast_config\u001b[0;34m(self, df, config)\u001b[0m\n\u001b[1;32m    353\u001b[0m \u001b[38;5;250m\u001b[39m\u001b[38;5;124;03m\"\"\"Creates a forecast from input data and config.\u001b[39;00m\n\u001b[1;32m    354\u001b[0m \u001b[38;5;124;03mThe result is also stored as ``self.forecast_result``.\u001b[39;00m\n\u001b[1;32m    355\u001b[0m \n\u001b[0;32m   (...)\u001b[0m\n\u001b[1;32m    373\u001b[0m \u001b[38;5;124;03m    according to the ``df`` and ``config`` configuration parameters.\u001b[39;00m\n\u001b[1;32m    374\u001b[0m \u001b[38;5;124;03m\"\"\"\u001b[39;00m\n\u001b[1;32m    375\u001b[0m pipeline_parameters \u001b[38;5;241m=\u001b[39m \u001b[38;5;28mself\u001b[39m\u001b[38;5;241m.\u001b[39mapply_forecast_config(\n\u001b[1;32m    376\u001b[0m     df\u001b[38;5;241m=\u001b[39mdf,\n\u001b[1;32m    377\u001b[0m     config\u001b[38;5;241m=\u001b[39mconfig)\n\u001b[0;32m--> 378\u001b[0m \u001b[38;5;28mself\u001b[39m\u001b[38;5;241m.\u001b[39mforecast_result \u001b[38;5;241m=\u001b[39m \u001b[43mforecast_pipeline\u001b[49m\u001b[43m(\u001b[49m\u001b[38;5;241;43m*\u001b[39;49m\u001b[38;5;241;43m*\u001b[39;49m\u001b[43mpipeline_parameters\u001b[49m\u001b[43m)\u001b[49m\n\u001b[1;32m    379\u001b[0m \u001b[38;5;28;01mreturn\u001b[39;00m \u001b[38;5;28mself\u001b[39m\u001b[38;5;241m.\u001b[39mforecast_result\n",
      "File \u001b[0;32m/opt/miniconda3/envs/timeseries310/lib/python3.10/site-packages/greykite/framework/pipeline/pipeline.py:209\u001b[0m, in \u001b[0;36mvalidate_pipeline_input.<locals>.pipeline_wrapper\u001b[0;34m(df, time_col, value_col, date_format, tz, freq, train_end_date, anomaly_info, pipeline, regressor_cols, lagged_regressor_cols, estimator, hyperparameter_grid, hyperparameter_budget, n_jobs, verbose, forecast_horizon, coverage, test_horizon, periods_between_train_test, agg_periods, agg_func, score_func, score_func_greater_is_better, cv_report_metrics, null_model_params, relative_error_tolerance, cv_horizon, cv_min_train_periods, cv_expanding_window, cv_use_most_recent_splits, cv_periods_between_splits, cv_periods_between_train_test, cv_max_splits)\u001b[0m\n\u001b[1;32m    206\u001b[0m log_message(\u001b[38;5;124mf\u001b[39m\u001b[38;5;124m\"\u001b[39m\u001b[38;5;124mtest_horizon: \u001b[39m\u001b[38;5;132;01m{\u001b[39;00mtest_horizon\u001b[38;5;132;01m}\u001b[39;00m\u001b[38;5;124m\"\u001b[39m, LoggingLevelEnum\u001b[38;5;241m.\u001b[39mINFO)\n\u001b[1;32m    207\u001b[0m log_message(\u001b[38;5;124mf\u001b[39m\u001b[38;5;124m\"\u001b[39m\u001b[38;5;124mcv_horizon: \u001b[39m\u001b[38;5;132;01m{\u001b[39;00mcv_horizon\u001b[38;5;132;01m}\u001b[39;00m\u001b[38;5;124m\"\u001b[39m, LoggingLevelEnum\u001b[38;5;241m.\u001b[39mINFO)\n\u001b[0;32m--> 209\u001b[0m \u001b[38;5;28;01mreturn\u001b[39;00m \u001b[43mpipeline_function\u001b[49m\u001b[43m(\u001b[49m\n\u001b[1;32m    210\u001b[0m \u001b[43m    \u001b[49m\u001b[43mdf\u001b[49m\u001b[43m,\u001b[49m\n\u001b[1;32m    211\u001b[0m \u001b[43m    \u001b[49m\u001b[43mtime_col\u001b[49m\u001b[38;5;241;43m=\u001b[39;49m\u001b[43mtime_col\u001b[49m\u001b[43m,\u001b[49m\n\u001b[1;32m    212\u001b[0m \u001b[43m    \u001b[49m\u001b[43mvalue_col\u001b[49m\u001b[38;5;241;43m=\u001b[39;49m\u001b[43mvalue_col\u001b[49m\u001b[43m,\u001b[49m\n\u001b[1;32m    213\u001b[0m \u001b[43m    \u001b[49m\u001b[43mdate_format\u001b[49m\u001b[38;5;241;43m=\u001b[39;49m\u001b[43mdate_format\u001b[49m\u001b[43m,\u001b[49m\n\u001b[1;32m    214\u001b[0m \u001b[43m    \u001b[49m\u001b[43mtz\u001b[49m\u001b[38;5;241;43m=\u001b[39;49m\u001b[43mtz\u001b[49m\u001b[43m,\u001b[49m\n\u001b[1;32m    215\u001b[0m \u001b[43m    \u001b[49m\u001b[43mfreq\u001b[49m\u001b[38;5;241;43m=\u001b[39;49m\u001b[43mfreq\u001b[49m\u001b[43m,\u001b[49m\n\u001b[1;32m    216\u001b[0m \u001b[43m    \u001b[49m\u001b[43mtrain_end_date\u001b[49m\u001b[38;5;241;43m=\u001b[39;49m\u001b[43mtrain_end_date\u001b[49m\u001b[43m,\u001b[49m\n\u001b[1;32m    217\u001b[0m \u001b[43m    \u001b[49m\u001b[43manomaly_info\u001b[49m\u001b[38;5;241;43m=\u001b[39;49m\u001b[43manomaly_info\u001b[49m\u001b[43m,\u001b[49m\n\u001b[1;32m    218\u001b[0m \u001b[43m    \u001b[49m\u001b[43mpipeline\u001b[49m\u001b[38;5;241;43m=\u001b[39;49m\u001b[43mpipeline\u001b[49m\u001b[43m,\u001b[49m\n\u001b[1;32m    219\u001b[0m \u001b[43m    \u001b[49m\u001b[43mregressor_cols\u001b[49m\u001b[38;5;241;43m=\u001b[39;49m\u001b[43mregressor_cols\u001b[49m\u001b[43m,\u001b[49m\n\u001b[1;32m    220\u001b[0m \u001b[43m    \u001b[49m\u001b[43mlagged_regressor_cols\u001b[49m\u001b[38;5;241;43m=\u001b[39;49m\u001b[43mlagged_regressor_cols\u001b[49m\u001b[43m,\u001b[49m\n\u001b[1;32m    221\u001b[0m \u001b[43m    \u001b[49m\u001b[43mestimator\u001b[49m\u001b[38;5;241;43m=\u001b[39;49m\u001b[43mestimator\u001b[49m\u001b[43m,\u001b[49m\n\u001b[1;32m    222\u001b[0m \u001b[43m    \u001b[49m\u001b[43mhyperparameter_grid\u001b[49m\u001b[38;5;241;43m=\u001b[39;49m\u001b[43mhyperparameter_grid\u001b[49m\u001b[43m,\u001b[49m\n\u001b[1;32m    223\u001b[0m \u001b[43m    \u001b[49m\u001b[43mhyperparameter_budget\u001b[49m\u001b[38;5;241;43m=\u001b[39;49m\u001b[43mhyperparameter_budget\u001b[49m\u001b[43m,\u001b[49m\n\u001b[1;32m    224\u001b[0m \u001b[43m    \u001b[49m\u001b[43mn_jobs\u001b[49m\u001b[38;5;241;43m=\u001b[39;49m\u001b[43mn_jobs\u001b[49m\u001b[43m,\u001b[49m\n\u001b[1;32m    225\u001b[0m \u001b[43m    \u001b[49m\u001b[43mverbose\u001b[49m\u001b[38;5;241;43m=\u001b[39;49m\u001b[43mverbose\u001b[49m\u001b[43m,\u001b[49m\n\u001b[1;32m    226\u001b[0m \u001b[43m    \u001b[49m\u001b[43mforecast_horizon\u001b[49m\u001b[38;5;241;43m=\u001b[39;49m\u001b[43mforecast_horizon\u001b[49m\u001b[43m,\u001b[49m\n\u001b[1;32m    227\u001b[0m \u001b[43m    \u001b[49m\u001b[43mcoverage\u001b[49m\u001b[38;5;241;43m=\u001b[39;49m\u001b[43mcoverage\u001b[49m\u001b[43m,\u001b[49m\n\u001b[1;32m    228\u001b[0m \u001b[43m    \u001b[49m\u001b[43mtest_horizon\u001b[49m\u001b[38;5;241;43m=\u001b[39;49m\u001b[43mtest_horizon\u001b[49m\u001b[43m,\u001b[49m\n\u001b[1;32m    229\u001b[0m \u001b[43m    \u001b[49m\u001b[43mperiods_between_train_test\u001b[49m\u001b[38;5;241;43m=\u001b[39;49m\u001b[43mperiods_between_train_test\u001b[49m\u001b[43m,\u001b[49m\n\u001b[1;32m    230\u001b[0m \u001b[43m    \u001b[49m\u001b[43magg_periods\u001b[49m\u001b[38;5;241;43m=\u001b[39;49m\u001b[43magg_periods\u001b[49m\u001b[43m,\u001b[49m\n\u001b[1;32m    231\u001b[0m \u001b[43m    \u001b[49m\u001b[43magg_func\u001b[49m\u001b[38;5;241;43m=\u001b[39;49m\u001b[43magg_func\u001b[49m\u001b[43m,\u001b[49m\n\u001b[1;32m    232\u001b[0m \u001b[43m    \u001b[49m\u001b[43mscore_func\u001b[49m\u001b[38;5;241;43m=\u001b[39;49m\u001b[43mscore_func\u001b[49m\u001b[43m,\u001b[49m\n\u001b[1;32m    233\u001b[0m \u001b[43m    \u001b[49m\u001b[43mscore_func_greater_is_better\u001b[49m\u001b[38;5;241;43m=\u001b[39;49m\u001b[43mscore_func_greater_is_better\u001b[49m\u001b[43m,\u001b[49m\n\u001b[1;32m    234\u001b[0m \u001b[43m    \u001b[49m\u001b[43mcv_report_metrics\u001b[49m\u001b[38;5;241;43m=\u001b[39;49m\u001b[43mcv_report_metrics\u001b[49m\u001b[43m,\u001b[49m\n\u001b[1;32m    235\u001b[0m \u001b[43m    \u001b[49m\u001b[43mnull_model_params\u001b[49m\u001b[38;5;241;43m=\u001b[39;49m\u001b[43mnull_model_params\u001b[49m\u001b[43m,\u001b[49m\n\u001b[1;32m    236\u001b[0m \u001b[43m    \u001b[49m\u001b[43mrelative_error_tolerance\u001b[49m\u001b[38;5;241;43m=\u001b[39;49m\u001b[43mrelative_error_tolerance\u001b[49m\u001b[43m,\u001b[49m\n\u001b[1;32m    237\u001b[0m \u001b[43m    \u001b[49m\u001b[43mcv_horizon\u001b[49m\u001b[38;5;241;43m=\u001b[39;49m\u001b[43mcv_horizon\u001b[49m\u001b[43m,\u001b[49m\n\u001b[1;32m    238\u001b[0m \u001b[43m    \u001b[49m\u001b[43mcv_min_train_periods\u001b[49m\u001b[38;5;241;43m=\u001b[39;49m\u001b[43mcv_min_train_periods\u001b[49m\u001b[43m,\u001b[49m\n\u001b[1;32m    239\u001b[0m \u001b[43m    \u001b[49m\u001b[43mcv_expanding_window\u001b[49m\u001b[38;5;241;43m=\u001b[39;49m\u001b[43mcv_expanding_window\u001b[49m\u001b[43m,\u001b[49m\n\u001b[1;32m    240\u001b[0m \u001b[43m    \u001b[49m\u001b[43mcv_use_most_recent_splits\u001b[49m\u001b[38;5;241;43m=\u001b[39;49m\u001b[43mcv_use_most_recent_splits\u001b[49m\u001b[43m,\u001b[49m\n\u001b[1;32m    241\u001b[0m \u001b[43m    \u001b[49m\u001b[43mcv_periods_between_splits\u001b[49m\u001b[38;5;241;43m=\u001b[39;49m\u001b[43mcv_periods_between_splits\u001b[49m\u001b[43m,\u001b[49m\n\u001b[1;32m    242\u001b[0m \u001b[43m    \u001b[49m\u001b[43mcv_periods_between_train_test\u001b[49m\u001b[38;5;241;43m=\u001b[39;49m\u001b[43mcv_periods_between_train_test\u001b[49m\u001b[43m,\u001b[49m\n\u001b[1;32m    243\u001b[0m \u001b[43m    \u001b[49m\u001b[43mcv_max_splits\u001b[49m\u001b[38;5;241;43m=\u001b[39;49m\u001b[43mcv_max_splits\u001b[49m\n\u001b[1;32m    244\u001b[0m \u001b[43m\u001b[49m\u001b[43m)\u001b[49m\n",
      "File \u001b[0;32m/opt/miniconda3/envs/timeseries310/lib/python3.10/site-packages/greykite/framework/pipeline/pipeline.py:710\u001b[0m, in \u001b[0;36mforecast_pipeline\u001b[0;34m(df, time_col, value_col, date_format, tz, freq, train_end_date, anomaly_info, pipeline, regressor_cols, lagged_regressor_cols, estimator, hyperparameter_grid, hyperparameter_budget, n_jobs, verbose, forecast_horizon, coverage, test_horizon, periods_between_train_test, agg_periods, agg_func, score_func, score_func_greater_is_better, cv_report_metrics, null_model_params, relative_error_tolerance, cv_horizon, cv_min_train_periods, cv_expanding_window, cv_use_most_recent_splits, cv_periods_between_splits, cv_periods_between_train_test, cv_max_splits)\u001b[0m\n\u001b[1;32m    696\u001b[0m     \u001b[38;5;66;03m# Defines grid search approach for CV\u001b[39;00m\n\u001b[1;32m    697\u001b[0m     grid_search \u001b[38;5;241m=\u001b[39m get_hyperparameter_searcher(\n\u001b[1;32m    698\u001b[0m         hyperparameter_grid\u001b[38;5;241m=\u001b[39mhyperparameter_grid,\n\u001b[1;32m    699\u001b[0m         model\u001b[38;5;241m=\u001b[39mpipeline,\n\u001b[0;32m   (...)\u001b[0m\n\u001b[1;32m    708\u001b[0m         agg_func\u001b[38;5;241m=\u001b[39magg_func,\n\u001b[1;32m    709\u001b[0m         relative_error_tolerance\u001b[38;5;241m=\u001b[39mrelative_error_tolerance)\n\u001b[0;32m--> 710\u001b[0m     \u001b[43mgrid_search\u001b[49m\u001b[38;5;241;43m.\u001b[39;49m\u001b[43mfit\u001b[49m\u001b[43m(\u001b[49m\u001b[43mtrain_df\u001b[49m\u001b[43m,\u001b[49m\u001b[43m \u001b[49m\u001b[43mtrain_y\u001b[49m\u001b[43m)\u001b[49m\n\u001b[1;32m    711\u001b[0m     best_estimator \u001b[38;5;241m=\u001b[39m grid_search\u001b[38;5;241m.\u001b[39mbest_estimator_\n\u001b[1;32m    713\u001b[0m \u001b[38;5;66;03m# Evaluates historical performance, fits model to all data (train+test)\u001b[39;00m\n",
      "File \u001b[0;32m/opt/miniconda3/envs/timeseries310/lib/python3.10/site-packages/sklearn/base.py:1389\u001b[0m, in \u001b[0;36m_fit_context.<locals>.decorator.<locals>.wrapper\u001b[0;34m(estimator, *args, **kwargs)\u001b[0m\n\u001b[1;32m   1382\u001b[0m     estimator\u001b[38;5;241m.\u001b[39m_validate_params()\n\u001b[1;32m   1384\u001b[0m \u001b[38;5;28;01mwith\u001b[39;00m config_context(\n\u001b[1;32m   1385\u001b[0m     skip_parameter_validation\u001b[38;5;241m=\u001b[39m(\n\u001b[1;32m   1386\u001b[0m         prefer_skip_nested_validation \u001b[38;5;129;01mor\u001b[39;00m global_skip_validation\n\u001b[1;32m   1387\u001b[0m     )\n\u001b[1;32m   1388\u001b[0m ):\n\u001b[0;32m-> 1389\u001b[0m     \u001b[38;5;28;01mreturn\u001b[39;00m \u001b[43mfit_method\u001b[49m\u001b[43m(\u001b[49m\u001b[43mestimator\u001b[49m\u001b[43m,\u001b[49m\u001b[43m \u001b[49m\u001b[38;5;241;43m*\u001b[39;49m\u001b[43margs\u001b[49m\u001b[43m,\u001b[49m\u001b[43m \u001b[49m\u001b[38;5;241;43m*\u001b[39;49m\u001b[38;5;241;43m*\u001b[39;49m\u001b[43mkwargs\u001b[49m\u001b[43m)\u001b[49m\n",
      "File \u001b[0;32m/opt/miniconda3/envs/timeseries310/lib/python3.10/site-packages/sklearn/model_selection/_search.py:1024\u001b[0m, in \u001b[0;36mBaseSearchCV.fit\u001b[0;34m(self, X, y, **params)\u001b[0m\n\u001b[1;32m   1018\u001b[0m     results \u001b[38;5;241m=\u001b[39m \u001b[38;5;28mself\u001b[39m\u001b[38;5;241m.\u001b[39m_format_results(\n\u001b[1;32m   1019\u001b[0m         all_candidate_params, n_splits, all_out, all_more_results\n\u001b[1;32m   1020\u001b[0m     )\n\u001b[1;32m   1022\u001b[0m     \u001b[38;5;28;01mreturn\u001b[39;00m results\n\u001b[0;32m-> 1024\u001b[0m \u001b[38;5;28;43mself\u001b[39;49m\u001b[38;5;241;43m.\u001b[39;49m\u001b[43m_run_search\u001b[49m\u001b[43m(\u001b[49m\u001b[43mevaluate_candidates\u001b[49m\u001b[43m)\u001b[49m\n\u001b[1;32m   1026\u001b[0m \u001b[38;5;66;03m# multimetric is determined here because in the case of a callable\u001b[39;00m\n\u001b[1;32m   1027\u001b[0m \u001b[38;5;66;03m# self.scoring the return type is only known after calling\u001b[39;00m\n\u001b[1;32m   1028\u001b[0m first_test_score \u001b[38;5;241m=\u001b[39m all_out[\u001b[38;5;241m0\u001b[39m][\u001b[38;5;124m\"\u001b[39m\u001b[38;5;124mtest_scores\u001b[39m\u001b[38;5;124m\"\u001b[39m]\n",
      "File \u001b[0;32m/opt/miniconda3/envs/timeseries310/lib/python3.10/site-packages/sklearn/model_selection/_search.py:1951\u001b[0m, in \u001b[0;36mRandomizedSearchCV._run_search\u001b[0;34m(self, evaluate_candidates)\u001b[0m\n\u001b[1;32m   1949\u001b[0m \u001b[38;5;28;01mdef\u001b[39;00m\u001b[38;5;250m \u001b[39m\u001b[38;5;21m_run_search\u001b[39m(\u001b[38;5;28mself\u001b[39m, evaluate_candidates):\n\u001b[1;32m   1950\u001b[0m \u001b[38;5;250m    \u001b[39m\u001b[38;5;124;03m\"\"\"Search n_iter candidates from param_distributions\"\"\"\u001b[39;00m\n\u001b[0;32m-> 1951\u001b[0m     \u001b[43mevaluate_candidates\u001b[49m\u001b[43m(\u001b[49m\n\u001b[1;32m   1952\u001b[0m \u001b[43m        \u001b[49m\u001b[43mParameterSampler\u001b[49m\u001b[43m(\u001b[49m\n\u001b[1;32m   1953\u001b[0m \u001b[43m            \u001b[49m\u001b[38;5;28;43mself\u001b[39;49m\u001b[38;5;241;43m.\u001b[39;49m\u001b[43mparam_distributions\u001b[49m\u001b[43m,\u001b[49m\u001b[43m \u001b[49m\u001b[38;5;28;43mself\u001b[39;49m\u001b[38;5;241;43m.\u001b[39;49m\u001b[43mn_iter\u001b[49m\u001b[43m,\u001b[49m\u001b[43m \u001b[49m\u001b[43mrandom_state\u001b[49m\u001b[38;5;241;43m=\u001b[39;49m\u001b[38;5;28;43mself\u001b[39;49m\u001b[38;5;241;43m.\u001b[39;49m\u001b[43mrandom_state\u001b[49m\n\u001b[1;32m   1954\u001b[0m \u001b[43m        \u001b[49m\u001b[43m)\u001b[49m\n\u001b[1;32m   1955\u001b[0m \u001b[43m    \u001b[49m\u001b[43m)\u001b[49m\n",
      "File \u001b[0;32m/opt/miniconda3/envs/timeseries310/lib/python3.10/site-packages/sklearn/model_selection/_search.py:1001\u001b[0m, in \u001b[0;36mBaseSearchCV.fit.<locals>.evaluate_candidates\u001b[0;34m(candidate_params, cv, more_results)\u001b[0m\n\u001b[1;32m    994\u001b[0m \u001b[38;5;28;01melif\u001b[39;00m \u001b[38;5;28mlen\u001b[39m(out) \u001b[38;5;241m!=\u001b[39m n_candidates \u001b[38;5;241m*\u001b[39m n_splits:\n\u001b[1;32m    995\u001b[0m     \u001b[38;5;28;01mraise\u001b[39;00m \u001b[38;5;167;01mValueError\u001b[39;00m(\n\u001b[1;32m    996\u001b[0m         \u001b[38;5;124m\"\u001b[39m\u001b[38;5;124mcv.split and cv.get_n_splits returned \u001b[39m\u001b[38;5;124m\"\u001b[39m\n\u001b[1;32m    997\u001b[0m         \u001b[38;5;124m\"\u001b[39m\u001b[38;5;124minconsistent results. Expected \u001b[39m\u001b[38;5;132;01m{}\u001b[39;00m\u001b[38;5;124m \u001b[39m\u001b[38;5;124m\"\u001b[39m\n\u001b[1;32m    998\u001b[0m         \u001b[38;5;124m\"\u001b[39m\u001b[38;5;124msplits, got \u001b[39m\u001b[38;5;132;01m{}\u001b[39;00m\u001b[38;5;124m\"\u001b[39m\u001b[38;5;241m.\u001b[39mformat(n_splits, \u001b[38;5;28mlen\u001b[39m(out) \u001b[38;5;241m/\u001b[39m\u001b[38;5;241m/\u001b[39m n_candidates)\n\u001b[1;32m    999\u001b[0m     )\n\u001b[0;32m-> 1001\u001b[0m \u001b[43m_warn_or_raise_about_fit_failures\u001b[49m\u001b[43m(\u001b[49m\u001b[43mout\u001b[49m\u001b[43m,\u001b[49m\u001b[43m \u001b[49m\u001b[38;5;28;43mself\u001b[39;49m\u001b[38;5;241;43m.\u001b[39;49m\u001b[43merror_score\u001b[49m\u001b[43m)\u001b[49m\n\u001b[1;32m   1003\u001b[0m \u001b[38;5;66;03m# For callable self.scoring, the return type is only know after\u001b[39;00m\n\u001b[1;32m   1004\u001b[0m \u001b[38;5;66;03m# calling. If the return type is a dictionary, the error scores\u001b[39;00m\n\u001b[1;32m   1005\u001b[0m \u001b[38;5;66;03m# can now be inserted with the correct key. The type checking\u001b[39;00m\n\u001b[1;32m   1006\u001b[0m \u001b[38;5;66;03m# of out will be done in `_insert_error_scores`.\u001b[39;00m\n\u001b[1;32m   1007\u001b[0m \u001b[38;5;28;01mif\u001b[39;00m \u001b[38;5;28mcallable\u001b[39m(\u001b[38;5;28mself\u001b[39m\u001b[38;5;241m.\u001b[39mscoring):\n",
      "File \u001b[0;32m/opt/miniconda3/envs/timeseries310/lib/python3.10/site-packages/sklearn/model_selection/_validation.py:517\u001b[0m, in \u001b[0;36m_warn_or_raise_about_fit_failures\u001b[0;34m(results, error_score)\u001b[0m\n\u001b[1;32m    510\u001b[0m \u001b[38;5;28;01mif\u001b[39;00m num_failed_fits \u001b[38;5;241m==\u001b[39m num_fits:\n\u001b[1;32m    511\u001b[0m     all_fits_failed_message \u001b[38;5;241m=\u001b[39m (\n\u001b[1;32m    512\u001b[0m         \u001b[38;5;124mf\u001b[39m\u001b[38;5;124m\"\u001b[39m\u001b[38;5;130;01m\\n\u001b[39;00m\u001b[38;5;124mAll the \u001b[39m\u001b[38;5;132;01m{\u001b[39;00mnum_fits\u001b[38;5;132;01m}\u001b[39;00m\u001b[38;5;124m fits failed.\u001b[39m\u001b[38;5;130;01m\\n\u001b[39;00m\u001b[38;5;124m\"\u001b[39m\n\u001b[1;32m    513\u001b[0m         \u001b[38;5;124m\"\u001b[39m\u001b[38;5;124mIt is very likely that your model is misconfigured.\u001b[39m\u001b[38;5;130;01m\\n\u001b[39;00m\u001b[38;5;124m\"\u001b[39m\n\u001b[1;32m    514\u001b[0m         \u001b[38;5;124m\"\u001b[39m\u001b[38;5;124mYou can try to debug the error by setting error_score=\u001b[39m\u001b[38;5;124m'\u001b[39m\u001b[38;5;124mraise\u001b[39m\u001b[38;5;124m'\u001b[39m\u001b[38;5;124m.\u001b[39m\u001b[38;5;130;01m\\n\u001b[39;00m\u001b[38;5;130;01m\\n\u001b[39;00m\u001b[38;5;124m\"\u001b[39m\n\u001b[1;32m    515\u001b[0m         \u001b[38;5;124mf\u001b[39m\u001b[38;5;124m\"\u001b[39m\u001b[38;5;124mBelow are more details about the failures:\u001b[39m\u001b[38;5;130;01m\\n\u001b[39;00m\u001b[38;5;132;01m{\u001b[39;00mfit_errors_summary\u001b[38;5;132;01m}\u001b[39;00m\u001b[38;5;124m\"\u001b[39m\n\u001b[1;32m    516\u001b[0m     )\n\u001b[0;32m--> 517\u001b[0m     \u001b[38;5;28;01mraise\u001b[39;00m \u001b[38;5;167;01mValueError\u001b[39;00m(all_fits_failed_message)\n\u001b[1;32m    519\u001b[0m \u001b[38;5;28;01melse\u001b[39;00m:\n\u001b[1;32m    520\u001b[0m     some_fits_failed_message \u001b[38;5;241m=\u001b[39m (\n\u001b[1;32m    521\u001b[0m         \u001b[38;5;124mf\u001b[39m\u001b[38;5;124m\"\u001b[39m\u001b[38;5;130;01m\\n\u001b[39;00m\u001b[38;5;132;01m{\u001b[39;00mnum_failed_fits\u001b[38;5;132;01m}\u001b[39;00m\u001b[38;5;124m fits failed out of a total of \u001b[39m\u001b[38;5;132;01m{\u001b[39;00mnum_fits\u001b[38;5;132;01m}\u001b[39;00m\u001b[38;5;124m.\u001b[39m\u001b[38;5;130;01m\\n\u001b[39;00m\u001b[38;5;124m\"\u001b[39m\n\u001b[1;32m    522\u001b[0m         \u001b[38;5;124m\"\u001b[39m\u001b[38;5;124mThe score on these train-test partitions for these parameters\u001b[39m\u001b[38;5;124m\"\u001b[39m\n\u001b[0;32m   (...)\u001b[0m\n\u001b[1;32m    526\u001b[0m         \u001b[38;5;124mf\u001b[39m\u001b[38;5;124m\"\u001b[39m\u001b[38;5;124mBelow are more details about the failures:\u001b[39m\u001b[38;5;130;01m\\n\u001b[39;00m\u001b[38;5;132;01m{\u001b[39;00mfit_errors_summary\u001b[38;5;132;01m}\u001b[39;00m\u001b[38;5;124m\"\u001b[39m\n\u001b[1;32m    527\u001b[0m     )\n",
      "\u001b[0;31mValueError\u001b[0m: \nAll the 3 fits failed.\nIt is very likely that your model is misconfigured.\nYou can try to debug the error by setting error_score='raise'.\n\nBelow are more details about the failures:\n--------------------------------------------------------------------------------\n3 fits failed with the following error:\nTraceback (most recent call last):\n  File \"/opt/miniconda3/envs/timeseries310/lib/python3.10/site-packages/sklearn/model_selection/_validation.py\", line 866, in _fit_and_score\n    estimator.fit(X_train, y_train, **fit_params)\n  File \"/opt/miniconda3/envs/timeseries310/lib/python3.10/site-packages/sklearn/base.py\", line 1389, in wrapper\n    return fit_method(estimator, *args, **kwargs)\n  File \"/opt/miniconda3/envs/timeseries310/lib/python3.10/site-packages/sklearn/pipeline.py\", line 654, in fit\n    Xt = self._fit(X, y, routed_params, raw_params=params)\n  File \"/opt/miniconda3/envs/timeseries310/lib/python3.10/site-packages/sklearn/pipeline.py\", line 588, in _fit\n    X, fitted_transformer = fit_transform_one_cached(\n  File \"/opt/miniconda3/envs/timeseries310/lib/python3.10/site-packages/joblib/memory.py\", line 312, in __call__\n    return self.func(*args, **kwargs)\n  File \"/opt/miniconda3/envs/timeseries310/lib/python3.10/site-packages/sklearn/pipeline.py\", line 1551, in _fit_transform_one\n    res = transformer.fit_transform(X, y, **params.get(\"fit_transform\", {}))\n  File \"/opt/miniconda3/envs/timeseries310/lib/python3.10/site-packages/sklearn/utils/_set_output.py\", line 319, in wrapped\n    data_to_wrap = f(self, X, *args, **kwargs)\n  File \"/opt/miniconda3/envs/timeseries310/lib/python3.10/site-packages/greykite/sklearn/transform/pandas_feature_union.py\", line 97, in fit_transform\n    results = self._parallel_func(X, y, fit_params, _fit_transform_one)\n  File \"/opt/miniconda3/envs/timeseries310/lib/python3.10/site-packages/sklearn/pipeline.py\", line 1996, in _parallel_func\n    return Parallel(n_jobs=self.n_jobs)(\n  File \"/opt/miniconda3/envs/timeseries310/lib/python3.10/site-packages/sklearn/utils/parallel.py\", line 77, in __call__\n    return super().__call__(iterable_with_config)\n  File \"/opt/miniconda3/envs/timeseries310/lib/python3.10/site-packages/joblib/parallel.py\", line 1918, in __call__\n    return output if self.return_generator else list(output)\n  File \"/opt/miniconda3/envs/timeseries310/lib/python3.10/site-packages/joblib/parallel.py\", line 1844, in _get_sequential_output\n    for func, args, kwargs in iterable:\n  File \"/opt/miniconda3/envs/timeseries310/lib/python3.10/site-packages/sklearn/utils/parallel.py\", line 73, in <genexpr>\n    iterable_with_config = (\n  File \"/opt/miniconda3/envs/timeseries310/lib/python3.10/site-packages/sklearn/pipeline.py\", line 2004, in <genexpr>\n    params=routed_params[name],\nTypeError: 'function' object is not subscriptable\n"
     ]
    }
   ],
   "source": []
  },
  {
   "cell_type": "code",
   "execution_count": null,
   "metadata": {},
   "outputs": [],
   "source": []
  }
 ],
 "metadata": {
  "kernelspec": {
   "display_name": "timeseries310",
   "language": "python",
   "name": "python3"
  },
  "language_info": {
   "codemirror_mode": {
    "name": "ipython",
    "version": 3
   },
   "file_extension": ".py",
   "mimetype": "text/x-python",
   "name": "python",
   "nbconvert_exporter": "python",
   "pygments_lexer": "ipython3",
   "version": "3.10.16"
  }
 },
 "nbformat": 4,
 "nbformat_minor": 2
}
