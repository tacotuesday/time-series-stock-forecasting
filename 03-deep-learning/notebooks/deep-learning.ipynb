{
 "cells": [
  {
   "cell_type": "markdown",
   "metadata": {},
   "source": [
    "# Deep Learning"
   ]
  },
  {
   "cell_type": "code",
   "execution_count": 2,
   "metadata": {},
   "outputs": [],
   "source": [
    "import matplotlib.pyplot as plt\n",
    "import pandas as pd\n",
    "import numpy as np\n",
    "import optuna\n",
    "import plotly\n",
    "import tensorflow as tf\n",
    "import random\n",
    "import warnings\n",
    "from sklearn.preprocessing import MinMaxScaler\n",
    "from sklearn.model_selection import train_test_split\n",
    "from tensorflow.keras.models import Sequential\n",
    "from tensorflow.keras.layers import SimpleRNN, Dense, Dropout\n",
    "from tensorflow.keras.callbacks import EarlyStopping\n",
    "from optuna.integration import TFKerasPruningCallback\n",
    "from optuna.visualization import plot_optimization_history, plot_param_importances\n",
    "\n",
    "\n",
    "seed = 42\n",
    "np.random.seed(seed)\n",
    "tf.random.set_seed(seed)\n",
    "random.seed(seed)\n",
    "\n",
    "plt.rcParams[\"figure.figsize\"] = [10, 6]"
   ]
  },
  {
   "cell_type": "markdown",
   "metadata": {},
   "source": [
    "## Data Preparation"
   ]
  },
  {
   "cell_type": "code",
   "execution_count": 3,
   "metadata": {},
   "outputs": [],
   "source": [
    "# Load the data\n",
    "merged_df = (\n",
    "    pd.read_csv(\n",
    "        \"../data/merged_df.csv\", parse_dates=[\"timestamp\"], index_col=\"timestamp\"\n",
    "    )\n",
    "    .sort_index()\n",
    "    .convert_dtypes()\n",
    ")\n",
    "arima_predictions_T = (pd.read_csv('../data/arima_predictions_T.csv', parse_dates=['timestamp'], index_col='timestamp')\n",
    "                       .sort_index()\n",
    "                       .convert_dtypes())\n",
    "arima_predictions_V = (pd.read_csv('../data/arima_predictions_VZ.csv', parse_dates=['timestamp'], index_col='timestamp')\n",
    "                       .sort_index()\n",
    "                       .convert_dtypes())"
   ]
  },
  {
   "cell_type": "code",
   "execution_count": 4,
   "metadata": {},
   "outputs": [
    {
     "data": {
      "text/html": [
       "<div>\n",
       "<style scoped>\n",
       "    .dataframe tbody tr th:only-of-type {\n",
       "        vertical-align: middle;\n",
       "    }\n",
       "\n",
       "    .dataframe tbody tr th {\n",
       "        vertical-align: top;\n",
       "    }\n",
       "\n",
       "    .dataframe thead th {\n",
       "        text-align: right;\n",
       "    }\n",
       "</style>\n",
       "<table border=\"1\" class=\"dataframe\">\n",
       "  <thead>\n",
       "    <tr style=\"text-align: right;\">\n",
       "      <th></th>\n",
       "      <th>close_t</th>\n",
       "      <th>close_v</th>\n",
       "      <th>weekday_name</th>\n",
       "      <th>market_holiday</th>\n",
       "      <th>t_diff</th>\n",
       "      <th>v_diff</th>\n",
       "    </tr>\n",
       "    <tr>\n",
       "      <th>timestamp</th>\n",
       "      <th></th>\n",
       "      <th></th>\n",
       "      <th></th>\n",
       "      <th></th>\n",
       "      <th></th>\n",
       "      <th></th>\n",
       "    </tr>\n",
       "  </thead>\n",
       "  <tbody>\n",
       "    <tr>\n",
       "      <th>2019-01-02</th>\n",
       "      <td>29.54</td>\n",
       "      <td>56.02</td>\n",
       "      <td>Wednesday</td>\n",
       "      <td>False</td>\n",
       "      <td>0.0</td>\n",
       "      <td>0.0</td>\n",
       "    </tr>\n",
       "    <tr>\n",
       "      <th>2019-01-03</th>\n",
       "      <td>29.58</td>\n",
       "      <td>56.22</td>\n",
       "      <td>Thursday</td>\n",
       "      <td>False</td>\n",
       "      <td>0.04</td>\n",
       "      <td>0.2</td>\n",
       "    </tr>\n",
       "    <tr>\n",
       "      <th>2019-01-04</th>\n",
       "      <td>30.34</td>\n",
       "      <td>56.36</td>\n",
       "      <td>Friday</td>\n",
       "      <td>False</td>\n",
       "      <td>0.76</td>\n",
       "      <td>0.14</td>\n",
       "    </tr>\n",
       "    <tr>\n",
       "      <th>2019-01-05</th>\n",
       "      <td>30.34</td>\n",
       "      <td>56.36</td>\n",
       "      <td>Saturday</td>\n",
       "      <td>False</td>\n",
       "      <td>0.0</td>\n",
       "      <td>0.0</td>\n",
       "    </tr>\n",
       "    <tr>\n",
       "      <th>2019-01-06</th>\n",
       "      <td>30.34</td>\n",
       "      <td>56.36</td>\n",
       "      <td>Sunday</td>\n",
       "      <td>False</td>\n",
       "      <td>0.0</td>\n",
       "      <td>0.0</td>\n",
       "    </tr>\n",
       "    <tr>\n",
       "      <th>2019-01-07</th>\n",
       "      <td>30.89</td>\n",
       "      <td>56.72</td>\n",
       "      <td>Monday</td>\n",
       "      <td>False</td>\n",
       "      <td>0.55</td>\n",
       "      <td>0.36</td>\n",
       "    </tr>\n",
       "    <tr>\n",
       "      <th>2019-01-08</th>\n",
       "      <td>31.28</td>\n",
       "      <td>58.38</td>\n",
       "      <td>Tuesday</td>\n",
       "      <td>False</td>\n",
       "      <td>0.39</td>\n",
       "      <td>1.66</td>\n",
       "    </tr>\n",
       "    <tr>\n",
       "      <th>2019-01-09</th>\n",
       "      <td>30.1</td>\n",
       "      <td>57.05</td>\n",
       "      <td>Wednesday</td>\n",
       "      <td>False</td>\n",
       "      <td>-1.18</td>\n",
       "      <td>-1.33</td>\n",
       "    </tr>\n",
       "    <tr>\n",
       "      <th>2019-01-10</th>\n",
       "      <td>30.4</td>\n",
       "      <td>57.6</td>\n",
       "      <td>Thursday</td>\n",
       "      <td>False</td>\n",
       "      <td>0.3</td>\n",
       "      <td>0.55</td>\n",
       "    </tr>\n",
       "    <tr>\n",
       "      <th>2019-01-11</th>\n",
       "      <td>30.87</td>\n",
       "      <td>58.02</td>\n",
       "      <td>Friday</td>\n",
       "      <td>False</td>\n",
       "      <td>0.47</td>\n",
       "      <td>0.42</td>\n",
       "    </tr>\n",
       "  </tbody>\n",
       "</table>\n",
       "</div>"
      ],
      "text/plain": [
       "            close_t  close_v weekday_name  market_holiday  t_diff  v_diff\n",
       "timestamp                                                                \n",
       "2019-01-02    29.54    56.02    Wednesday           False     0.0     0.0\n",
       "2019-01-03    29.58    56.22     Thursday           False    0.04     0.2\n",
       "2019-01-04    30.34    56.36       Friday           False    0.76    0.14\n",
       "2019-01-05    30.34    56.36     Saturday           False     0.0     0.0\n",
       "2019-01-06    30.34    56.36       Sunday           False     0.0     0.0\n",
       "2019-01-07    30.89    56.72       Monday           False    0.55    0.36\n",
       "2019-01-08    31.28    58.38      Tuesday           False    0.39    1.66\n",
       "2019-01-09     30.1    57.05    Wednesday           False   -1.18   -1.33\n",
       "2019-01-10     30.4     57.6     Thursday           False     0.3    0.55\n",
       "2019-01-11    30.87    58.02       Friday           False    0.47    0.42"
      ]
     },
     "execution_count": 4,
     "metadata": {},
     "output_type": "execute_result"
    }
   ],
   "source": [
    "merged_df.head(10)"
   ]
  },
  {
   "cell_type": "code",
   "execution_count": 5,
   "metadata": {},
   "outputs": [],
   "source": [
    "# Feature scaling\n",
    "scaler_t = MinMaxScaler(feature_range=(0, 1))\n",
    "scaler_v = MinMaxScaler(feature_range=(0, 1))\n",
    "\n",
    "# Reshape data to 2D arrays as required by MinMaxScaler\n",
    "merged_df[\"t_scaled\"] = scaler_t.fit_transform(\n",
    "    merged_df[\"t_diff\"].values.reshape(-1, 1)\n",
    ")\n",
    "merged_df[\"v_scaled\"] = scaler_v.fit_transform(\n",
    "    merged_df[\"v_diff\"].values.reshape(-1, 1)\n",
    ")"
   ]
  },
  {
   "cell_type": "code",
   "execution_count": 28,
   "metadata": {},
   "outputs": [
    {
     "data": {
      "text/plain": [
       "timestamp\n",
       "2019-01-02    0.503949\n",
       "2019-01-03    0.510269\n",
       "2019-01-04    0.624013\n",
       "2019-01-05    0.503949\n",
       "2019-01-06    0.503949\n",
       "Name: t_scaled, dtype: float64"
      ]
     },
     "execution_count": 28,
     "metadata": {},
     "output_type": "execute_result"
    }
   ],
   "source": [
    "merged_df.t_scaled.head()"
   ]
  },
  {
   "cell_type": "code",
   "execution_count": 6,
   "metadata": {},
   "outputs": [],
   "source": [
    "# Create separate datasets out of the time series.\n",
    "t_data = merged_df['t_scaled'].values\n",
    "v_data = merged_df['v_scaled'].values\n",
    "\n",
    "# Make sure we can use the same split point for both datasets\n",
    "assert len(t_data) == len(v_data)\n",
    "\n",
    "# Creating split points to maintain temporal integrity\n",
    "split_point = int(len(t_data) * 0.95)\n",
    "\n",
    "t_train_data, t_test_data = t_data[:split_point], t_data[split_point:]\n",
    "v_train_data, v_test_data = v_data[:split_point], v_data[split_point:]\n"
   ]
  },
  {
   "cell_type": "code",
   "execution_count": 7,
   "metadata": {},
   "outputs": [],
   "source": [
    "# Create a function to split the dataset into sub-sequences\n",
    "def create_dataset(data: np.ndarray, window_size: int) -> tuple:\n",
    "    X, y = [], []\n",
    "    for i in range(len(data) - window_size):\n",
    "        X.append(data[i:(i + window_size)])\n",
    "        y.append(data[i + window_size])\n",
    "    return np.array(X), np.array(y)\n"
   ]
  },
  {
   "cell_type": "code",
   "execution_count": 8,
   "metadata": {},
   "outputs": [],
   "source": [
    "# Reshape the data\n",
    "n_steps = 10\n",
    "n_features = 1\n",
    "\n",
    "t_X_train, t_y_train = create_dataset(t_train_data, n_steps)\n",
    "t_X_train = t_X_train.reshape(t_X_train.shape[0], t_X_train.shape[1], n_features)\n",
    "\n",
    "t_X_test, t_y_test = create_dataset(t_test_data, n_steps)\n",
    "t_X_test = t_X_test.reshape(t_X_test.shape[0], t_X_test.shape[1], n_features)\n",
    "\n",
    "v_X_train, v_y_train = create_dataset(v_train_data, n_steps)\n",
    "v_X_train = v_X_train.reshape(v_X_train.shape[0], v_X_train.shape[1], n_features)\n",
    "\n",
    "v_X_test, v_y_test = create_dataset(v_test_data, n_steps)\n",
    "v_X_test = v_X_test.reshape(v_X_test.shape[0], v_X_test.shape[1], n_features)\n"
   ]
  },
  {
   "cell_type": "code",
   "execution_count": 32,
   "metadata": {},
   "outputs": [
    {
     "name": "stdout",
     "output_type": "stream",
     "text": [
      "(827, 10, 1) (827,)\n",
      "(827, 10, 1) (827,)\n"
     ]
    }
   ],
   "source": [
    "print(t_X_train.shape, t_y_train.shape)\n",
    "print(v_X_train.shape, v_y_train.shape)"
   ]
  },
  {
   "cell_type": "markdown",
   "metadata": {},
   "source": [
    "## Implementing an RNN model\n",
    "### AT&T Stock Price Prediction"
   ]
  },
  {
   "cell_type": "code",
   "execution_count": 33,
   "metadata": {},
   "outputs": [],
   "source": [
    "def objective(trial):\n",
    "    # Define the hyperparameter search space\n",
    "    n_units = trial.suggest_int(\"n_units\", 20, 200)\n",
    "    dropout_rate = trial.suggest_float(\"dropout_rate\", 0.0, 0.5)\n",
    "    learning_rate = trial.suggest_loguniform(\"learning_rate\", 1e-5, 1e-2)\n",
    "    batch_size = trial.suggest_categorical(\"batch_size\", [16, 32, 64, 128])\n",
    "    window_size = trial.suggest_int(\"window_size\", 5, 30)\n",
    "\n",
    "    # Re-create the dataset with the current window_size\n",
    "    X_train, y_train = create_dataset(t_train_data, window_size)\n",
    "    X_train = X_train.reshape((X_train.shape[0], X_train.shape[1], 1))\n",
    "\n",
    "    X_val, y_val = create_dataset(t_test_data, window_size)\n",
    "    X_val = X_val.reshape((X_val.shape[0], X_val.shape[1], 1))\n",
    "\n",
    "    # Build the model\n",
    "    model = Sequential()\n",
    "    model.add(SimpleRNN(units=n_units, activation=\"tanh\", input_shape=(window_size, 1)))\n",
    "    model.add(Dropout(rate=dropout_rate))\n",
    "    model.add(Dense(1))\n",
    "\n",
    "    # Compile the model\n",
    "    optimizer = tf.keras.optimizers.legacy.Adam(learning_rate=learning_rate)\n",
    "    model.compile(optimizer=optimizer, loss=\"mean_squared_error\")\n",
    "\n",
    "    # Define Early Stopping\n",
    "    early_stop = EarlyStopping(\n",
    "        monitor=\"val_loss\", patience=10, restore_best_weights=True\n",
    "    )\n",
    "\n",
    "    # Train the model\n",
    "    history = model.fit(\n",
    "        X_train,\n",
    "        y_train,\n",
    "        epochs=100,\n",
    "        batch_size=batch_size,\n",
    "        validation_data=(X_val, y_val),\n",
    "        callbacks=[early_stop, TFKerasPruningCallback(trial, \"val_loss\")],\n",
    "        verbose=0,  # Suppress training output for cleaner Optuna logs\n",
    "    )\n",
    "\n",
    "    # Evaluate the model on validation data\n",
    "    val_loss = history.history[\"val_loss\"][-1]\n",
    "\n",
    "    return val_loss"
   ]
  },
  {
   "cell_type": "code",
   "execution_count": null,
   "metadata": {},
   "outputs": [
    {
     "name": "stderr",
     "output_type": "stream",
     "text": [
      "[I 2025-01-17 15:36:45,094] A new study created in memory with name: SimpleRNN Hyperparameter Optimization\n"
     ]
    },
    {
     "name": "stderr",
     "output_type": "stream",
     "text": [
      "2025-01-17 15:36:45.310679: W tensorflow/tsl/platform/profile_utils/cpu_utils.cc:128] Failed to get CPU frequency: 0 Hz\n",
      "[I 2025-01-17 15:36:56,896] Trial 0 finished with value: 0.008349504321813583 and parameters: {'n_units': 189, 'dropout_rate': 0.4370581922762573, 'learning_rate': 0.007369712152728976, 'batch_size': 16, 'window_size': 29}. Best is trial 0 with value: 0.008349504321813583.\n",
      "[I 2025-01-17 15:36:59,074] Trial 1 finished with value: 0.005865920800715685 and parameters: {'n_units': 143, 'dropout_rate': 0.4403194483045942, 'learning_rate': 1.3202711470495564e-05, 'batch_size': 16, 'window_size': 17}. Best is trial 1 with value: 0.005865920800715685.\n",
      "[I 2025-01-17 15:37:05,926] Trial 2 finished with value: 0.008603308349847794 and parameters: {'n_units': 185, 'dropout_rate': 0.1537412990288563, 'learning_rate': 0.001803095931849199, 'batch_size': 32, 'window_size': 27}. Best is trial 1 with value: 0.005865920800715685.\n",
      "[I 2025-01-17 15:37:07,605] Trial 3 finished with value: 0.006080820690840483 and parameters: {'n_units': 128, 'dropout_rate': 0.2744541495618385, 'learning_rate': 4.703968939296865e-05, 'batch_size': 16, 'window_size': 21}. Best is trial 1 with value: 0.005865920800715685.\n",
      "[I 2025-01-17 15:37:09,916] Trial 4 finished with value: 0.005820725578814745 and parameters: {'n_units': 56, 'dropout_rate': 0.24910943491115828, 'learning_rate': 0.000597667947978417, 'batch_size': 128, 'window_size': 8}. Best is trial 4 with value: 0.005820725578814745.\n",
      "[I 2025-01-17 15:37:12,156] Trial 5 finished with value: 0.007281667087227106 and parameters: {'n_units': 164, 'dropout_rate': 0.363506591781835, 'learning_rate': 0.0006634310017453357, 'batch_size': 64, 'window_size': 25}. Best is trial 4 with value: 0.005820725578814745.\n",
      "[I 2025-01-17 15:37:12,670] Trial 6 pruned. Trial was pruned at epoch 0.\n",
      "[I 2025-01-17 15:37:13,171] Trial 7 pruned. Trial was pruned at epoch 0.\n",
      "[I 2025-01-17 15:37:13,931] Trial 8 pruned. Trial was pruned at epoch 0.\n"
     ]
    },
    {
     "name": "stdout",
     "output_type": "stream",
     "text": [
      "WARNING:tensorflow:5 out of the last 21 calls to <function Model.make_test_function.<locals>.test_function at 0x31848fd80> triggered tf.function retracing. Tracing is expensive and the excessive number of tracings could be due to (1) creating @tf.function repeatedly in a loop, (2) passing tensors with different shapes, (3) passing Python objects instead of tensors. For (1), please define your @tf.function outside of the loop. For (2), @tf.function has reduce_retracing=True option that can avoid unnecessary retracing. For (3), please refer to https://www.tensorflow.org/guide/function#controlling_retracing and https://www.tensorflow.org/api_docs/python/tf/function for  more details.\n"
     ]
    },
    {
     "name": "stderr",
     "output_type": "stream",
     "text": [
      "[I 2025-01-17 15:37:15,496] Trial 9 finished with value: 0.006715416442602873 and parameters: {'n_units': 144, 'dropout_rate': 0.08367337509332862, 'learning_rate': 0.0001773412111813362, 'batch_size': 16, 'window_size': 13}. Best is trial 4 with value: 0.005820725578814745.\n",
      "[I 2025-01-17 15:37:16,008] Trial 10 pruned. Trial was pruned at epoch 0.\n",
      "[I 2025-01-17 15:37:16,567] Trial 11 pruned. Trial was pruned at epoch 0.\n",
      "[I 2025-01-17 15:37:17,089] Trial 12 pruned. Trial was pruned at epoch 0.\n"
     ]
    },
    {
     "name": "stdout",
     "output_type": "stream",
     "text": [
      "WARNING:tensorflow:5 out of the last 28 calls to <function Model.make_test_function.<locals>.test_function at 0x3071ab880> triggered tf.function retracing. Tracing is expensive and the excessive number of tracings could be due to (1) creating @tf.function repeatedly in a loop, (2) passing tensors with different shapes, (3) passing Python objects instead of tensors. For (1), please define your @tf.function outside of the loop. For (2), @tf.function has reduce_retracing=True option that can avoid unnecessary retracing. For (3), please refer to https://www.tensorflow.org/guide/function#controlling_retracing and https://www.tensorflow.org/api_docs/python/tf/function for  more details.\n"
     ]
    },
    {
     "name": "stderr",
     "output_type": "stream",
     "text": [
      "[I 2025-01-17 15:37:17,619] Trial 13 pruned. Trial was pruned at epoch 0.\n",
      "[I 2025-01-17 15:37:18,185] Trial 14 pruned. Trial was pruned at epoch 0.\n",
      "[I 2025-01-17 15:37:18,704] Trial 15 pruned. Trial was pruned at epoch 0.\n",
      "[I 2025-01-17 15:37:19,227] Trial 16 pruned. Trial was pruned at epoch 0.\n",
      "[I 2025-01-17 15:37:20,366] Trial 17 finished with value: 0.004113285336643457 and parameters: {'n_units': 137, 'dropout_rate': 0.22197095719080398, 'learning_rate': 2.471515404024836e-05, 'batch_size': 32, 'window_size': 8}. Best is trial 17 with value: 0.004113285336643457.\n",
      "[I 2025-01-17 15:37:20,881] Trial 18 pruned. Trial was pruned at epoch 0.\n",
      "[I 2025-01-17 15:37:21,629] Trial 19 pruned. Trial was pruned at epoch 0.\n",
      "[I 2025-01-17 15:37:22,728] Trial 20 finished with value: 0.005505301058292389 and parameters: {'n_units': 115, 'dropout_rate': 0.15402832381138518, 'learning_rate': 0.0003831487823387726, 'batch_size': 32, 'window_size': 8}. Best is trial 17 with value: 0.004113285336643457.\n",
      "[I 2025-01-17 15:37:23,301] Trial 21 pruned. Trial was pruned at epoch 1.\n",
      "[I 2025-01-17 15:37:23,827] Trial 22 pruned. Trial was pruned at epoch 0.\n",
      "[I 2025-01-17 15:37:24,292] Trial 23 pruned. Trial was pruned at epoch 0.\n",
      "[I 2025-01-17 15:37:24,828] Trial 24 pruned. Trial was pruned at epoch 0.\n",
      "[I 2025-01-17 15:37:25,334] Trial 25 pruned. Trial was pruned at epoch 0.\n",
      "[I 2025-01-17 15:37:25,894] Trial 26 pruned. Trial was pruned at epoch 1.\n",
      "[I 2025-01-17 15:37:26,411] Trial 27 pruned. Trial was pruned at epoch 0.\n",
      "[I 2025-01-17 15:37:26,916] Trial 28 pruned. Trial was pruned at epoch 0.\n",
      "[I 2025-01-17 15:37:27,435] Trial 29 pruned. Trial was pruned at epoch 0.\n",
      "[I 2025-01-17 15:37:30,435] Trial 30 finished with value: 0.006289729382842779 and parameters: {'n_units': 192, 'dropout_rate': 0.17980797802570364, 'learning_rate': 6.170849712884396e-05, 'batch_size': 32, 'window_size': 14}. Best is trial 17 with value: 0.004113285336643457.\n",
      "[I 2025-01-17 15:37:31,340] Trial 31 pruned. Trial was pruned at epoch 0.\n",
      "[I 2025-01-17 15:37:31,971] Trial 32 pruned. Trial was pruned at epoch 0.\n",
      "[I 2025-01-17 15:37:32,579] Trial 33 pruned. Trial was pruned at epoch 0.\n",
      "[I 2025-01-17 15:37:33,159] Trial 34 pruned. Trial was pruned at epoch 0.\n",
      "[I 2025-01-17 15:37:33,751] Trial 35 pruned. Trial was pruned at epoch 0.\n",
      "[I 2025-01-17 15:37:34,284] Trial 36 pruned. Trial was pruned at epoch 0.\n",
      "[I 2025-01-17 15:37:34,843] Trial 37 pruned. Trial was pruned at epoch 0.\n",
      "[I 2025-01-17 15:37:35,353] Trial 38 pruned. Trial was pruned at epoch 0.\n",
      "[I 2025-01-17 15:37:36,219] Trial 39 pruned. Trial was pruned at epoch 3.\n",
      "[I 2025-01-17 15:37:36,791] Trial 40 pruned. Trial was pruned at epoch 0.\n",
      "[I 2025-01-17 15:37:37,400] Trial 41 pruned. Trial was pruned at epoch 0.\n",
      "[I 2025-01-17 15:37:38,007] Trial 42 pruned. Trial was pruned at epoch 0.\n",
      "[I 2025-01-17 15:37:38,572] Trial 43 pruned. Trial was pruned at epoch 0.\n",
      "[I 2025-01-17 15:37:45,418] Trial 44 finished with value: 0.00526562100276351 and parameters: {'n_units': 113, 'dropout_rate': 0.38955458816688104, 'learning_rate': 2.5215187648028346e-05, 'batch_size': 16, 'window_size': 5}. Best is trial 17 with value: 0.004113285336643457.\n",
      "[I 2025-01-17 15:37:46,787] Trial 45 finished with value: 0.004548297263681889 and parameters: {'n_units': 98, 'dropout_rate': 0.41938403735409685, 'learning_rate': 0.008829689678576254, 'batch_size': 16, 'window_size': 5}. Best is trial 17 with value: 0.004113285336643457.\n",
      "[I 2025-01-17 15:37:47,870] Trial 46 finished with value: 0.0043515232391655445 and parameters: {'n_units': 95, 'dropout_rate': 0.4898630149573564, 'learning_rate': 0.008927640625337761, 'batch_size': 16, 'window_size': 5}. Best is trial 17 with value: 0.004113285336643457.\n",
      "[I 2025-01-17 15:37:48,358] Trial 47 pruned. Trial was pruned at epoch 0.\n",
      "[I 2025-01-17 15:37:50,115] Trial 48 finished with value: 0.005142063833773136 and parameters: {'n_units': 84, 'dropout_rate': 0.4271789769857277, 'learning_rate': 0.005632336848304616, 'batch_size': 16, 'window_size': 6}. Best is trial 17 with value: 0.004113285336643457.\n",
      "[I 2025-01-17 15:37:51,318] Trial 49 finished with value: 0.005997346714138985 and parameters: {'n_units': 83, 'dropout_rate': 0.3938980165297263, 'learning_rate': 0.005402133437512472, 'batch_size': 16, 'window_size': 6}. Best is trial 17 with value: 0.004113285336643457.\n"
     ]
    },
    {
     "name": "stdout",
     "output_type": "stream",
     "text": [
      "Number of finished trials:  50\n",
      "Best trial:\n",
      "  Value: 0.004113285336643457\n",
      "  Params: \n",
      "    n_units: 137\n",
      "    dropout_rate: 0.22197095719080398\n",
      "    learning_rate: 2.471515404024836e-05\n",
      "    batch_size: 32\n",
      "    window_size: 8\n"
     ]
    }
   ],
   "source": [
    "warnings.filterwarnings(\"ignore\")\n",
    "\n",
    "# Create the Optuna study\n",
    "study = optuna.create_study(\n",
    "    direction=\"minimize\", study_name=\"SimpleRNN Hyperparameter Optimization\"\n",
    ")\n",
    "study.optimize(\n",
    "    objective, n_trials=50, timeout=600\n",
    ")  # Adjust n_trials and timeout as needed\n",
    "\n",
    "# Display the best trial\n",
    "print(\"Number of finished trials: \", len(study.trials))\n",
    "print(\"Best trial:\")\n",
    "trial = study.best_trial\n",
    "\n",
    "print(\"  Value: {}\".format(trial.value))\n",
    "print(\"  Params: \")\n",
    "for key, value in trial.params.items():\n",
    "    print(\"    {}: {}\".format(key, value))"
   ]
  },
  {
   "cell_type": "code",
   "execution_count": 35,
   "metadata": {},
   "outputs": [
    {
     "name": "stdout",
     "output_type": "stream",
     "text": [
      "Epoch 1/100\n",
      "26/26 [==============================] - 0s 6ms/step - loss: 0.0746 - val_loss: 0.0106\n",
      "Epoch 2/100\n",
      "26/26 [==============================] - 0s 2ms/step - loss: 0.0240 - val_loss: 0.0073\n",
      "Epoch 3/100\n",
      "26/26 [==============================] - 0s 2ms/step - loss: 0.0226 - val_loss: 0.0069\n",
      "Epoch 4/100\n",
      "26/26 [==============================] - 0s 2ms/step - loss: 0.0207 - val_loss: 0.0070\n",
      "Epoch 5/100\n",
      "26/26 [==============================] - 0s 3ms/step - loss: 0.0205 - val_loss: 0.0070\n",
      "Epoch 6/100\n",
      "26/26 [==============================] - 0s 2ms/step - loss: 0.0186 - val_loss: 0.0070\n",
      "Epoch 7/100\n",
      "26/26 [==============================] - 0s 2ms/step - loss: 0.0184 - val_loss: 0.0070\n",
      "Epoch 8/100\n",
      "26/26 [==============================] - 0s 2ms/step - loss: 0.0174 - val_loss: 0.0071\n",
      "Epoch 9/100\n",
      "26/26 [==============================] - 0s 2ms/step - loss: 0.0163 - val_loss: 0.0071\n",
      "Epoch 10/100\n",
      "26/26 [==============================] - 0s 2ms/step - loss: 0.0152 - val_loss: 0.0071\n",
      "Epoch 11/100\n",
      "26/26 [==============================] - 0s 2ms/step - loss: 0.0139 - val_loss: 0.0071\n",
      "Epoch 12/100\n",
      "26/26 [==============================] - 0s 2ms/step - loss: 0.0134 - val_loss: 0.0072\n",
      "Epoch 13/100\n",
      "26/26 [==============================] - 0s 2ms/step - loss: 0.0145 - val_loss: 0.0072\n",
      "2/2 [==============================] - 0s 1ms/step - loss: 0.0069\n",
      "Final Model Test Mean Squared Error: 0.006912560202181339\n"
     ]
    }
   ],
   "source": [
    "# Retrieve best hyperparameters\n",
    "best_params = study.best_trial.params\n",
    "\n",
    "# Extract hyperparameters\n",
    "best_n_units = best_params[\"n_units\"]\n",
    "best_dropout_rate = best_params[\"dropout_rate\"]\n",
    "best_learning_rate = best_params[\"learning_rate\"]\n",
    "best_batch_size = best_params[\"batch_size\"]\n",
    "best_window_size = best_params[\"window_size\"]\n",
    "\n",
    "# Prepare the dataset with the best window size\n",
    "X_train_best, y_train_best = create_dataset(t_train_data, best_window_size)\n",
    "X_train_best = X_train_best.reshape((X_train_best.shape[0], X_train_best.shape[1], 1))\n",
    "\n",
    "X_val_best, y_val_best = create_dataset(t_test_data, best_window_size)\n",
    "X_val_best = X_val_best.reshape((X_val_best.shape[0], X_val_best.shape[1], 1))\n",
    "\n",
    "# Build the final model with best hyperparameters\n",
    "final_model = Sequential()\n",
    "final_model.add(\n",
    "    SimpleRNN(units=best_n_units, activation=\"tanh\", input_shape=(best_window_size, 1))\n",
    ")\n",
    "final_model.add(Dropout(rate=best_dropout_rate))\n",
    "final_model.add(Dense(1))\n",
    "\n",
    "# Compile the model\n",
    "optimizer = tf.keras.optimizers.legacy.Adam(learning_rate=best_learning_rate)\n",
    "final_model.compile(optimizer=optimizer, loss=\"mean_squared_error\")\n",
    "\n",
    "# Define Early Stopping\n",
    "early_stop = EarlyStopping(monitor=\"val_loss\", patience=10, restore_best_weights=True)\n",
    "\n",
    "# Train the final model\n",
    "history = final_model.fit(\n",
    "    X_train_best,\n",
    "    y_train_best,\n",
    "    epochs=100,\n",
    "    batch_size=best_batch_size,\n",
    "    validation_data=(X_val_best, y_val_best),\n",
    "    callbacks=[early_stop],\n",
    "    verbose=1,\n",
    ")\n",
    "\n",
    "# Evaluate the final model\n",
    "test_loss = final_model.evaluate(X_val_best, y_val_best)\n",
    "print(f\"Final Model Test Mean Squared Error: {test_loss}\")"
   ]
  },
  {
   "cell_type": "code",
   "execution_count": 36,
   "metadata": {},
   "outputs": [
    {
     "name": "stdout",
     "output_type": "stream",
     "text": [
      "2/2 [==============================] - 0s 1ms/step\n"
     ]
    },
    {
     "data": {
      "image/png": "[encoded data removed]",
      "text/plain": [
       "<Figure size 1400x500 with 1 Axes>"
      ]
     },
     "metadata": {},
     "output_type": "display_data"
    }
   ],
   "source": [
    "# Make predictions on test data\n",
    "y_pred_best = final_model.predict(X_val_best)\n",
    "\n",
    "# Inverse transform the scaled data\n",
    "t_y_test_actual = scaler_t.inverse_transform(y_val_best.reshape(-1, 1))\n",
    "t_y_pred_actual = scaler_t.inverse_transform(y_pred_best)\n",
    "\n",
    "# Plot the results\n",
    "plt.figure(figsize=(14, 5))\n",
    "plt.plot(t_y_test_actual, label=\"Actual AT&T Closing Price\")\n",
    "plt.plot(t_y_pred_actual, label=\"Predicted AT&T Closing Price\")\n",
    "plt.title(\"Actual vs Predicted AT&T Closing Prices\")\n",
    "plt.xlabel(\"Time\")\n",
    "plt.ylabel(\"Price\")\n",
    "plt.legend()\n",
    "plt.show()"
   ]
  },
  {
   "cell_type": "code",
   "execution_count": null,
   "metadata": {},
   "outputs": [],
   "source": [
    "# I want to encapsulate this into a class\n",
    "# The class will accept transformed data and:\n",
    "# 1. Conduct an Optuna hyperparameter search and save the best hyperparameters with an .optimize() method -- DONE\n",
    "# 2. Train the model with the best hyperparameters with a .train() method\n",
    "# 3. Plot the training and validation loss with a .plot_loss() method\n",
    "# 4. Predict on the test data with a .predict() method\n",
    "# 5. Plot the actual vs predicted values with a .plot_predictions() method\n",
    "\n",
    "class SimpleRNNModel:\n",
    "    def __init__(self, data, n_steps, n_features, name):\n",
    "        self.data = data\n",
    "        self.n_steps = n_steps\n",
    "        self.n_features = n_features\n",
    "        self.scaler = MinMaxScaler(feature_range=(0, 1))\n",
    "        self.name = name\n",
    "\n",
    "    def create_dataset(self, data_scaled: np.ndarray, window_size: int) -> tuple:\n",
    "        X, y = [], []\n",
    "        for i in range(len(data_scaled) - window_size):\n",
    "            X.append(data_scaled[i : (i + window_size)])\n",
    "            y.append(data_scaled[i + window_size])\n",
    "        return np.array(X), np.array(y)\n",
    "\n",
    "    def scale_split(self, split_ratio=0.95):\n",
    "        self.data_scaled = self.scaler.fit_transform(self.data.values.reshape(-1, 1))\n",
    "        split_point = int(len(self.data_scaled) * split_ratio)\n",
    "        self.train_data, self.test_data = self.data_scaled[:split_point], self.data_scaled[split_point:]\n",
    "\n",
    "    def optimize(self, n_trials=50, timeout=600):\n",
    "        def objective(trial):\n",
    "            # Define the hyperparameter search space\n",
    "            n_units = trial.suggest_int(\"n_units\", 20, 200)\n",
    "            dropout_rate = trial.suggest_float(\"dropout_rate\", 0.0, 0.5)\n",
    "            learning_rate = trial.suggest_loguniform(\"learning_rate\", 1e-5, 1e-2)\n",
    "            batch_size = trial.suggest_categorical(\"batch_size\", [16, 32, 64, 128])\n",
    "            window_size = trial.suggest_int(\"window_size\", 5, 30)\n",
    "\n",
    "            if self.train_data is None:\n",
    "                raise ValueError(\"Please scale and split the data first.\")\n",
    "            else:\n",
    "                # Re-create the dataset with the current window_size\n",
    "                X_train, y_train = create_dataset(self.train_data, window_size)\n",
    "                X_train = X_train.reshape((X_train.shape[0], X_train.shape[1], 1))\n",
    "\n",
    "                X_val, y_val = create_dataset(self.test_data, window_size)\n",
    "                X_val = X_val.reshape((X_val.shape[0], X_val.shape[1], 1))\n",
    "\n",
    "            # Build the model\n",
    "            model = Sequential()\n",
    "            model.add(SimpleRNN(units=n_units, activation=\"tanh\", input_shape=(window_size, 1)))\n",
    "            model.add(Dropout(rate=dropout_rate))\n",
    "            model.add(Dense(1))\n",
    "\n",
    "            # Compile the model\n",
    "            optimizer = tf.keras.optimizers.legacy.Adam(learning_rate=learning_rate)\n",
    "            model.compile(optimizer=optimizer, loss=\"mean_squared_error\")\n",
    "\n",
    "            # Define Early Stopping\n",
    "            early_stop = EarlyStopping(\n",
    "                monitor=\"val_loss\", patience=10, restore_best_weights=True\n",
    "            )\n",
    "\n",
    "            # Train the model\n",
    "            history = model.fit(\n",
    "                X_train,\n",
    "                y_train,\n",
    "                epochs=100,\n",
    "                batch_size=batch_size,\n",
    "                validation_data=(X_val, y_val),\n",
    "                callbacks=[early_stop, TFKerasPruningCallback(trial, \"val_loss\")],\n",
    "                verbose=0,  # Suppress training output for cleaner Optuna logs\n",
    "            )\n",
    "\n",
    "            # Evaluate the model on validation data\n",
    "            self.val_loss = history.history[\"val_loss\"][-1]\n",
    "\n",
    "            return self.val_loss\n",
    "\n",
    "        warnings.filterwarnings(\"ignore\")\n",
    "\n",
    "        # Create the Optuna study\n",
    "        study = optuna.create_study(\n",
    "            direction=\"minimize\", study_name=\"SimpleRNN Hyperparameter Optimization\"\n",
    "        )\n",
    "        study.optimize(\n",
    "            objective, n_trials=n_trials, timeout=timeout\n",
    "        )\n",
    "\n",
    "        # Retrieve best hyperparameters\n",
    "        self.best_params = study.best_trial.params\n",
    "\n",
    "        # Extract hyperparameters\n",
    "        self.best_n_units = self.best_params[\"n_units\"]\n",
    "        self.best_dropout_rate = self.best_params[\"dropout_rate\"]\n",
    "        self.best_learning_rate = self.best_params[\"learning_rate\"]\n",
    "        self.best_batch_size = self.best_params[\"batch_size\"]\n",
    "        self.best_window_size = self.best_params[\"window_size\"]\n",
    "\n",
    "        # Display the best trial\n",
    "        print(\"Number of finished trials: \", len(study.trials))\n",
    "        print(\"Best trial:\")\n",
    "        trial = study.best_trial\n",
    "\n",
    "        print(\"  Value: {}\".format(trial.value))\n",
    "        print(\"  Params: \")\n",
    "        for key, value in trial.params.items():\n",
    "            print(\"    {}: {}\".format(key, value))\n",
    "\n",
    "        # Plot optimization history\n",
    "        fig1 = plot_optimization_history(study)\n",
    "        fig1.show()\n",
    "\n",
    "        # Plot parameter importances\n",
    "        fig2 = plot_param_importances(study)\n",
    "        fig2.show()\n",
    "\n",
    "    def train(self):\n",
    "        # Prepare the dataset with the best window size\n",
    "        self.X_train_best, self.y_train_best = create_dataset(self.train_data, self.best_window_size)\n",
    "        self.X_train_best = self.X_train_best.reshape((self.X_train_best.shape[0], self.X_train_best.shape[1], 1))\n",
    "\n",
    "        self.X_val_best, self.y_val_best = create_dataset(self.test_data, self.best_window_size)\n",
    "        self.X_val_best = self.X_val_best.reshape((self.X_val_best.shape[0], self.X_val_best.shape[1], 1))\n",
    "\n",
    "        # Build the final model with best hyperparameters\n",
    "        self.final_model = Sequential()\n",
    "        self.final_model.add(\n",
    "            SimpleRNN(units=self.best_n_units, activation=\"tanh\", input_shape=(self.best_window_size, 1))\n",
    "        )\n",
    "        self.final_model.add(Dropout(rate=self.best_dropout_rate))\n",
    "        self.final_model.add(Dense(1))\n",
    "\n",
    "        # Compile the model\n",
    "        optimizer = tf.keras.optimizers.legacy.Adam(learning_rate=self.best_learning_rate)\n",
    "        self.final_model.compile(optimizer=optimizer, loss=\"mean_squared_error\")\n",
    "\n",
    "        # Define Early Stopping\n",
    "        early_stop = EarlyStopping(monitor=\"val_loss\", patience=10, restore_best_weights=True)\n",
    "\n",
    "        # Train the final model\n",
    "        history = self.final_model.fit(\n",
    "            self.X_train_best,\n",
    "            self.y_train_best,\n",
    "            epochs=100,\n",
    "            batch_size=self.best_batch_size,\n",
    "            validation_data=(self.X_val_best, self.y_val_best),\n",
    "            callbacks=[early_stop],\n",
    "            verbose=1,\n",
    "        )\n",
    "        \n",
    "        self.history = history\n",
    "\n",
    "        # Evaluate the final model\n",
    "        self.test_loss = self.final_model.evaluate(self.X_val_best, self.y_val_best)\n",
    "        print(f\"Final Model Test Mean Squared Error: {self.test_loss}\")\n",
    "        \n",
    "    def plot_loss(self) -> None:\n",
    "        plt.figure(figsize=(10, 5))\n",
    "        plt.plot(self.history.history[\"loss\"], label=\"Training Loss\")\n",
    "        plt.plot(self.history.history[\"val_loss\"], label=\"Validation Loss\")\n",
    "        plt.xlabel(\"Epochs\")\n",
    "        plt.ylabel(\"Loss\")\n",
    "        plt.title(f\"{self.name} Training and Validation Loss\")\n",
    "        plt.legend()\n",
    "        plt.show()\n",
    "\n",
    "    def plot_predictions(self):\n",
    "        # Make predictions on test data\n",
    "        self.y_pred_best = self.final_model.predict(self.X_val_best)\n",
    "\n",
    "        # Inverse transform the scaled data\n",
    "        self.v_y_test_actual = self.scaler.inverse_transform(self.y_val_best.reshape(-1, 1))\n",
    "        self.v_y_pred_actual = self.scaler.inverse_transform(self.y_pred_best)\n",
    "\n",
    "        # Plot the results\n",
    "        plt.figure(figsize=(14, 5))\n",
    "        plt.plot(self.v_y_test_actual, label=f\"Actual {self.name} Closing Price\")\n",
    "        plt.plot(self.v_y_pred_actual, label=f\"Predicted {self.name} Closing Price\")\n",
    "        plt.title(f\"Actual vs Predicted {self.name} Closing Prices\")\n",
    "        plt.xlabel(\"Timestamp\")\n",
    "        plt.ylabel(\"Price\")\n",
    "        plt.legend()\n",
    "        plt.show()"
   ]
  },
  {
   "cell_type": "code",
   "execution_count": 13,
   "metadata": {},
   "outputs": [
    {
     "name": "stderr",
     "output_type": "stream",
     "text": [
      "[I 2025-01-18 08:27:30,792] A new study created in memory with name: SimpleRNN Hyperparameter Optimization\n",
      "[I 2025-01-18 08:27:31,882] Trial 0 finished with value: 0.01219338458031416 and parameters: {'n_units': 54, 'dropout_rate': 0.21862679747334746, 'learning_rate': 4.3700932967358824e-05, 'batch_size': 64, 'window_size': 22}. Best is trial 0 with value: 0.01219338458031416.\n",
      "[I 2025-01-18 08:27:33,089] Trial 1 finished with value: 0.012641502544283867 and parameters: {'n_units': 86, 'dropout_rate': 0.059465970077144825, 'learning_rate': 0.00018050092407133448, 'batch_size': 128, 'window_size': 24}. Best is trial 0 with value: 0.01219338458031416.\n",
      "[I 2025-01-18 08:27:36,204] Trial 2 finished with value: 0.008980765007436275 and parameters: {'n_units': 98, 'dropout_rate': 0.31596932566801145, 'learning_rate': 0.00016733877169385457, 'batch_size': 64, 'window_size': 24}. Best is trial 2 with value: 0.008980765007436275.\n"
     ]
    },
    {
     "name": "stdout",
     "output_type": "stream",
     "text": [
      "Number of finished trials:  3\n",
      "Best trial:\n",
      "  Value: 0.008980765007436275\n",
      "  Params: \n",
      "    n_units: 98\n",
      "    dropout_rate: 0.31596932566801145\n",
      "    learning_rate: 0.00016733877169385457\n",
      "    batch_size: 64\n",
      "    window_size: 24\n"
     ]
    },
    {
     "data": {
      "application/vnd.plotly.v1+json": {
       "config": {
        "plotlyServerURL": "https://plot.ly"
       },
       "data": [
        {
         "mode": "markers",
         "name": "Objective Value",
         "type": "scatter",
         "x": [
          0,
          1,
          2
         ],
         "y": [
          0.01219338458031416,
          0.012641502544283867,
          0.008980765007436275
         ]
        },
        {
         "mode": "lines",
         "name": "Best Value",
         "type": "scatter",
         "x": [
          0,
          1,
          2
         ],
         "y": [
          0.01219338458031416,
          0.01219338458031416,
          0.008980765007436275
         ]
        },
        {
         "marker": {
          "color": "#cccccc"
         },
         "mode": "markers",
         "name": "Infeasible Trial",
         "showlegend": false,
         "type": "scatter",
         "x": [],
         "y": []
        }
       ],
       "layout": {
        "template": {
         "data": {
          "bar": [
           {
            "error_x": {
             "color": "#2a3f5f"
            },
            "error_y": {
             "color": "#2a3f5f"
            },
            "marker": {
             "line": {
              "color": "#E5ECF6",
              "width": 0.5
             },
             "pattern": {
              "fillmode": "overlay",
              "size": 10,
              "solidity": 0.2
             }
            },
            "type": "bar"
           }
          ],
          "barpolar": [
           {
            "marker": {
             "line": {
              "color": "#E5ECF6",
              "width": 0.5
             },
             "pattern": {
              "fillmode": "overlay",
              "size": 10,
              "solidity": 0.2
             }
            },
            "type": "barpolar"
           }
          ],
          "carpet": [
           {
            "aaxis": {
             "endlinecolor": "#2a3f5f",
             "gridcolor": "white",
             "linecolor": "white",
             "minorgridcolor": "white",
             "startlinecolor": "#2a3f5f"
            },
            "baxis": {
             "endlinecolor": "#2a3f5f",
             "gridcolor": "white",
             "linecolor": "white",
             "minorgridcolor": "white",
             "startlinecolor": "#2a3f5f"
            },
            "type": "carpet"
           }
          ],
          "choropleth": [
           {
            "colorbar": {
             "outlinewidth": 0,
             "ticks": ""
            },
            "type": "choropleth"
           }
          ],
          "contour": [
           {
            "colorbar": {
             "outlinewidth": 0,
             "ticks": ""
            },
            "colorscale": [
             [
              0,
              "#0d0887"
             ],
             [
              0.1111111111111111,
              "#46039f"
             ],
             [
              0.2222222222222222,
              "#7201a8"
             ],
             [
              0.3333333333333333,
              "#9c179e"
             ],
             [
              0.4444444444444444,
              "#bd3786"
             ],
             [
              0.5555555555555556,
              "#d8576b"
             ],
             [
              0.6666666666666666,
              "#ed7953"
             ],
             [
              0.7777777777777778,
              "#fb9f3a"
             ],
             [
              0.8888888888888888,
              "#fdca26"
             ],
             [
              1,
              "#f0f921"
             ]
            ],
            "type": "contour"
           }
          ],
          "contourcarpet": [
           {
            "colorbar": {
             "outlinewidth": 0,
             "ticks": ""
            },
            "type": "contourcarpet"
           }
          ],
          "heatmap": [
           {
            "colorbar": {
             "outlinewidth": 0,
             "ticks": ""
            },
            "colorscale": [
             [
              0,
              "#0d0887"
             ],
             [
              0.1111111111111111,
              "#46039f"
             ],
             [
              0.2222222222222222,
              "#7201a8"
             ],
             [
              0.3333333333333333,
              "#9c179e"
             ],
             [
              0.4444444444444444,
              "#bd3786"
             ],
             [
              0.5555555555555556,
              "#d8576b"
             ],
             [
              0.6666666666666666,
              "#ed7953"
             ],
             [
              0.7777777777777778,
              "#fb9f3a"
             ],
             [
              0.8888888888888888,
              "#fdca26"
             ],
             [
              1,
              "#f0f921"
             ]
            ],
            "type": "heatmap"
           }
          ],
          "heatmapgl": [
           {
            "colorbar": {
             "outlinewidth": 0,
             "ticks": ""
            },
            "colorscale": [
             [
              0,
              "#0d0887"
             ],
             [
              0.1111111111111111,
              "#46039f"
             ],
             [
              0.2222222222222222,
              "#7201a8"
             ],
             [
              0.3333333333333333,
              "#9c179e"
             ],
             [
              0.4444444444444444,
              "#bd3786"
             ],
             [
              0.5555555555555556,
              "#d8576b"
             ],
             [
              0.6666666666666666,
              "#ed7953"
             ],
             [
              0.7777777777777778,
              "#fb9f3a"
             ],
             [
              0.8888888888888888,
              "#fdca26"
             ],
             [
              1,
              "#f0f921"
             ]
            ],
            "type": "heatmapgl"
           }
          ],
          "histogram": [
           {
            "marker": {
             "pattern": {
              "fillmode": "overlay",
              "size": 10,
              "solidity": 0.2
             }
            },
            "type": "histogram"
           }
          ],
          "histogram2d": [
           {
            "colorbar": {
             "outlinewidth": 0,
             "ticks": ""
            },
            "colorscale": [
             [
              0,
              "#0d0887"
             ],
             [
              0.1111111111111111,
              "#46039f"
             ],
             [
              0.2222222222222222,
              "#7201a8"
             ],
             [
              0.3333333333333333,
              "#9c179e"
             ],
             [
              0.4444444444444444,
              "#bd3786"
             ],
             [
              0.5555555555555556,
              "#d8576b"
             ],
             [
              0.6666666666666666,
              "#ed7953"
             ],
             [
              0.7777777777777778,
              "#fb9f3a"
             ],
             [
              0.8888888888888888,
              "#fdca26"
             ],
             [
              1,
              "#f0f921"
             ]
            ],
            "type": "histogram2d"
           }
          ],
          "histogram2dcontour": [
           {
            "colorbar": {
             "outlinewidth": 0,
             "ticks": ""
            },
            "colorscale": [
             [
              0,
              "#0d0887"
             ],
             [
              0.1111111111111111,
              "#46039f"
             ],
             [
              0.2222222222222222,
              "#7201a8"
             ],
             [
              0.3333333333333333,
              "#9c179e"
             ],
             [
              0.4444444444444444,
              "#bd3786"
             ],
             [
              0.5555555555555556,
              "#d8576b"
             ],
             [
              0.6666666666666666,
              "#ed7953"
             ],
             [
              0.7777777777777778,
              "#fb9f3a"
             ],
             [
              0.8888888888888888,
              "#fdca26"
             ],
             [
              1,
              "#f0f921"
             ]
            ],
            "type": "histogram2dcontour"
           }
          ],
          "mesh3d": [
           {
            "colorbar": {
             "outlinewidth": 0,
             "ticks": ""
            },
            "type": "mesh3d"
           }
          ],
          "parcoords": [
           {
            "line": {
             "colorbar": {
              "outlinewidth": 0,
              "ticks": ""
             }
            },
            "type": "parcoords"
           }
          ],
          "pie": [
           {
            "automargin": true,
            "type": "pie"
           }
          ],
          "scatter": [
           {
            "fillpattern": {
             "fillmode": "overlay",
             "size": 10,
             "solidity": 0.2
            },
            "type": "scatter"
           }
          ],
          "scatter3d": [
           {
            "line": {
             "colorbar": {
              "outlinewidth": 0,
              "ticks": ""
             }
            },
            "marker": {
             "colorbar": {
              "outlinewidth": 0,
              "ticks": ""
             }
            },
            "type": "scatter3d"
           }
          ],
          "scattercarpet": [
           {
            "marker": {
             "colorbar": {
              "outlinewidth": 0,
              "ticks": ""
             }
            },
            "type": "scattercarpet"
           }
          ],
          "scattergeo": [
           {
            "marker": {
             "colorbar": {
              "outlinewidth": 0,
              "ticks": ""
             }
            },
            "type": "scattergeo"
           }
          ],
          "scattergl": [
           {
            "marker": {
             "colorbar": {
              "outlinewidth": 0,
              "ticks": ""
             }
            },
            "type": "scattergl"
           }
          ],
          "scattermapbox": [
           {
            "marker": {
             "colorbar": {
              "outlinewidth": 0,
              "ticks": ""
             }
            },
            "type": "scattermapbox"
           }
          ],
          "scatterpolar": [
           {
            "marker": {
             "colorbar": {
              "outlinewidth": 0,
              "ticks": ""
             }
            },
            "type": "scatterpolar"
           }
          ],
          "scatterpolargl": [
           {
            "marker": {
             "colorbar": {
              "outlinewidth": 0,
              "ticks": ""
             }
            },
            "type": "scatterpolargl"
           }
          ],
          "scatterternary": [
           {
            "marker": {
             "colorbar": {
              "outlinewidth": 0,
              "ticks": ""
             }
            },
            "type": "scatterternary"
           }
          ],
          "surface": [
           {
            "colorbar": {
             "outlinewidth": 0,
             "ticks": ""
            },
            "colorscale": [
             [
              0,
              "#0d0887"
             ],
             [
              0.1111111111111111,
              "#46039f"
             ],
             [
              0.2222222222222222,
              "#7201a8"
             ],
             [
              0.3333333333333333,
              "#9c179e"
             ],
             [
              0.4444444444444444,
              "#bd3786"
             ],
             [
              0.5555555555555556,
              "#d8576b"
             ],
             [
              0.6666666666666666,
              "#ed7953"
             ],
             [
              0.7777777777777778,
              "#fb9f3a"
             ],
             [
              0.8888888888888888,
              "#fdca26"
             ],
             [
              1,
              "#f0f921"
             ]
            ],
            "type": "surface"
           }
          ],
          "table": [
           {
            "cells": {
             "fill": {
              "color": "#EBF0F8"
             },
             "line": {
              "color": "white"
             }
            },
            "header": {
             "fill": {
              "color": "#C8D4E3"
             },
             "line": {
              "color": "white"
             }
            },
            "type": "table"
           }
          ]
         },
         "layout": {
          "annotationdefaults": {
           "arrowcolor": "#2a3f5f",
           "arrowhead": 0,
           "arrowwidth": 1
          },
          "autotypenumbers": "strict",
          "coloraxis": {
           "colorbar": {
            "outlinewidth": 0,
            "ticks": ""
           }
          },
          "colorscale": {
           "diverging": [
            [
             0,
             "#8e0152"
            ],
            [
             0.1,
             "#c51b7d"
            ],
            [
             0.2,
             "#de77ae"
            ],
            [
             0.3,
             "#f1b6da"
            ],
            [
             0.4,
             "#fde0ef"
            ],
            [
             0.5,
             "#f7f7f7"
            ],
            [
             0.6,
             "#e6f5d0"
            ],
            [
             0.7,
             "#b8e186"
            ],
            [
             0.8,
             "#7fbc41"
            ],
            [
             0.9,
             "#4d9221"
            ],
            [
             1,
             "#276419"
            ]
           ],
           "sequential": [
            [
             0,
             "#0d0887"
            ],
            [
             0.1111111111111111,
             "#46039f"
            ],
            [
             0.2222222222222222,
             "#7201a8"
            ],
            [
             0.3333333333333333,
             "#9c179e"
            ],
            [
             0.4444444444444444,
             "#bd3786"
            ],
            [
             0.5555555555555556,
             "#d8576b"
            ],
            [
             0.6666666666666666,
             "#ed7953"
            ],
            [
             0.7777777777777778,
             "#fb9f3a"
            ],
            [
             0.8888888888888888,
             "#fdca26"
            ],
            [
             1,
             "#f0f921"
            ]
           ],
           "sequentialminus": [
            [
             0,
             "#0d0887"
            ],
            [
             0.1111111111111111,
             "#46039f"
            ],
            [
             0.2222222222222222,
             "#7201a8"
            ],
            [
             0.3333333333333333,
             "#9c179e"
            ],
            [
             0.4444444444444444,
             "#bd3786"
            ],
            [
             0.5555555555555556,
             "#d8576b"
            ],
            [
             0.6666666666666666,
             "#ed7953"
            ],
            [
             0.7777777777777778,
             "#fb9f3a"
            ],
            [
             0.8888888888888888,
             "#fdca26"
            ],
            [
             1,
             "#f0f921"
            ]
           ]
          },
          "colorway": [
           "#636efa",
           "#EF553B",
           "#00cc96",
           "#ab63fa",
           "#FFA15A",
           "#19d3f3",
           "#FF6692",
           "#B6E880",
           "#FF97FF",
           "#FECB52"
          ],
          "font": {
           "color": "#2a3f5f"
          },
          "geo": {
           "bgcolor": "white",
           "lakecolor": "white",
           "landcolor": "#E5ECF6",
           "showlakes": true,
           "showland": true,
           "subunitcolor": "white"
          },
          "hoverlabel": {
           "align": "left"
          },
          "hovermode": "closest",
          "mapbox": {
           "style": "light"
          },
          "paper_bgcolor": "white",
          "plot_bgcolor": "#E5ECF6",
          "polar": {
           "angularaxis": {
            "gridcolor": "white",
            "linecolor": "white",
            "ticks": ""
           },
           "bgcolor": "#E5ECF6",
           "radialaxis": {
            "gridcolor": "white",
            "linecolor": "white",
            "ticks": ""
           }
          },
          "scene": {
           "xaxis": {
            "backgroundcolor": "#E5ECF6",
            "gridcolor": "white",
            "gridwidth": 2,
            "linecolor": "white",
            "showbackground": true,
            "ticks": "",
            "zerolinecolor": "white"
           },
           "yaxis": {
            "backgroundcolor": "#E5ECF6",
            "gridcolor": "white",
            "gridwidth": 2,
            "linecolor": "white",
            "showbackground": true,
            "ticks": "",
            "zerolinecolor": "white"
           },
           "zaxis": {
            "backgroundcolor": "#E5ECF6",
            "gridcolor": "white",
            "gridwidth": 2,
            "linecolor": "white",
            "showbackground": true,
            "ticks": "",
            "zerolinecolor": "white"
           }
          },
          "shapedefaults": {
           "line": {
            "color": "#2a3f5f"
           }
          },
          "ternary": {
           "aaxis": {
            "gridcolor": "white",
            "linecolor": "white",
            "ticks": ""
           },
           "baxis": {
            "gridcolor": "white",
            "linecolor": "white",
            "ticks": ""
           },
           "bgcolor": "#E5ECF6",
           "caxis": {
            "gridcolor": "white",
            "linecolor": "white",
            "ticks": ""
           }
          },
          "title": {
           "x": 0.05
          },
          "xaxis": {
           "automargin": true,
           "gridcolor": "white",
           "linecolor": "white",
           "ticks": "",
           "title": {
            "standoff": 15
           },
           "zerolinecolor": "white",
           "zerolinewidth": 2
          },
          "yaxis": {
           "automargin": true,
           "gridcolor": "white",
           "linecolor": "white",
           "ticks": "",
           "title": {
            "standoff": 15
           },
           "zerolinecolor": "white",
           "zerolinewidth": 2
          }
         }
        },
        "title": {
         "text": "Optimization History Plot"
        },
        "xaxis": {
         "title": {
          "text": "Trial"
         }
        },
        "yaxis": {
         "title": {
          "text": "Objective Value"
         }
        }
       }
      }
     },
     "metadata": {},
     "output_type": "display_data"
    },
    {
     "data": {
      "application/vnd.plotly.v1+json": {
       "config": {
        "plotlyServerURL": "https://plot.ly"
       },
       "data": [
        {
         "cliponaxis": false,
         "hovertemplate": [
          "window_size (IntDistribution): 0.08488371243553529<extra></extra>",
          "batch_size (CategoricalDistribution): 0.16991138458492536<extra></extra>",
          "learning_rate (FloatDistribution): 0.18657214303547168<extra></extra>",
          "dropout_rate (FloatDistribution): 0.22013202833507953<extra></extra>",
          "n_units (IntDistribution): 0.33850073160898825<extra></extra>"
         ],
         "name": "Objective Value",
         "orientation": "h",
         "text": [
          "0.08",
          "0.17",
          "0.19",
          "0.22",
          "0.34"
         ],
         "textposition": "outside",
         "type": "bar",
         "x": [
          0.08488371243553529,
          0.16991138458492536,
          0.18657214303547168,
          0.22013202833507953,
          0.33850073160898825
         ],
         "y": [
          "window_size",
          "batch_size",
          "learning_rate",
          "dropout_rate",
          "n_units"
         ]
        }
       ],
       "layout": {
        "template": {
         "data": {
          "bar": [
           {
            "error_x": {
             "color": "#2a3f5f"
            },
            "error_y": {
             "color": "#2a3f5f"
            },
            "marker": {
             "line": {
              "color": "#E5ECF6",
              "width": 0.5
             },
             "pattern": {
              "fillmode": "overlay",
              "size": 10,
              "solidity": 0.2
             }
            },
            "type": "bar"
           }
          ],
          "barpolar": [
           {
            "marker": {
             "line": {
              "color": "#E5ECF6",
              "width": 0.5
             },
             "pattern": {
              "fillmode": "overlay",
              "size": 10,
              "solidity": 0.2
             }
            },
            "type": "barpolar"
           }
          ],
          "carpet": [
           {
            "aaxis": {
             "endlinecolor": "#2a3f5f",
             "gridcolor": "white",
             "linecolor": "white",
             "minorgridcolor": "white",
             "startlinecolor": "#2a3f5f"
            },
            "baxis": {
             "endlinecolor": "#2a3f5f",
             "gridcolor": "white",
             "linecolor": "white",
             "minorgridcolor": "white",
             "startlinecolor": "#2a3f5f"
            },
            "type": "carpet"
           }
          ],
          "choropleth": [
           {
            "colorbar": {
             "outlinewidth": 0,
             "ticks": ""
            },
            "type": "choropleth"
           }
          ],
          "contour": [
           {
            "colorbar": {
             "outlinewidth": 0,
             "ticks": ""
            },
            "colorscale": [
             [
              0,
              "#0d0887"
             ],
             [
              0.1111111111111111,
              "#46039f"
             ],
             [
              0.2222222222222222,
              "#7201a8"
             ],
             [
              0.3333333333333333,
              "#9c179e"
             ],
             [
              0.4444444444444444,
              "#bd3786"
             ],
             [
              0.5555555555555556,
              "#d8576b"
             ],
             [
              0.6666666666666666,
              "#ed7953"
             ],
             [
              0.7777777777777778,
              "#fb9f3a"
             ],
             [
              0.8888888888888888,
              "#fdca26"
             ],
             [
              1,
              "#f0f921"
             ]
            ],
            "type": "contour"
           }
          ],
          "contourcarpet": [
           {
            "colorbar": {
             "outlinewidth": 0,
             "ticks": ""
            },
            "type": "contourcarpet"
           }
          ],
          "heatmap": [
           {
            "colorbar": {
             "outlinewidth": 0,
             "ticks": ""
            },
            "colorscale": [
             [
              0,
              "#0d0887"
             ],
             [
              0.1111111111111111,
              "#46039f"
             ],
             [
              0.2222222222222222,
              "#7201a8"
             ],
             [
              0.3333333333333333,
              "#9c179e"
             ],
             [
              0.4444444444444444,
              "#bd3786"
             ],
             [
              0.5555555555555556,
              "#d8576b"
             ],
             [
              0.6666666666666666,
              "#ed7953"
             ],
             [
              0.7777777777777778,
              "#fb9f3a"
             ],
             [
              0.8888888888888888,
              "#fdca26"
             ],
             [
              1,
              "#f0f921"
             ]
            ],
            "type": "heatmap"
           }
          ],
          "heatmapgl": [
           {
            "colorbar": {
             "outlinewidth": 0,
             "ticks": ""
            },
            "colorscale": [
             [
              0,
              "#0d0887"
             ],
             [
              0.1111111111111111,
              "#46039f"
             ],
             [
              0.2222222222222222,
              "#7201a8"
             ],
             [
              0.3333333333333333,
              "#9c179e"
             ],
             [
              0.4444444444444444,
              "#bd3786"
             ],
             [
              0.5555555555555556,
              "#d8576b"
             ],
             [
              0.6666666666666666,
              "#ed7953"
             ],
             [
              0.7777777777777778,
              "#fb9f3a"
             ],
             [
              0.8888888888888888,
              "#fdca26"
             ],
             [
              1,
              "#f0f921"
             ]
            ],
            "type": "heatmapgl"
           }
          ],
          "histogram": [
           {
            "marker": {
             "pattern": {
              "fillmode": "overlay",
              "size": 10,
              "solidity": 0.2
             }
            },
            "type": "histogram"
           }
          ],
          "histogram2d": [
           {
            "colorbar": {
             "outlinewidth": 0,
             "ticks": ""
            },
            "colorscale": [
             [
              0,
              "#0d0887"
             ],
             [
              0.1111111111111111,
              "#46039f"
             ],
             [
              0.2222222222222222,
              "#7201a8"
             ],
             [
              0.3333333333333333,
              "#9c179e"
             ],
             [
              0.4444444444444444,
              "#bd3786"
             ],
             [
              0.5555555555555556,
              "#d8576b"
             ],
             [
              0.6666666666666666,
              "#ed7953"
             ],
             [
              0.7777777777777778,
              "#fb9f3a"
             ],
             [
              0.8888888888888888,
              "#fdca26"
             ],
             [
              1,
              "#f0f921"
             ]
            ],
            "type": "histogram2d"
           }
          ],
          "histogram2dcontour": [
           {
            "colorbar": {
             "outlinewidth": 0,
             "ticks": ""
            },
            "colorscale": [
             [
              0,
              "#0d0887"
             ],
             [
              0.1111111111111111,
              "#46039f"
             ],
             [
              0.2222222222222222,
              "#7201a8"
             ],
             [
              0.3333333333333333,
              "#9c179e"
             ],
             [
              0.4444444444444444,
              "#bd3786"
             ],
             [
              0.5555555555555556,
              "#d8576b"
             ],
             [
              0.6666666666666666,
              "#ed7953"
             ],
             [
              0.7777777777777778,
              "#fb9f3a"
             ],
             [
              0.8888888888888888,
              "#fdca26"
             ],
             [
              1,
              "#f0f921"
             ]
            ],
            "type": "histogram2dcontour"
           }
          ],
          "mesh3d": [
           {
            "colorbar": {
             "outlinewidth": 0,
             "ticks": ""
            },
            "type": "mesh3d"
           }
          ],
          "parcoords": [
           {
            "line": {
             "colorbar": {
              "outlinewidth": 0,
              "ticks": ""
             }
            },
            "type": "parcoords"
           }
          ],
          "pie": [
           {
            "automargin": true,
            "type": "pie"
           }
          ],
          "scatter": [
           {
            "fillpattern": {
             "fillmode": "overlay",
             "size": 10,
             "solidity": 0.2
            },
            "type": "scatter"
           }
          ],
          "scatter3d": [
           {
            "line": {
             "colorbar": {
              "outlinewidth": 0,
              "ticks": ""
             }
            },
            "marker": {
             "colorbar": {
              "outlinewidth": 0,
              "ticks": ""
             }
            },
            "type": "scatter3d"
           }
          ],
          "scattercarpet": [
           {
            "marker": {
             "colorbar": {
              "outlinewidth": 0,
              "ticks": ""
             }
            },
            "type": "scattercarpet"
           }
          ],
          "scattergeo": [
           {
            "marker": {
             "colorbar": {
              "outlinewidth": 0,
              "ticks": ""
             }
            },
            "type": "scattergeo"
           }
          ],
          "scattergl": [
           {
            "marker": {
             "colorbar": {
              "outlinewidth": 0,
              "ticks": ""
             }
            },
            "type": "scattergl"
           }
          ],
          "scattermapbox": [
           {
            "marker": {
             "colorbar": {
              "outlinewidth": 0,
              "ticks": ""
             }
            },
            "type": "scattermapbox"
           }
          ],
          "scatterpolar": [
           {
            "marker": {
             "colorbar": {
              "outlinewidth": 0,
              "ticks": ""
             }
            },
            "type": "scatterpolar"
           }
          ],
          "scatterpolargl": [
           {
            "marker": {
             "colorbar": {
              "outlinewidth": 0,
              "ticks": ""
             }
            },
            "type": "scatterpolargl"
           }
          ],
          "scatterternary": [
           {
            "marker": {
             "colorbar": {
              "outlinewidth": 0,
              "ticks": ""
             }
            },
            "type": "scatterternary"
           }
          ],
          "surface": [
           {
            "colorbar": {
             "outlinewidth": 0,
             "ticks": ""
            },
            "colorscale": [
             [
              0,
              "#0d0887"
             ],
             [
              0.1111111111111111,
              "#46039f"
             ],
             [
              0.2222222222222222,
              "#7201a8"
             ],
             [
              0.3333333333333333,
              "#9c179e"
             ],
             [
              0.4444444444444444,
              "#bd3786"
             ],
             [
              0.5555555555555556,
              "#d8576b"
             ],
             [
              0.6666666666666666,
              "#ed7953"
             ],
             [
              0.7777777777777778,
              "#fb9f3a"
             ],
             [
              0.8888888888888888,
              "#fdca26"
             ],
             [
              1,
              "#f0f921"
             ]
            ],
            "type": "surface"
           }
          ],
          "table": [
           {
            "cells": {
             "fill": {
              "color": "#EBF0F8"
             },
             "line": {
              "color": "white"
             }
            },
            "header": {
             "fill": {
              "color": "#C8D4E3"
             },
             "line": {
              "color": "white"
             }
            },
            "type": "table"
           }
          ]
         },
         "layout": {
          "annotationdefaults": {
           "arrowcolor": "#2a3f5f",
           "arrowhead": 0,
           "arrowwidth": 1
          },
          "autotypenumbers": "strict",
          "coloraxis": {
           "colorbar": {
            "outlinewidth": 0,
            "ticks": ""
           }
          },
          "colorscale": {
           "diverging": [
            [
             0,
             "#8e0152"
            ],
            [
             0.1,
             "#c51b7d"
            ],
            [
             0.2,
             "#de77ae"
            ],
            [
             0.3,
             "#f1b6da"
            ],
            [
             0.4,
             "#fde0ef"
            ],
            [
             0.5,
             "#f7f7f7"
            ],
            [
             0.6,
             "#e6f5d0"
            ],
            [
             0.7,
             "#b8e186"
            ],
            [
             0.8,
             "#7fbc41"
            ],
            [
             0.9,
             "#4d9221"
            ],
            [
             1,
             "#276419"
            ]
           ],
           "sequential": [
            [
             0,
             "#0d0887"
            ],
            [
             0.1111111111111111,
             "#46039f"
            ],
            [
             0.2222222222222222,
             "#7201a8"
            ],
            [
             0.3333333333333333,
             "#9c179e"
            ],
            [
             0.4444444444444444,
             "#bd3786"
            ],
            [
             0.5555555555555556,
             "#d8576b"
            ],
            [
             0.6666666666666666,
             "#ed7953"
            ],
            [
             0.7777777777777778,
             "#fb9f3a"
            ],
            [
             0.8888888888888888,
             "#fdca26"
            ],
            [
             1,
             "#f0f921"
            ]
           ],
           "sequentialminus": [
            [
             0,
             "#0d0887"
            ],
            [
             0.1111111111111111,
             "#46039f"
            ],
            [
             0.2222222222222222,
             "#7201a8"
            ],
            [
             0.3333333333333333,
             "#9c179e"
            ],
            [
             0.4444444444444444,
             "#bd3786"
            ],
            [
             0.5555555555555556,
             "#d8576b"
            ],
            [
             0.6666666666666666,
             "#ed7953"
            ],
            [
             0.7777777777777778,
             "#fb9f3a"
            ],
            [
             0.8888888888888888,
             "#fdca26"
            ],
            [
             1,
             "#f0f921"
            ]
           ]
          },
          "colorway": [
           "#636efa",
           "#EF553B",
           "#00cc96",
           "#ab63fa",
           "#FFA15A",
           "#19d3f3",
           "#FF6692",
           "#B6E880",
           "#FF97FF",
           "#FECB52"
          ],
          "font": {
           "color": "#2a3f5f"
          },
          "geo": {
           "bgcolor": "white",
           "lakecolor": "white",
           "landcolor": "#E5ECF6",
           "showlakes": true,
           "showland": true,
           "subunitcolor": "white"
          },
          "hoverlabel": {
           "align": "left"
          },
          "hovermode": "closest",
          "mapbox": {
           "style": "light"
          },
          "paper_bgcolor": "white",
          "plot_bgcolor": "#E5ECF6",
          "polar": {
           "angularaxis": {
            "gridcolor": "white",
            "linecolor": "white",
            "ticks": ""
           },
           "bgcolor": "#E5ECF6",
           "radialaxis": {
            "gridcolor": "white",
            "linecolor": "white",
            "ticks": ""
           }
          },
          "scene": {
           "xaxis": {
            "backgroundcolor": "#E5ECF6",
            "gridcolor": "white",
            "gridwidth": 2,
            "linecolor": "white",
            "showbackground": true,
            "ticks": "",
            "zerolinecolor": "white"
           },
           "yaxis": {
            "backgroundcolor": "#E5ECF6",
            "gridcolor": "white",
            "gridwidth": 2,
            "linecolor": "white",
            "showbackground": true,
            "ticks": "",
            "zerolinecolor": "white"
           },
           "zaxis": {
            "backgroundcolor": "#E5ECF6",
            "gridcolor": "white",
            "gridwidth": 2,
            "linecolor": "white",
            "showbackground": true,
            "ticks": "",
            "zerolinecolor": "white"
           }
          },
          "shapedefaults": {
           "line": {
            "color": "#2a3f5f"
           }
          },
          "ternary": {
           "aaxis": {
            "gridcolor": "white",
            "linecolor": "white",
            "ticks": ""
           },
           "baxis": {
            "gridcolor": "white",
            "linecolor": "white",
            "ticks": ""
           },
           "bgcolor": "#E5ECF6",
           "caxis": {
            "gridcolor": "white",
            "linecolor": "white",
            "ticks": ""
           }
          },
          "title": {
           "x": 0.05
          },
          "xaxis": {
           "automargin": true,
           "gridcolor": "white",
           "linecolor": "white",
           "ticks": "",
           "title": {
            "standoff": 15
           },
           "zerolinecolor": "white",
           "zerolinewidth": 2
          },
          "yaxis": {
           "automargin": true,
           "gridcolor": "white",
           "linecolor": "white",
           "ticks": "",
           "title": {
            "standoff": 15
           },
           "zerolinecolor": "white",
           "zerolinewidth": 2
          }
         }
        },
        "title": {
         "text": "Hyperparameter Importances"
        },
        "xaxis": {
         "title": {
          "text": "Hyperparameter Importance"
         }
        },
        "yaxis": {
         "title": {
          "text": "Hyperparameter"
         }
        }
       }
      }
     },
     "metadata": {},
     "output_type": "display_data"
    },
    {
     "name": "stdout",
     "output_type": "stream",
     "text": [
      "Epoch 1/100\n",
      "13/13 [==============================] - 0s 11ms/step - loss: 0.0551 - val_loss: 0.0084\n",
      "Epoch 2/100\n",
      "13/13 [==============================] - 0s 4ms/step - loss: 0.0313 - val_loss: 0.0098\n",
      "Epoch 3/100\n",
      "13/13 [==============================] - 0s 4ms/step - loss: 0.0229 - val_loss: 0.0087\n",
      "Epoch 4/100\n",
      "13/13 [==============================] - 0s 4ms/step - loss: 0.0190 - val_loss: 0.0086\n",
      "Epoch 5/100\n",
      "13/13 [==============================] - 0s 4ms/step - loss: 0.0174 - val_loss: 0.0087\n",
      "Epoch 6/100\n",
      "13/13 [==============================] - 0s 4ms/step - loss: 0.0140 - val_loss: 0.0094\n",
      "Epoch 7/100\n",
      "13/13 [==============================] - 0s 7ms/step - loss: 0.0150 - val_loss: 0.0080\n",
      "Epoch 8/100\n",
      "13/13 [==============================] - 0s 5ms/step - loss: 0.0132 - val_loss: 0.0078\n",
      "Epoch 9/100\n",
      "13/13 [==============================] - 0s 5ms/step - loss: 0.0131 - val_loss: 0.0071\n",
      "Epoch 10/100\n",
      "13/13 [==============================] - 0s 4ms/step - loss: 0.0105 - val_loss: 0.0072\n",
      "Epoch 11/100\n",
      "13/13 [==============================] - 0s 4ms/step - loss: 0.0118 - val_loss: 0.0071\n",
      "Epoch 12/100\n",
      "13/13 [==============================] - 0s 4ms/step - loss: 0.0116 - val_loss: 0.0066\n",
      "Epoch 13/100\n",
      "13/13 [==============================] - 0s 4ms/step - loss: 0.0100 - val_loss: 0.0065\n",
      "Epoch 14/100\n",
      "13/13 [==============================] - 0s 6ms/step - loss: 0.0110 - val_loss: 0.0062\n",
      "Epoch 15/100\n",
      "13/13 [==============================] - 0s 5ms/step - loss: 0.0110 - val_loss: 0.0057\n",
      "Epoch 16/100\n",
      "13/13 [==============================] - 0s 4ms/step - loss: 0.0103 - val_loss: 0.0059\n",
      "Epoch 17/100\n",
      "13/13 [==============================] - 0s 4ms/step - loss: 0.0102 - val_loss: 0.0068\n",
      "Epoch 18/100\n",
      "13/13 [==============================] - 0s 5ms/step - loss: 0.0105 - val_loss: 0.0061\n",
      "Epoch 19/100\n",
      "13/13 [==============================] - 0s 5ms/step - loss: 0.0090 - val_loss: 0.0061\n",
      "Epoch 20/100\n",
      "13/13 [==============================] - 0s 4ms/step - loss: 0.0098 - val_loss: 0.0067\n",
      "Epoch 21/100\n",
      "13/13 [==============================] - 0s 6ms/step - loss: 0.0096 - val_loss: 0.0069\n",
      "Epoch 22/100\n",
      "13/13 [==============================] - 0s 5ms/step - loss: 0.0094 - val_loss: 0.0053\n",
      "Epoch 23/100\n",
      "13/13 [==============================] - 0s 4ms/step - loss: 0.0092 - val_loss: 0.0053\n",
      "Epoch 24/100\n",
      "13/13 [==============================] - 0s 4ms/step - loss: 0.0098 - val_loss: 0.0054\n",
      "Epoch 25/100\n",
      "13/13 [==============================] - 0s 5ms/step - loss: 0.0089 - val_loss: 0.0055\n",
      "Epoch 26/100\n",
      "13/13 [==============================] - 0s 4ms/step - loss: 0.0088 - val_loss: 0.0056\n",
      "Epoch 27/100\n",
      "13/13 [==============================] - 0s 5ms/step - loss: 0.0101 - val_loss: 0.0054\n",
      "Epoch 28/100\n",
      "13/13 [==============================] - 0s 4ms/step - loss: 0.0088 - val_loss: 0.0058\n",
      "Epoch 29/100\n",
      "13/13 [==============================] - 0s 5ms/step - loss: 0.0088 - val_loss: 0.0055\n",
      "Epoch 30/100\n",
      "13/13 [==============================] - 0s 4ms/step - loss: 0.0090 - val_loss: 0.0054\n",
      "Epoch 31/100\n",
      "13/13 [==============================] - 0s 5ms/step - loss: 0.0082 - val_loss: 0.0056\n",
      "Epoch 32/100\n",
      "13/13 [==============================] - 0s 5ms/step - loss: 0.0084 - val_loss: 0.0055\n",
      "1/1 [==============================] - 0s 12ms/step - loss: 0.0053\n",
      "Final Model Test Mean Squared Error: 0.005305863451212645\n"
     ]
    },
    {
     "data": {
      "image/png": "[encoded data removed]",
      "text/plain": [
       "<Figure size 1000x500 with 1 Axes>"
      ]
     },
     "metadata": {},
     "output_type": "display_data"
    },
    {
     "name": "stdout",
     "output_type": "stream",
     "text": [
      "1/1 [==============================] - 0s 70ms/step\n"
     ]
    },
    {
     "data": {
      "image/png": "[encoded data removed]",
      "text/plain": [
       "<Figure size 1400x500 with 1 Axes>"
      ]
     },
     "metadata": {},
     "output_type": "display_data"
    }
   ],
   "source": [
    "rnn_t = SimpleRNNModel(merged_df['t_diff'], n_steps=10, n_features=1, name='AT&T')\n",
    "rnn_t.scale_split()\n",
    "rnn_t.optimize(n_trials=3)\n",
    "rnn_t.train()\n",
    "rnn_t.plot_loss()\n",
    "\n",
    "assert rnn_t.X_train_best.all() == t_X_train.all()\n",
    "assert rnn_t.y_train_best.all() == t_y_train.all()\n",
    "assert rnn_t.X_val_best.all() == t_X_test.all()\n",
    "assert rnn_t.y_val_best.all() == t_y_test.all()\n",
    "assert rnn_t.train_data.all() == t_train_data.all()\n",
    "assert rnn_t.test_data.all() == t_test_data.all()\n",
    "\n",
    "rnn_t.plot_predictions()"
   ]
  },
  {
   "cell_type": "markdown",
   "metadata": {},
   "source": [
    "### Verizon Stock Price Prediction"
   ]
  },
  {
   "cell_type": "code",
   "execution_count": 72,
   "metadata": {},
   "outputs": [],
   "source": [
    "def objective_v(trial):\n",
    "    # Define the hyperparameter search space\n",
    "    n_units = trial.suggest_int(\"n_units\", 20, 200)\n",
    "    dropout_rate = trial.suggest_float(\"dropout_rate\", 0.0, 0.5)\n",
    "    learning_rate = trial.suggest_loguniform(\"learning_rate\", 1e-5, 1e-2)\n",
    "    batch_size = trial.suggest_categorical(\"batch_size\", [16, 32, 64, 128])\n",
    "    window_size = trial.suggest_int(\"window_size\", 5, 30)\n",
    "\n",
    "    # Re-create the dataset with the current window_size\n",
    "    X_train, y_train = create_dataset(v_train_data, window_size)\n",
    "    X_train = X_train.reshape((X_train.shape[0], X_train.shape[1], 1))\n",
    "\n",
    "    X_val, y_val = create_dataset(v_test_data, window_size)\n",
    "    X_val = X_val.reshape((X_val.shape[0], X_val.shape[1], 1))\n",
    "\n",
    "    # Build the model\n",
    "    model = Sequential()\n",
    "    model.add(SimpleRNN(units=n_units, activation=\"tanh\", input_shape=(window_size, 1)))\n",
    "    model.add(Dropout(rate=dropout_rate))\n",
    "    model.add(Dense(1))\n",
    "\n",
    "    # Compile the model\n",
    "    optimizer = tf.keras.optimizers.legacy.Adam(learning_rate=learning_rate)\n",
    "    model.compile(optimizer=optimizer, loss=\"mean_squared_error\")\n",
    "\n",
    "    # Define Early Stopping\n",
    "    early_stop = EarlyStopping(\n",
    "        monitor=\"val_loss\", patience=10, restore_best_weights=True\n",
    "    )\n",
    "\n",
    "    # Train the model\n",
    "    history = model.fit(\n",
    "        X_train,\n",
    "        y_train,\n",
    "        epochs=100,\n",
    "        batch_size=batch_size,\n",
    "        validation_data=(X_val, y_val),\n",
    "        callbacks=[early_stop, TFKerasPruningCallback(trial, \"val_loss\")],\n",
    "        verbose=0,\n",
    "    )\n",
    "\n",
    "    # Evaluate the model on validation data\n",
    "    val_loss = history.history[\"val_loss\"][-1]\n",
    "\n",
    "    return val_loss"
   ]
  },
  {
   "cell_type": "code",
   "execution_count": 73,
   "metadata": {},
   "outputs": [
    {
     "name": "stderr",
     "output_type": "stream",
     "text": [
      "[I 2025-01-16 22:11:06,360] A new study created in memory with name: SimpleRNN_V Hyperparameter Optimization\n",
      "[I 2025-01-16 22:11:11,297] Trial 0 finished with value: 0.003017967799678445 and parameters: {'n_units': 68, 'dropout_rate': 0.18210452457255444, 'learning_rate': 1.9289802229857107e-05, 'batch_size': 16, 'window_size': 5}. Best is trial 0 with value: 0.003017967799678445.\n",
      "[I 2025-01-16 22:11:15,119] Trial 1 finished with value: 0.0032533735502511263 and parameters: {'n_units': 195, 'dropout_rate': 0.10936504888453835, 'learning_rate': 0.0004157840491054802, 'batch_size': 16, 'window_size': 22}. Best is trial 0 with value: 0.003017967799678445.\n",
      "[I 2025-01-16 22:11:17,063] Trial 2 finished with value: 0.0014373167650774121 and parameters: {'n_units': 72, 'dropout_rate': 0.21422405310193854, 'learning_rate': 0.0011544444308668736, 'batch_size': 128, 'window_size': 30}. Best is trial 2 with value: 0.0014373167650774121.\n",
      "[I 2025-01-16 22:11:19,169] Trial 3 finished with value: 0.002901173196732998 and parameters: {'n_units': 135, 'dropout_rate': 0.2490257759074962, 'learning_rate': 3.789651063931583e-05, 'batch_size': 128, 'window_size': 6}. Best is trial 2 with value: 0.0014373167650774121.\n",
      "[I 2025-01-16 22:11:20,606] Trial 4 finished with value: 0.0030571885872632265 and parameters: {'n_units': 96, 'dropout_rate': 0.04872816742747227, 'learning_rate': 1.9984092999908824e-05, 'batch_size': 32, 'window_size': 21}. Best is trial 2 with value: 0.0014373167650774121.\n",
      "[I 2025-01-16 22:11:21,561] Trial 5 finished with value: 0.003645148826763034 and parameters: {'n_units': 38, 'dropout_rate': 0.19352517924488433, 'learning_rate': 0.0001824638010177699, 'batch_size': 64, 'window_size': 26}. Best is trial 2 with value: 0.0014373167650774121.\n",
      "[I 2025-01-16 22:11:22,061] Trial 6 pruned. Trial was pruned at epoch 0.\n",
      "[I 2025-01-16 22:11:22,564] Trial 7 pruned. Trial was pruned at epoch 0.\n",
      "[I 2025-01-16 22:11:23,119] Trial 8 pruned. Trial was pruned at epoch 0.\n",
      "[I 2025-01-16 22:11:23,692] Trial 9 pruned. Trial was pruned at epoch 2.\n",
      "[I 2025-01-16 22:11:24,177] Trial 10 pruned. Trial was pruned at epoch 0.\n",
      "[I 2025-01-16 22:11:24,713] Trial 11 pruned. Trial was pruned at epoch 1.\n",
      "[I 2025-01-16 22:11:25,985] Trial 12 finished with value: 0.0037774716038256884 and parameters: {'n_units': 58, 'dropout_rate': 0.3137731616867907, 'learning_rate': 8.189961280381832e-05, 'batch_size': 128, 'window_size': 30}. Best is trial 2 with value: 0.0014373167650774121.\n",
      "[I 2025-01-16 22:11:26,476] Trial 13 pruned. Trial was pruned at epoch 0.\n",
      "[I 2025-01-16 22:11:27,056] Trial 14 pruned. Trial was pruned at epoch 1.\n",
      "[I 2025-01-16 22:11:27,544] Trial 15 pruned. Trial was pruned at epoch 0.\n",
      "[I 2025-01-16 22:11:28,037] Trial 16 pruned. Trial was pruned at epoch 0.\n",
      "[I 2025-01-16 22:11:28,518] Trial 17 pruned. Trial was pruned at epoch 0.\n",
      "[I 2025-01-16 22:11:29,034] Trial 18 pruned. Trial was pruned at epoch 0.\n",
      "[I 2025-01-16 22:11:29,724] Trial 19 pruned. Trial was pruned at epoch 1.\n",
      "[I 2025-01-16 22:11:30,235] Trial 20 pruned. Trial was pruned at epoch 0.\n",
      "[I 2025-01-16 22:11:30,726] Trial 21 pruned. Trial was pruned at epoch 0.\n",
      "[I 2025-01-16 22:11:31,323] Trial 22 pruned. Trial was pruned at epoch 0.\n",
      "[I 2025-01-16 22:11:31,851] Trial 23 pruned. Trial was pruned at epoch 1.\n",
      "[I 2025-01-16 22:11:32,483] Trial 24 pruned. Trial was pruned at epoch 1.\n",
      "[I 2025-01-16 22:11:32,969] Trial 25 pruned. Trial was pruned at epoch 0.\n",
      "[I 2025-01-16 22:11:33,595] Trial 26 pruned. Trial was pruned at epoch 1.\n",
      "[I 2025-01-16 22:11:34,092] Trial 27 pruned. Trial was pruned at epoch 0.\n",
      "[I 2025-01-16 22:11:34,988] Trial 28 pruned. Trial was pruned at epoch 0.\n",
      "[I 2025-01-16 22:11:36,932] Trial 29 finished with value: 0.005270971450954676 and parameters: {'n_units': 104, 'dropout_rate': 0.06527670851397999, 'learning_rate': 0.00048007185766154995, 'batch_size': 16, 'window_size': 23}. Best is trial 2 with value: 0.0014373167650774121.\n",
      "[I 2025-01-16 22:11:55,237] Trial 30 finished with value: 0.0016665083821862936 and parameters: {'n_units': 185, 'dropout_rate': 0.13129288241925663, 'learning_rate': 0.00018859979148100299, 'batch_size': 16, 'window_size': 30}. Best is trial 2 with value: 0.0014373167650774121.\n",
      "[I 2025-01-16 22:11:58,697] Trial 31 finished with value: 0.002865846734493971 and parameters: {'n_units': 192, 'dropout_rate': 0.12735924893723832, 'learning_rate': 0.0002195635046120125, 'batch_size': 16, 'window_size': 29}. Best is trial 2 with value: 0.0014373167650774121.\n",
      "[I 2025-01-16 22:12:05,057] Trial 32 finished with value: 0.0013337725540623069 and parameters: {'n_units': 198, 'dropout_rate': 0.13695913109987162, 'learning_rate': 0.00019947646408335145, 'batch_size': 16, 'window_size': 30}. Best is trial 32 with value: 0.0013337725540623069.\n",
      "[I 2025-01-16 22:12:12,630] Trial 33 finished with value: 0.001645220909267664 and parameters: {'n_units': 198, 'dropout_rate': 0.13092688331681857, 'learning_rate': 0.00023846296677275307, 'batch_size': 16, 'window_size': 30}. Best is trial 32 with value: 0.0013337725540623069.\n",
      "[I 2025-01-16 22:12:16,911] Trial 34 pruned. Trial was pruned at epoch 14.\n",
      "[I 2025-01-16 22:12:17,635] Trial 35 pruned. Trial was pruned at epoch 0.\n",
      "[I 2025-01-16 22:12:18,347] Trial 36 pruned. Trial was pruned at epoch 0.\n",
      "[I 2025-01-16 22:12:22,126] Trial 37 finished with value: 0.0033473786897957325 and parameters: {'n_units': 179, 'dropout_rate': 0.003508908830503421, 'learning_rate': 0.0010660278352643464, 'batch_size': 16, 'window_size': 28}. Best is trial 32 with value: 0.0013337725540623069.\n",
      "[I 2025-01-16 22:12:22,845] Trial 38 pruned. Trial was pruned at epoch 0.\n",
      "[I 2025-01-16 22:12:23,403] Trial 39 pruned. Trial was pruned at epoch 0.\n",
      "[I 2025-01-16 22:12:27,881] Trial 40 pruned. Trial was pruned at epoch 14.\n",
      "[I 2025-01-16 22:12:31,336] Trial 41 finished with value: 0.0026484725531190634 and parameters: {'n_units': 192, 'dropout_rate': 0.12570902863120847, 'learning_rate': 0.00024948095714313136, 'batch_size': 16, 'window_size': 29}. Best is trial 32 with value: 0.0013337725540623069.\n",
      "[I 2025-01-16 22:12:36,187] Trial 42 pruned. Trial was pruned at epoch 14.\n",
      "[I 2025-01-16 22:12:40,579] Trial 43 pruned. Trial was pruned at epoch 14.\n",
      "[I 2025-01-16 22:12:41,136] Trial 44 pruned. Trial was pruned at epoch 0.\n",
      "[I 2025-01-16 22:12:44,758] Trial 45 finished with value: 0.0026466315612196922 and parameters: {'n_units': 189, 'dropout_rate': 0.04734855905746976, 'learning_rate': 0.00010268107345675042, 'batch_size': 16, 'window_size': 25}. Best is trial 32 with value: 0.0013337725540623069.\n",
      "[I 2025-01-16 22:12:47,376] Trial 46 pruned. Trial was pruned at epoch 14.\n",
      "[I 2025-01-16 22:12:47,992] Trial 47 pruned. Trial was pruned at epoch 0.\n",
      "[I 2025-01-16 22:12:50,420] Trial 48 finished with value: 0.001977020874619484 and parameters: {'n_units': 143, 'dropout_rate': 0.173222940308558, 'learning_rate': 0.00010514147195932355, 'batch_size': 16, 'window_size': 27}. Best is trial 32 with value: 0.0013337725540623069.\n",
      "[I 2025-01-16 22:12:50,978] Trial 49 pruned. Trial was pruned at epoch 0.\n"
     ]
    },
    {
     "name": "stdout",
     "output_type": "stream",
     "text": [
      "Number of finished trials for Verizon:  50\n",
      "Best trial for Verizon:\n",
      "  Value: 0.0013337725540623069\n",
      "  Params: \n",
      "    n_units: 198\n",
      "    dropout_rate: 0.13695913109987162\n",
      "    learning_rate: 0.00019947646408335145\n",
      "    batch_size: 16\n",
      "    window_size: 30\n"
     ]
    }
   ],
   "source": [
    "# Create the Optuna study for Verizon\n",
    "study_v = optuna.create_study(\n",
    "    direction=\"minimize\", study_name=\"SimpleRNN_V Hyperparameter Optimization\"\n",
    ")\n",
    "study_v.optimize(objective_v, n_trials=50, timeout=600)  # Adjust as needed\n",
    "\n",
    "# Display the best trial for Verizon\n",
    "print(\"Number of finished trials for Verizon: \", len(study_v.trials))\n",
    "print(\"Best trial for Verizon:\")\n",
    "trial_v = study_v.best_trial\n",
    "\n",
    "print(\"  Value: {}\".format(trial_v.value))\n",
    "print(\"  Params: \")\n",
    "for key, value in trial_v.params.items():\n",
    "    print(\"    {}: {}\".format(key, value))"
   ]
  },
  {
   "cell_type": "code",
   "execution_count": 74,
   "metadata": {},
   "outputs": [
    {
     "name": "stdout",
     "output_type": "stream",
     "text": [
      "Epoch 1/100\n",
      "51/51 [==============================] - 1s 8ms/step - loss: 0.0200 - val_loss: 0.0075\n",
      "Epoch 2/100\n",
      "51/51 [==============================] - 0s 6ms/step - loss: 0.0088 - val_loss: 0.0078\n",
      "Epoch 3/100\n",
      "51/51 [==============================] - 0s 7ms/step - loss: 0.0076 - val_loss: 0.0072\n",
      "Epoch 4/100\n",
      "51/51 [==============================] - 0s 6ms/step - loss: 0.0081 - val_loss: 0.0113\n",
      "Epoch 5/100\n",
      "51/51 [==============================] - 0s 7ms/step - loss: 0.0073 - val_loss: 0.0110\n",
      "Epoch 6/100\n",
      "51/51 [==============================] - 0s 6ms/step - loss: 0.0081 - val_loss: 0.0079\n",
      "Epoch 7/100\n",
      "51/51 [==============================] - 0s 8ms/step - loss: 0.0066 - val_loss: 0.0086\n",
      "Epoch 8/100\n",
      "51/51 [==============================] - 0s 7ms/step - loss: 0.0070 - val_loss: 0.0093\n",
      "Epoch 9/100\n",
      "51/51 [==============================] - 0s 7ms/step - loss: 0.0063 - val_loss: 0.0089\n",
      "Epoch 10/100\n",
      "51/51 [==============================] - 0s 6ms/step - loss: 0.0067 - val_loss: 0.0092\n",
      "Epoch 11/100\n",
      "51/51 [==============================] - 0s 6ms/step - loss: 0.0066 - val_loss: 0.0083\n",
      "Epoch 12/100\n",
      "51/51 [==============================] - 0s 6ms/step - loss: 0.0065 - val_loss: 0.0117\n",
      "Epoch 13/100\n",
      "51/51 [==============================] - 0s 6ms/step - loss: 0.0066 - val_loss: 0.0099\n",
      "1/1 [==============================] - 0s 13ms/step - loss: 0.0072\n",
      "Final Model Test Mean Squared Error: 0.007217817939817905\n"
     ]
    }
   ],
   "source": [
    "# Retrieve best hyperparameters\n",
    "best_params = study_v.best_trial.params\n",
    "\n",
    "# Extract hyperparameters\n",
    "best_n_units = best_params[\"n_units\"]\n",
    "best_dropout_rate = best_params[\"dropout_rate\"]\n",
    "best_learning_rate = best_params[\"learning_rate\"]\n",
    "best_batch_size = best_params[\"batch_size\"]\n",
    "best_window_size = best_params[\"window_size\"]\n",
    "\n",
    "# Prepare the dataset with the best window size\n",
    "X_train_best, y_train_best = create_dataset(t_train_data, best_window_size)\n",
    "X_train_best = X_train_best.reshape((X_train_best.shape[0], X_train_best.shape[1], 1))\n",
    "\n",
    "X_val_best, y_val_best = create_dataset(t_test_data, best_window_size)\n",
    "X_val_best = X_val_best.reshape((X_val_best.shape[0], X_val_best.shape[1], 1))\n",
    "\n",
    "# Build the final model with best hyperparameters\n",
    "final_model = Sequential()\n",
    "final_model.add(\n",
    "    SimpleRNN(units=best_n_units, activation=\"tanh\", input_shape=(best_window_size, 1))\n",
    ")\n",
    "final_model.add(Dropout(rate=best_dropout_rate))\n",
    "final_model.add(Dense(1))\n",
    "\n",
    "# Compile the model\n",
    "optimizer = tf.keras.optimizers.legacy.Adam(learning_rate=best_learning_rate)\n",
    "final_model.compile(optimizer=optimizer, loss=\"mean_squared_error\")\n",
    "\n",
    "# Define Early Stopping\n",
    "early_stop = EarlyStopping(monitor=\"val_loss\", patience=10, restore_best_weights=True)\n",
    "\n",
    "# Train the final model\n",
    "history = final_model.fit(\n",
    "    X_train_best,\n",
    "    y_train_best,\n",
    "    epochs=100,\n",
    "    batch_size=best_batch_size,\n",
    "    validation_data=(X_val_best, y_val_best),\n",
    "    callbacks=[early_stop],\n",
    "    verbose=1,\n",
    ")\n",
    "\n",
    "# Evaluate the final model\n",
    "test_loss = final_model.evaluate(X_val_best, y_val_best)\n",
    "print(f\"Final Model Test Mean Squared Error: {test_loss}\")"
   ]
  },
  {
   "cell_type": "code",
   "execution_count": 76,
   "metadata": {},
   "outputs": [
    {
     "name": "stdout",
     "output_type": "stream",
     "text": [
      "1/1 [==============================] - 0s 13ms/step\n"
     ]
    },
    {
     "data": {
      "image/png": "[encoded data removed]",
      "text/plain": [
       "<Figure size 1400x500 with 1 Axes>"
      ]
     },
     "metadata": {},
     "output_type": "display_data"
    }
   ],
   "source": [
    "# Make predictions on test data\n",
    "y_pred_best = final_model.predict(X_val_best)\n",
    "\n",
    "# Inverse transform the scaled data\n",
    "v_y_test_actual = scaler_v.inverse_transform(y_val_best.reshape(-1, 1))\n",
    "v_y_pred_actual = scaler_v.inverse_transform(y_pred_best)\n",
    "\n",
    "# Plot the results\n",
    "plt.figure(figsize=(14, 5))\n",
    "plt.plot(v_y_test_actual, label=\"Actual Verizon Closing Price\")\n",
    "plt.plot(v_y_pred_actual, label=\"Predicted Verizon Closing Price\")\n",
    "plt.title(\"Actual vs Predicted Verizon Closing Prices\")\n",
    "plt.xlabel(\"Time\")\n",
    "plt.ylabel(\"Price\")\n",
    "plt.legend()\n",
    "plt.show()"
   ]
  }
 ],
 "metadata": {
  "kernelspec": {
   "display_name": "timeseries",
   "language": "python",
   "name": "python3"
  },
  "language_info": {
   "codemirror_mode": {
    "name": "ipython",
    "version": 3
   },
   "file_extension": ".py",
   "mimetype": "text/x-python",
   "name": "python",
   "nbconvert_exporter": "python",
   "pygments_lexer": "ipython3",
   "version": "3.11.0"
  }
 },
 "nbformat": 4,
 "nbformat_minor": 2
}
